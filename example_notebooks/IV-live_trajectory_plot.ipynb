{
 "cells": [
  {
   "cell_type": "markdown",
   "metadata": {},
   "source": [
    "# pyhelios Demo: Live LiDAR Simulation Trajectory Plot\n",
    "\n",
    "Notebook: Mark Searle, 2021\n",
    "\n",
    "***\n",
    "\n",
    "This notebook demos the excecution of a __LiDAR survey simulation__ using integrated Python functionalities to initiate __HELIOS++__.\n",
    "The trajectory of the virtual scanner which can be configured to sit upon different moving or stationary platforms is plotted __live__ using __matplotlib__.\n",
    "\n",
    "***\n",
    "The survey is configured through a __.xml survey file__ containing survey name, platform type, scanner type, and scene to be scanned along with platform and scanner settings.  \n",
    "The simulation runs in several legs which represent individual scanner trajectories and are also configured from within survey file.\n",
    "\n",
    "__The survey files are located within 'helios/data/surveys'!__\n",
    "\n",
    "The __survey used in this demo__ (`custom_als_toyblocks.xml`) should be located in this survey folder.\n",
    "\n",
    "***"
   ]
  },
  {
   "cell_type": "code",
   "execution_count": null,
   "metadata": {},
   "outputs": [],
   "source": [
    "import time\n",
    "import numpy as np\n",
    "import pyhelios"
   ]
  },
  {
   "cell_type": "code",
   "execution_count": null,
   "metadata": {},
   "outputs": [],
   "source": [
    "import os\n",
    "os.chdir(\"..\")"
   ]
  },
  {
   "cell_type": "code",
   "execution_count": null,
   "metadata": {},
   "outputs": [],
   "source": [
    "# Survey to be used.\n",
    "survey_path = 'toyblocks/custom_als_toyblocks.xml'"
   ]
  },
  {
   "cell_type": "markdown",
   "metadata": {},
   "source": [
    "## Live Trajectory Plot of LiDAR Simulation with PyHelios\n",
    "\n",
    "***\n",
    "\n",
    "1. Define Callback function to continuously extract values from simulation:"
   ]
  },
  {
   "cell_type": "code",
   "execution_count": null,
   "metadata": {},
   "outputs": [],
   "source": [
    "# Empty list for trajectory values.\n",
    "tpoints = []"
   ]
  },
  {
   "cell_type": "code",
   "execution_count": null,
   "metadata": {},
   "outputs": [],
   "source": [
    "# Callback frequency is defined through parameter simFrequency which is set once the simulation is built.\n",
    "def callback(output=None):\n",
    "    global tpoints\n",
    "    \n",
    "    # Store trajectories in variable.\n",
    "    trajectories = output[1]\n",
    "    # Add current values to list\n",
    "    try: \n",
    "        tpoints.append([trajectories[len(trajectories) - 1].position[0],\n",
    "                        trajectories[len(trajectories) - 1].position[1],\n",
    "                        trajectories[len(trajectories) - 1].position[2]])\n",
    "        \n",
    "    # At the beginning of each new simulation leg, trajectories can have the length 0.\n",
    "    # When indexing with [0 - 1] an indexing issue can occurr that is caught in this block.\n",
    "    except Exception as err:\n",
    "        #print('An Error occurred:', err)\n",
    "        pass"
   ]
  },
  {
   "cell_type": "markdown",
   "metadata": {},
   "source": [
    "1. Configure simulation context and build a simulation:"
   ]
  },
  {
   "cell_type": "code",
   "execution_count": null,
   "metadata": {},
   "outputs": [],
   "source": [
    "# Sim context.\n",
    "# Set logging.\n",
    "# pyhelios.loggingVerbose()\n",
    "# Set seed for random number generator.\n",
    "pyhelios.default_rand_generator_seed(\"123\")"
   ]
  },
  {
   "cell_type": "code",
   "execution_count": null,
   "metadata": {},
   "outputs": [],
   "source": [
    "# Build simulation parameters: (surveyPath, assetsPath, outputPath, ...).\n",
    "from pyhelios import SimulationBuilder\n",
    "\n",
    "simB = SimulationBuilder('data/surveys/' + survey_path, \"assets/\", \"output/\")\n",
    "simB.setLasOutput(True)\n",
    "simB.setZipOutput(False)\n",
    "simB.setCallbackFrequency(10000)\n",
    "simB.setFinalOutput(True)\n",
    "simB.setCallback(callback)"
   ]
  },
  {
   "cell_type": "markdown",
   "metadata": {},
   "source": [
    "2. Load survey file:"
   ]
  },
  {
   "cell_type": "code",
   "execution_count": null,
   "metadata": {},
   "outputs": [],
   "source": [
    "sim = simB.build()"
   ]
  },
  {
   "cell_type": "markdown",
   "metadata": {},
   "source": [
    "3. Create ground plane object for more comprehensive visualization:"
   ]
  },
  {
   "cell_type": "code",
   "execution_count": null,
   "metadata": {},
   "outputs": [],
   "source": [
    "# Empty list for groundplane vals.\n",
    "groundplane_list = []\n",
    "\n",
    "# List filled every 25th value from (-75, -75, 0) to (75, 75, 0).\n",
    "for i in range(-75, 76, 25):\n",
    "    for j in range(-75, 76, 25):\n",
    "        groundplane_list.append([i, j, 0])\n",
    "        \n",
    "# List converted to numpy Array.\n",
    "groundplane = np.array(groundplane_list)"
   ]
  },
  {
   "cell_type": "markdown",
   "metadata": {},
   "source": [
    "4. Define function __update_3dline__ that adds values to a line object and plots them onto a matplotlib figure from a continuously updating list."
   ]
  },
  {
   "cell_type": "code",
   "execution_count": null,
   "metadata": {},
   "outputs": [],
   "source": [
    "def update_3dline(dynamic_list, line_obj, sim, hdisplay, refresh_rate=0.5):\n",
    "    \"\"\"Continuously updates matplotlib line with values from a steadily growing list.\n",
    "     The function terminates when no new values are added to the list within the specified refresh rate.\n",
    "    \n",
    "    Parameters:\n",
    "    dynamic_list (list): A list of xyz points that is continuously growing in the background (format: [[x, y, z], [x, y, z], ...])\n",
    "    line_obj (matplotlib.axes.Axes.plot): An empty line with 3 dimensions. E.g.: l, = ax.plot([], [], [])\n",
    "    sim (pyhelios.simulation_build.SimulationBuild): The pyhelios simulation object to determine when to stop the live plot\n",
    "    hdisplay (IPython.core.display_functions.DisplayHandle): The display handle to update\n",
    "    \n",
    "    Optional:\n",
    "    refresh_rate (float, default=0.5): Determines time interval in seconds between each iteration of function.\n",
    "    \"\"\"\n",
    "    while sim.isRunning():\n",
    "        time.sleep(float(refresh_rate))\n",
    "                    \n",
    "        # Convert x, y, z list to array.\n",
    "        a = np.array(dynamic_list)\n",
    "        \n",
    "        # Update values of line with data from array.\n",
    "        line1.set_xdata(a[:,0])\n",
    "        line1.set_ydata(a[:,1])\n",
    "        line1.set_3d_properties(zs=a[:,2])\n",
    "        \n",
    "        # Update figure\n",
    "        hdisplay.update(fig)"
   ]
  },
  {
   "cell_type": "markdown",
   "metadata": {},
   "source": [
    "4. Initiate matplotlib figure and run simulation. Function from previous cell used to update line."
   ]
  },
  {
   "cell_type": "code",
   "execution_count": null,
   "metadata": {},
   "outputs": [],
   "source": [
    "import matplotlib.pyplot as plt\n",
    "import numpy as np\n",
    "from IPython import display\n",
    "\n",
    "# Matplotlib figure.\n",
    "fig = plt.figure()\n",
    "\n",
    "# Axes3d axis onto mpl figure.\n",
    "ax = fig.add_subplot(111, projection='3d')\n",
    "\n",
    "# Set axis extent.\n",
    "ax.set_xlim([-75,75])\n",
    "ax.set_ylim([-75,75])\n",
    "ax.set_zlim([0, 100])\n",
    "\n",
    "# Add axis labels.\n",
    "ax.set_xlabel('$X$')\n",
    "ax.set_ylabel('$Y$')\n",
    "ax.set_zlabel('$Z$')\n",
    "\n",
    "# Set title.\n",
    "ax.text2D(0.16, 1, \"LIVE:\", fontsize='11', transform=ax.transAxes, c='r')\n",
    "ax.text2D(0.27, 1, 'pyhelios LiDAR Simulation Trajectory Plot', fontsize='11', transform=ax.transAxes)\n",
    "\n",
    "# Plot groundplane onto figure.\n",
    "ax.plot_trisurf(groundplane[:,0], groundplane[:,1], groundplane[:,2], color='darkgoldenrod', label='groundplane', alpha=0.5)\n",
    "\n",
    "# Start the simulation.\n",
    "sim.start()\n",
    "\n",
    "time.sleep(0.2)\n",
    "hdisplay = display.display(\"\", display_id=True)\n",
    "\n",
    "# Create empty line object.\n",
    "line1, = ax.plot([], [], [])\n",
    "\n",
    "# Run function to plot trajectory while simulation is running.\n",
    "update_3dline(tpoints, line1, sim, hdisplay=hdisplay, refresh_rate=0.1)\n",
    "\n",
    "plt.close(fig)"
   ]
  },
  {
   "cell_type": "code",
   "execution_count": null,
   "metadata": {},
   "outputs": [],
   "source": []
  }
 ],
 "metadata": {
  "kernelspec": {
   "display_name": "Python 3 (ipykernel)",
   "language": "python",
   "name": "python3"
  },
  "language_info": {
   "codemirror_mode": {
    "name": "ipython",
    "version": 3
   },
   "file_extension": ".py",
   "mimetype": "text/x-python",
   "name": "python",
   "nbconvert_exporter": "python",
   "pygments_lexer": "ipython3",
   "version": "3.12.5"
  },
  "toc": {
   "base_numbering": 1,
   "nav_menu": {},
   "number_sections": true,
   "sideBar": true,
   "skip_h1_title": false,
   "title_cell": "Table of Contents",
   "title_sidebar": "Contents",
   "toc_cell": false,
   "toc_position": {},
   "toc_section_display": true,
   "toc_window_display": false
  }
 },
 "nbformat": 4,
 "nbformat_minor": 4
}
