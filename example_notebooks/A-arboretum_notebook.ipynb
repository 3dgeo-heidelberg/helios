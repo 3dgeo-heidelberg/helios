{
 "cells": [
  {
   "cell_type": "markdown",
   "id": "b594fc67",
   "metadata": {},
   "source": [
    "Hannah Weiser, 3DGeo Group, Heidelberg University\n",
    "\n",
    "November 2021\n",
    "\n",
    "***"
   ]
  },
  {
   "cell_type": "markdown",
   "id": "2ebcc150",
   "metadata": {},
   "source": [
    "# Laser scanning simulation Arboretum Heidelberg"
   ]
  },
  {
   "cell_type": "markdown",
   "id": "8d7088c5",
   "metadata": {},
   "source": [
    "In June 2021, the 3DGeo group and students of Heidelberg university acquired TLS point clouds of the trees in the Arboretum in Heidelberg, which includes several Sequoias. Using this data, let’s create a ULS simulation! We can compare this simulated point cloud with a real ULS point cloud acquired over the same area in August 2021."
   ]
  },
  {
   "cell_type": "markdown",
   "id": "f1bea8fc",
   "metadata": {},
   "source": [
    "## Objective of this HELIOS++ notebook\n",
    "\n",
    "In this Notebook, we will cover the following topics\n",
    "* Processing point cloud data for modelling HELIOS++ scenes (classification, DTM generation)\n",
    "* Configuring a scene XML to load different object data types (GeoTiffs, xyz point clouds) using the `scene_writer` module of `pyhelios.utils`\n",
    "* Configuring the survey XML using the `flight_planner` module of `pyhelios.utils`\n",
    "* Configuring and starting a simulation using `pyhelios`\n",
    "* Visualizing the simulated point cloud and trajectory using `numpy` and `matplotlib`"
   ]
  },
  {
   "cell_type": "markdown",
   "id": "0ded0b57",
   "metadata": {},
   "source": [
    "## Setup"
   ]
  },
  {
   "cell_type": "markdown",
   "id": "a8f89d67",
   "metadata": {},
   "source": [
    "We first have to make sure we have all requirements installed. In your environment, install `pdal`. With conda, this can be done with:"
   ]
  },
  {
   "cell_type": "markdown",
   "id": "10a3dd98",
   "metadata": {},
   "source": [
    "```\n",
    "conda install -c conda-forge pdal python-pdal gdal\n",
    "```"
   ]
  },
  {
   "cell_type": "markdown",
   "id": "88bb797d",
   "metadata": {},
   "source": [
    "## Imports"
   ]
  },
  {
   "cell_type": "code",
   "execution_count": null,
   "id": "3f994392",
   "metadata": {},
   "outputs": [],
   "source": [
    "import matplotlib.pyplot as plt\n",
    "import pdal\n",
    "from IPython.display import display\n",
    "import numpy as np\n",
    "from mpl_toolkits.mplot3d import Axes3D\n",
    "from pathlib import Path, PurePath\n",
    "import shutil\n",
    "import time\n",
    "import math\n",
    "import laspy  # install with \"pip install laspy[laszip]\"\n",
    "import urllib.request\n",
    "import sys\n",
    "import os\n",
    "import pyhelios\n",
    "from pyhelios import outputToNumpy, SimulationBuilder\n",
    "from pyhelios.util import flight_planner, scene_writer\n",
    "from ipywidgets import Dropdown\n",
    "os.chdir(\"..\")"
   ]
  },
  {
   "cell_type": "markdown",
   "id": "8b173fce",
   "metadata": {},
   "source": [
    "## Input data\n",
    "\n",
    "1) TLS point cloud\n",
    "\n",
    "`arboretum_data/2021-06-18_TLS_Arboretum_VZ-2000i_preprocessed.laz`\n",
    "This is a preprocessed point cloud of the scene, [acquired by TLS (terrestrial laser scanning) in June 2021](http://k1z.blog.uni-heidelberg.de/2021/06/21/measuring-the-tallest-sequoias-of-germany-in-student-field-campaign/). We did a simple subsampling in [CloudCompare](www.cloudcompare.org) using the \"space\" option and a value of 10 cm. We then extracted a rectangular subsection of the entire point cloud (bounding box: 478845.830, 5471966.184, 478983.243, 5472121.949). We filtered this point cloud by deviation, keeping only points with values below 25. Lastly, we applied a statistical outlier removal (SOR) filter with the standard deviation quantified on 6 points and a threshold *nSigma* of 1.5.\n",
    "\n",
    "2) Real ULS point cloud\n",
    "\n",
    "`arboretum_data/2021-08-17_ULS_Arboretum_AOI.laz`\n",
    "This is a ULS (UAV-borne laser scanning) point cloud acquired over the same area in August 2021. We will use this as a reference for comparison with our simulated laser scanning data."
   ]
  },
  {
   "cell_type": "markdown",
   "id": "207cbec2",
   "metadata": {},
   "source": [
    "Let's check if the files are already existing, other wise we will download them."
   ]
  },
  {
   "cell_type": "code",
   "execution_count": null,
   "id": "9b8236b8",
   "metadata": {},
   "outputs": [],
   "source": [
    "def reporthook(count, block_size, total_size):\n",
    "    percent = min(int(count * block_size * 100 / total_size), 100)\n",
    "    print(\"\\r...{}%\".format(percent), end=\"\")\n",
    "        \n",
    "def download_data(filename, url):\n",
    "    if not Path(filename).exists():\n",
    "        print(\"Downloading data from '{}' to '{}'. Please wait ...\".format(url, filename))\n",
    "        if not Path(filename).parent.exists():\n",
    "            Path(filename).parent.mkdir()\n",
    "        urllib.request.urlretrieve(url, filename, reporthook=reporthook)\n",
    "        print(\"\\nDownload finished\")\n",
    "    else:\n",
    "        print(\"File already exists. Great!\")\n",
    "\n",
    "data_tls = \"arboretum_data/2021-06-18_TLS_Arboretum_VZ-2000i_preprocessed.laz\"\n",
    "data_uls = \"arboretum_data/2021-08-17_ULS_Arboretum_AOI.laz\"\n",
    "url_tls = \"https://3dweb.geog.uni-heidelberg.de/helios_example_arboretum/2021-06-18_TLS_Arboretum_VZ-2000i_preprocessed.laz\"\n",
    "url_uls = \"https://3dweb.geog.uni-heidelberg.de//helios_example_arboretum/2021-08-17_ULS_Arboretum_AOI.laz\"\n",
    "\n",
    "download_data(data_tls, url_tls)\n",
    "download_data(data_uls, url_uls)"
   ]
  },
  {
   "cell_type": "markdown",
   "id": "c82aefea",
   "metadata": {},
   "source": [
    "## The right settings for your system\n",
    "\n",
    "A very detailed simulation might require a lot of memory and might crash or take very long depending on your available run. Therefore, choose one of the following options to configure your survey."
   ]
  },
  {
   "cell_type": "code",
   "execution_count": null,
   "id": "cb134167",
   "metadata": {},
   "outputs": [],
   "source": [
    "style = {'description_width': 'initial'}\n",
    "\n",
    "def set_mode(selection):\n",
    "    if selection == \"light\":\n",
    "        voxel_size = 1.0\n",
    "    elif selection == \"medium\":\n",
    "        voxel_size = 0.25\n",
    "    elif selection == \"heavy\": \n",
    "        voxel_size = 0.1\n",
    "    \n",
    "    return voxel_size\n",
    "\n",
    "dropdown = Dropdown(\n",
    "    options=['light', 'medium', 'heavy'],\n",
    "    value='heavy',\n",
    "    description='Which version do you want to run?',\n",
    "    style=style,\n",
    "    disabled=False)\n",
    "\n",
    "voxel_size = None\n",
    "def on_change(change):\n",
    "    voxel_size = dropdown.value\n",
    "    if change[\"type\"] == \"change\" and change[\"name\"] == \"value\":\n",
    "        print(\"changed to {}\".format(change[\"new\"]))\n",
    "        selection = dropdown.value\n",
    "        voxel_size = set_mode(selection)\n",
    "        print(f\"You chose '{selection}'. Setting voxel size to {voxel_size} m.\")\n",
    "        \n",
    "dropdown.observe(on_change)\n",
    "display(dropdown)"
   ]
  },
  {
   "cell_type": "code",
   "execution_count": null,
   "id": "82884e98",
   "metadata": {},
   "outputs": [],
   "source": [
    "voxel_size = set_mode(dropdown.value)"
   ]
  },
  {
   "cell_type": "code",
   "execution_count": null,
   "id": "b1d5aff0",
   "metadata": {},
   "outputs": [],
   "source": [
    "voxel_size"
   ]
  },
  {
   "cell_type": "markdown",
   "id": "a538695a",
   "metadata": {},
   "source": [
    "## Point cloud classification and DTM computation"
   ]
  },
  {
   "cell_type": "markdown",
   "id": "7e644b6c",
   "metadata": {},
   "source": [
    "Next, we compute a digital terrain model (DTM), which we will model in HELIOS++ separately from the trees. We use the [python extension](https://github.com/PDAL/python) of the open source library [PDAL](https://pdal.io/) (Point Data Abstraction Library) to create the DTM."
   ]
  },
  {
   "cell_type": "markdown",
   "id": "7e0c0ef9",
   "metadata": {},
   "source": [
    "First, we define our output filenames."
   ]
  },
  {
   "cell_type": "code",
   "execution_count": null,
   "id": "5a02940f",
   "metadata": {},
   "outputs": [],
   "source": [
    "data_classified = data_tls.replace(\"preprocessed\", \"classified\")\n",
    "dtm_output = data_tls.replace(\"preprocessed.laz\", \"dtm_50cm.tif\")\n",
    "vegetation_output = data_tls.replace(\"preprocessed.laz\", \"vegetation.xyz\")"
   ]
  },
  {
   "cell_type": "markdown",
   "id": "4746c030",
   "metadata": {},
   "source": [
    "We start by classifying the point cloud into ground and non-ground points using the Simple Morphological Filter (SMRF) (see also [Pingel et al. 2013](https://doi.org/10.1016/j.isprsjprs.2012.12.002))."
   ]
  },
  {
   "cell_type": "code",
   "execution_count": null,
   "id": "b70b08be",
   "metadata": {},
   "outputs": [],
   "source": [
    "json_classification = \"\"\"[\n",
    "    \"%s\",\n",
    "    {\n",
    "        \"type\":\"filters.smrf\",\n",
    "        \"ignore\":\"Classification[7:7]\",\n",
    "        \"window\":33,\n",
    "        \"slope\":0.2,\n",
    "        \"threshold\":0.5,\n",
    "        \"cell\":1.0\n",
    "    },\n",
    "    {\n",
    "        \"type\":\"filters.outlier\",\n",
    "        \"method\":\"statistical\",\n",
    "        \"mean_k\":8,\n",
    "        \"multiplier\":3.0\n",
    "    },\n",
    "    {\n",
    "        \"type\":\"writers.las\",\n",
    "        \"filename\": \"%s\",\n",
    "        \"compression\":\"true\"\n",
    "    }\n",
    "]\"\"\""
   ]
  },
  {
   "cell_type": "code",
   "execution_count": null,
   "id": "e154bce0",
   "metadata": {},
   "outputs": [],
   "source": [
    "if not Path(data_classified).exists(): \n",
    "    pipeline = pdal.Pipeline(json_classification % (data_tls, data_classified))\n",
    "    pipe_exe = pipeline.execute()"
   ]
  },
  {
   "cell_type": "markdown",
   "id": "70b949cc",
   "metadata": {},
   "source": [
    "Then, we use only the ground points (class 2, according to the ASPRS Standard point classes of the [LAS format specification](http://www.asprs.org/wp-content/uploads/2019/07/LAS_1_4_r15.pdf), p. 19, Table 9) to create a DTM of 1 m resolution."
   ]
  },
  {
   "cell_type": "code",
   "execution_count": null,
   "id": "4fa17317",
   "metadata": {},
   "outputs": [],
   "source": [
    "json_dtm = \"\"\"[\n",
    "    \"%s\",\n",
    "    {\n",
    "        \"type\":\"filters.range\",\n",
    "        \"limits\":\"Classification[2:2]\"\n",
    "    },\n",
    "    {\n",
    "        \"type\":\"writers.gdal\",\n",
    "        \"filename\": \"%s\",\n",
    "        \"output_type\":\"min\",\n",
    "        \"gdaldriver\":\"GTiff\",\n",
    "        \"resolution\":1.0,\n",
    "        \"window_size\":8\n",
    "    }\n",
    "]\"\"\""
   ]
  },
  {
   "cell_type": "code",
   "execution_count": null,
   "id": "aa34ae38",
   "metadata": {},
   "outputs": [],
   "source": [
    "if not Path(dtm_output).exists():\n",
    "    pipeline = pdal.Pipeline(json_dtm % (data_classified, dtm_output))\n",
    "    pipe_exe = pipeline.execute()"
   ]
  },
  {
   "cell_type": "markdown",
   "id": "0dec6c81",
   "metadata": {},
   "source": [
    "We also want to export the non-ground points (= vegetation points) to an ASCII format. "
   ]
  },
  {
   "cell_type": "code",
   "execution_count": null,
   "id": "ea87db39",
   "metadata": {},
   "outputs": [],
   "source": [
    "json_vegetation = \"\"\"[\n",
    "    \"%s\",\n",
    "    {\n",
    "        \"type\":\"filters.range\",\n",
    "        \"limits\":\"Classification[0:1]\"\n",
    "    },\n",
    "    {\n",
    "        \"type\":\"writers.text\",\n",
    "        \"filename\": \"%s\",\n",
    "        \"order\":\"X,Y,Z\",\n",
    "        \"precision\":6,\n",
    "        \"keep_unspecified\":\"false\",\n",
    "        \"write_header\":\"false\"\n",
    "    }\n",
    "]\"\"\""
   ]
  },
  {
   "cell_type": "code",
   "execution_count": null,
   "id": "9e1c393c",
   "metadata": {},
   "outputs": [],
   "source": [
    "if not Path(vegetation_output).exists():\n",
    "    pipeline = pdal.Pipeline(json_vegetation % (data_classified, vegetation_output))\n",
    "    pipe_exe = pipeline.execute()"
   ]
  },
  {
   "cell_type": "markdown",
   "id": "13a72024",
   "metadata": {},
   "source": [
    "Now we have all the **scenepart** files needed to build a survey: The DTM and the vegetation point cloud."
   ]
  },
  {
   "cell_type": "markdown",
   "id": "19839b47",
   "metadata": {},
   "source": [
    "## Writing the scene\n",
    "\n",
    "To perform the scene generation and flight planning, we will use the extra tool `scene_writer.py` which comes with the `pyhelios` package."
   ]
  },
  {
   "cell_type": "markdown",
   "id": "54aeff0d",
   "metadata": {},
   "source": [
    "Let's first move our **scenepart** files into a folder `arboretum_hd` in `helios\\data\\sceneparts`:"
   ]
  },
  {
   "cell_type": "code",
   "execution_count": null,
   "id": "907160ca",
   "metadata": {},
   "outputs": [],
   "source": [
    "scenepart_folder = Path(\"data/sceneparts/arboretum_hd\")\n",
    "if not scenepart_folder.exists():\n",
    "    Path.mkdir(scenepart_folder)"
   ]
  },
  {
   "cell_type": "code",
   "execution_count": 14,
   "id": "01674b55",
   "metadata": {
    "scrolled": true
   },
   "outputs": [],
   "source": [
    "dtm_file = Path(scenepart_folder, PurePath(dtm_output).name)\n",
    "if not dtm_file.exists():\n",
    "    shutil.copy(dtm_output, dtm_file)"
   ]
  },
  {
   "cell_type": "code",
   "execution_count": 15,
   "id": "be865c83",
   "metadata": {},
   "outputs": [],
   "source": [
    "vegetation_file = Path(scenepart_folder, PurePath(vegetation_output).name)\n",
    "if not vegetation_file.exists():\n",
    "    shutil.copy(vegetation_output, vegetation_file)"
   ]
  },
  {
   "cell_type": "markdown",
   "id": "d58559be",
   "metadata": {},
   "source": [
    "Next, we will assemble the **scene**. In the scene-folder (`helios\\data\\scenes`), let’s create a new folder which we will also call `arboretum_hd`. Here, we will create a new xml-file called `arboretum_VZ-2000i.xml`. "
   ]
  },
  {
   "cell_type": "code",
   "execution_count": 16,
   "id": "3ee99280",
   "metadata": {},
   "outputs": [],
   "source": [
    "scene_folder = Path(\"data/scenes/arboretum_hd\")\n",
    "if not scene_folder.exists():\n",
    "    Path.mkdir(scene_folder)"
   ]
  },
  {
   "cell_type": "code",
   "execution_count": 17,
   "id": "a00e970b",
   "metadata": {},
   "outputs": [],
   "source": [
    "dtm_part = scene_writer.create_scenepart_tiff(dtm_file)\n",
    "vegetation_part = scene_writer.create_scenepart_xyz(vegetation_file, sep=\",\", voxel_size=voxel_size)\n",
    "scene_id = \"arboretum\"\n",
    "scene_content = scene_writer.build_scene(scene_id=scene_id, name=\"Arboretum\", sceneparts=[dtm_part, vegetation_part])"
   ]
  },
  {
   "cell_type": "code",
   "execution_count": 18,
   "id": "a2bef3db",
   "metadata": {},
   "outputs": [],
   "source": [
    "print(scene_content)"
   ]
  },
  {
   "cell_type": "markdown",
   "id": "6c520898",
   "metadata": {},
   "source": [
    "The first `<part>` is the DTM, which is loaded with the `geotiffloader`.\n",
    "\n",
    "The second `<part>` is the vegetation, for which we voxelize the vegetation point cloud with a voxel size of 0.2 m using the `xyzloader`.\n",
    "\n",
    "For more information on the scene XML file and the different loaders, check out the [scene page in the HELIOS++ Wiki](https://github.com/3dgeo-heidelberg/helios/wiki/Scene). "
   ]
  },
  {
   "cell_type": "code",
   "execution_count": 19,
   "id": "859b6e4c",
   "metadata": {},
   "outputs": [],
   "source": [
    "scene_file = scene_folder / \"arboretum_VZ-2000i.xml\""
   ]
  },
  {
   "cell_type": "code",
   "execution_count": 20,
   "id": "ff35ab3c",
   "metadata": {},
   "outputs": [],
   "source": [
    "with open(scene_file, \"w\") as f:\n",
    "    f.write(scene_content)"
   ]
  },
  {
   "cell_type": "markdown",
   "id": "12696762",
   "metadata": {},
   "source": [
    "## Configuring the survey"
   ]
  },
  {
   "cell_type": "markdown",
   "id": "fae7b2a2",
   "metadata": {},
   "source": [
    "Now we have to configure the survey. We create another XML file in the `surveys` folder (`helios/data/surveys`), which we may call `arboretum_uls.xml`."
   ]
  },
  {
   "cell_type": "code",
   "execution_count": 21,
   "id": "09b84366",
   "metadata": {},
   "outputs": [],
   "source": [
    "survey_file = \"data/surveys/arboretum_uls.xml\""
   ]
  },
  {
   "cell_type": "markdown",
   "id": "cae207d7",
   "metadata": {},
   "source": [
    "To perform the flight planning, we will use the `flight_planner` which comes with the `pyhelios` package."
   ]
  },
  {
   "cell_type": "markdown",
   "id": "dcb676bb",
   "metadata": {},
   "source": [
    "We first define the bounding box of our area of interest."
   ]
  },
  {
   "cell_type": "code",
   "execution_count": 22,
   "id": "c7dc6fdd",
   "metadata": {},
   "outputs": [],
   "source": [
    "bbox = [478845.830, 5471966.184, 478983.243, 5472121.949]"
   ]
  },
  {
   "cell_type": "markdown",
   "id": "89c594c0",
   "metadata": {},
   "source": [
    "Next, we create a flight plan for this bounding box for a given strip spacing, and flight pattern. We furthermore rotate this pattern by 45 degrees."
   ]
  },
  {
   "cell_type": "code",
   "execution_count": 23,
   "id": "aa552c24",
   "metadata": {},
   "outputs": [],
   "source": [
    "wp, c, dist = flight_planner.compute_flight_lines(bbox, spacing=30, rotate_deg=45, flight_pattern=\"criss-cross\")"
   ]
  },
  {
   "cell_type": "markdown",
   "id": "0b840c89",
   "metadata": {},
   "source": [
    "Let's visualize our flight plan and validate that it looks as expected."
   ]
  },
  {
   "cell_type": "code",
   "execution_count": 24,
   "id": "b60b9c2c",
   "metadata": {},
   "outputs": [],
   "source": [
    "plot = flight_planner.plot_flight_plan(wp)"
   ]
  },
  {
   "cell_type": "markdown",
   "id": "a7531830",
   "metadata": {},
   "source": [
    "Now, we'll set the flying speed and the altitude."
   ]
  },
  {
   "cell_type": "code",
   "execution_count": 25,
   "id": "54f8c7ae",
   "metadata": {},
   "outputs": [],
   "source": [
    "speed = 5.0\n",
    "altitude = 465  # important: Absolute height, not height above ground!"
   ]
  },
  {
   "cell_type": "markdown",
   "id": "adfa7951",
   "metadata": {},
   "source": [
    "And export the legs for the survey XML-file."
   ]
  },
  {
   "cell_type": "code",
   "execution_count": 26,
   "id": "a327312d",
   "metadata": {},
   "outputs": [],
   "source": [
    "legs = flight_planner.write_legs(wp, altitude=altitude, template_id=\"uls_template\", speed=speed)"
   ]
  },
  {
   "cell_type": "markdown",
   "id": "ce2ff28f",
   "metadata": {},
   "source": [
    "We can now write our survey file:"
   ]
  },
  {
   "cell_type": "code",
   "execution_count": 27,
   "id": "b828b0df",
   "metadata": {},
   "outputs": [],
   "source": [
    "survey_content = \"\"\"<?xml version=\"1.0\" encoding=\"UTF-8\"?>\n",
    "<document>\n",
    "\t<scannerSettings id=\"uls_template\" active=\"true\" scanAngle_deg=\"90\" pulseFreq_hz=\"100000\" scanFreq_hz=\"50\" />\n",
    "\t<survey name=\"Arboretum\" platform=\"data/platforms.xml#copter_linearpath\" scanner=\"data/scanners_als.xml#riegl_vux-1uav\" scene=\"{}#{}\">\n",
    "    {}\n",
    "\t</survey>\n",
    "</document>\n",
    "\n",
    "\"\"\".format(scene_file, scene_id, legs)"
   ]
  },
  {
   "cell_type": "markdown",
   "id": "b6a8b507",
   "metadata": {},
   "source": [
    "We define the default scanner settings in the first tag (`<scannerSettings ...>`). In the `<survey ...>` tag, we provide the scanner, platform, and scene that the survey should use. Then we need to write the individual legs between the opening and the closing survey tags to define the scanner location, movement and speed. An overview of all possible parameters is given on the [survey page in our Wiki](https://github.com/3dgeo-heidelberg/helios/wiki/Survey). \n",
    "\n",
    "We can now write our survey to the file:"
   ]
  },
  {
   "cell_type": "code",
   "execution_count": 28,
   "id": "7c2e2f2c",
   "metadata": {},
   "outputs": [],
   "source": [
    "with open(survey_file, \"w\") as f:\n",
    "    f.write(survey_content)"
   ]
  },
  {
   "cell_type": "markdown",
   "id": "8e50c607",
   "metadata": {},
   "source": [
    "Now we are ready to go. We can execute the survey from this notebook using the helios python bindings that we imported in the beginning of the notebook. \n",
    "A small introduction on using the python bindings can be found here:\n",
    "* [Python bindings: Getting started](https://github.com/3dgeo-heidelberg/helios/wiki/Python-bindings-%F0%9F%90%8D-Getting-started)\n",
    "* [Python bindings: Scene manipulation](https://github.com/3dgeo-heidelberg/helios/wiki/Python-bindings-%F0%9F%90%8D-Scene-manipulation)"
   ]
  },
  {
   "cell_type": "markdown",
   "id": "4718518e",
   "metadata": {},
   "source": [
    "Configure simulation context and build a simulation:"
   ]
  },
  {
   "cell_type": "code",
   "execution_count": 29,
   "id": "4e1f4496",
   "metadata": {},
   "outputs": [],
   "source": [
    "# Sim context.\n",
    "# Set logging.\n",
    "pyhelios.logging_quiet()\n",
    "# Set seed for random number generator.\n",
    "pyhelios.default_rand_generator_seed(\"123\")"
   ]
  },
  {
   "cell_type": "code",
   "execution_count": 30,
   "id": "91f63c48",
   "metadata": {},
   "outputs": [],
   "source": [
    "# use SimulationBuilder to configure simulation\n",
    "simB = SimulationBuilder(str(survey_file), \"assets/\", \"output/\")\n",
    "simB.setLasOutput(True)\n",
    "simB.setZipOutput(True)\n",
    "simB.setCallbackFrequency(10000)"
   ]
  },
  {
   "cell_type": "markdown",
   "id": "915e558d",
   "metadata": {},
   "source": [
    "Now, we can build the simulation and load the survey. Loading the survey will take a while, so please be patient."
   ]
  },
  {
   "cell_type": "code",
   "execution_count": 31,
   "id": "16c31e67",
   "metadata": {},
   "outputs": [],
   "source": [
    "# build the simulation \n",
    "sim = simB.build()"
   ]
  },
  {
   "cell_type": "code",
   "execution_count": 32,
   "id": "dcb50cbd",
   "metadata": {},
   "outputs": [],
   "source": [
    "# Start the simulation.\n",
    "start_time = time.time()\n",
    "sim.start()\n",
    "\n",
    "if sim.isStarted():\n",
    "    print('Simulation has started!\\nSurvey Name: {survey_name}\\n{scanner_info}'.format(\n",
    "        survey_name = sim.sim.survey.name,\n",
    "        scanner_info = sim.sim.scanner.to_string()))"
   ]
  },
  {
   "cell_type": "code",
   "execution_count": 33,
   "id": "d2b14ea0",
   "metadata": {},
   "outputs": [],
   "source": [
    "while sim.isRunning():\n",
    "    duration = time.time()-start_time\n",
    "    mins = duration // 60\n",
    "    secs = duration % 60\n",
    "    print(\"\\r\"+\"Simulation is running since {} min and {} sec. Please wait.\".format(int(mins), int(secs)), end=\"\")\n",
    "    time.sleep(10)\n",
    "\n",
    "if sim.isFinished():\n",
    "    print(\"\\n\"+\"Simulation has finished!\")"
   ]
  },
  {
   "cell_type": "markdown",
   "id": "4fff2fde",
   "metadata": {},
   "source": [
    "Once the simulation is finished, we can process the outputs."
   ]
  },
  {
   "cell_type": "code",
   "execution_count": 34,
   "id": "be701a05",
   "metadata": {},
   "outputs": [],
   "source": [
    "# Create instance of PyHeliosOutputWrapper class using sim.join(). \n",
    "# Contains attributes 'measurements' and 'trajectories' which are Python wrappers of classes that contain the output vectors.\n",
    "output = sim.join()\n",
    "\n",
    "# Create instances of vector classes by accessing 'measurements' and 'trajectories' attributes of output wrapper.\n",
    "measurements = output[0]\n",
    "trajectories = output[1]\n",
    "\n",
    "# Get amount of points in trajectory and amount of measurements by accessing length of measurement and trajectory vectors.\n",
    "print('Number of measurements : {n}'.format(n=len(measurements)))\n",
    "print('Number of points in trajectory : {n}'.format(n=len(trajectories)))"
   ]
  },
  {
   "cell_type": "markdown",
   "id": "08b6b65b",
   "metadata": {},
   "source": [
    "The simulation outputs can be found in `helios\\output\\Survey Playback\\Arboretum\\YYYY-MM-DD_HH-MM-SS\\points`. For each run a folder will be created in the \"Arboretum\"-folder named by the timestamp of execution. There is one point cloud and trajecotry file for each flight strip."
   ]
  },
  {
   "cell_type": "markdown",
   "id": "91a14abb",
   "metadata": {},
   "source": [
    "## Plot the point cloud and trajectory\n",
    "\n",
    "`pyhelios` has a function `outputToNumpy` which returns both measurement and trajectory output of HELIOS++ as numpy arrays. We use this function below and then plot our point clouds with `matplotlib`."
   ]
  },
  {
   "cell_type": "code",
   "execution_count": 35,
   "id": "c67dc054",
   "metadata": {},
   "outputs": [],
   "source": [
    "# Output is two np.arrays. One for measurements and one for trajectory points.\n",
    "measurement_points, trajectory_points = outputToNumpy(output)"
   ]
  },
  {
   "cell_type": "markdown",
   "id": "d264be18",
   "metadata": {},
   "source": [
    "We saw earlier, that we simulated millions of points. Let's subsample them for plotting and show only every 50th point. "
   ]
  },
  {
   "cell_type": "code",
   "execution_count": 36,
   "id": "055aa9c9",
   "metadata": {},
   "outputs": [],
   "source": [
    "# Points to be plotted\n",
    "# First three cols are x, y and z vals\n",
    "traj_points=trajectory_points[:,:3]\n",
    "points = measurement_points[::50,:3]"
   ]
  },
  {
   "cell_type": "code",
   "execution_count": null,
   "id": "263a7692",
   "metadata": {},
   "outputs": [],
   "source": [
    "# Matplotlib figure.\n",
    "fig = plt.figure(figsize=(8,5))\n",
    "# Axes3d axis onto mpl figure.\n",
    "ax = fig.add_subplot(projection='3d')\n",
    "\n",
    "# Scatter plot of points (coloured by height).\n",
    "sc = ax.scatter(points[:, 0], points[:, 1], points[:, 2], c=points[:, 2], cmap=\"rainbow\", s=0.02, label='scene')\n",
    "# Plot of trajectory.\n",
    "ax.plot(traj_points[:,0], traj_points[:,1], traj_points[:,2], c = 'black', label = 'scanner trajectory')\n",
    "cax = plt.axes([0.85, 0.2, 0.025, 0.55])\n",
    "cbar = plt.colorbar(sc, cax=cax)\n",
    "cbar.set_label(\"Height ($Z$)\")\n",
    "\n",
    "# Add axis labels.\n",
    "ax.set_xlabel('$X$')\n",
    "ax.set_ylabel('$Y$')\n",
    "ax.set_zlabel('$Z$')\n",
    "\n",
    "# set equal axes\n",
    "box = (np.ptp(points[:, 0]), np.ptp(points[:, 1]), np.ptp(points[:, 2]))\n",
    "ax.set_box_aspect(box)  \n",
    "\n",
    "# Set title.\n",
    "ax.set_title(label='Point cloud and trajectory from pyhelios simulation in Heidelberg')\n",
    "# Set subtitle.\n",
    "ax.text2D(0.1, 0.97, \"survey: {s}\".format(s=sim.sim.survey.name, n=len(trajectories)),\n",
    "                                                                              fontsize='10', transform=ax.transAxes)\n",
    "ax.view_init(elev=10, azim=145)\n",
    "\n",
    "# Display results\n",
    "plt.show()"
   ]
  },
  {
   "cell_type": "markdown",
   "id": "b3a5c69a",
   "metadata": {},
   "source": [
    "Let's extract a section of the original and the simulated point cloud..."
   ]
  },
  {
   "cell_type": "code",
   "execution_count": 38,
   "id": "0ca57b9d",
   "metadata": {},
   "outputs": [],
   "source": [
    "xmin, ymin, xmax, ymax = [478894.3, 5472000.0, 478899.3, 5472100.0]\n",
    "\n",
    "section_sim = measurement_points[(measurement_points[:, 0] > xmin) & \n",
    "                                 (measurement_points[:, 0] < xmax) & \n",
    "                                 (measurement_points[:, 1] > ymin) & \n",
    "                                 (measurement_points[:, 1] < ymax)]\n",
    "import laspy\n",
    "with laspy.open(data_uls) as f:\n",
    "    las = f.read()\n",
    "\n",
    "    arr = np.vstack((las.x, las.y, las.z)).transpose()\n",
    "    section_or = arr[(arr[:, 0] > xmin) & \n",
    "                     (arr[:, 0] < xmax) & \n",
    "                     (arr[:, 1] > ymin) & \n",
    "                     (arr[:, 1] < ymax)]"
   ]
  },
  {
   "cell_type": "markdown",
   "id": "61f263ab",
   "metadata": {},
   "source": [
    "... and plot this:"
   ]
  },
  {
   "cell_type": "code",
   "execution_count": 39,
   "id": "d1c92f15",
   "metadata": {
    "scrolled": true
   },
   "outputs": [],
   "source": [
    "# Matplotlib figure.\n",
    "fig = plt.figure(figsize=(9,5))\n",
    "# Axes3d axis onto mpl figure.\n",
    "ax = fig.add_subplot()\n",
    "\n",
    "# Scatter plot of original and simulated points in different colors\n",
    "ax.scatter(section_or[:, 1], section_or[:, 2], c=\"orange\", s=0.01)\n",
    "ax.scatter(section_sim[:, 1], section_sim[:, 2], c=\"cornflowerblue\", s=0.01)\n",
    "\n",
    "# Add axis labels.\n",
    "ax.set_xlabel('$Y$')\n",
    "ax.set_ylabel('$Z$')\n",
    "ax.axis('equal')\n",
    "\n",
    "from matplotlib.lines import Line2D\n",
    "legend_elements = [Line2D([0], [0], marker='o', color='w', label='Real ULS point cloud',\n",
    "                          markerfacecolor='orange', markersize=5),\n",
    "          Line2D([0], [0], marker='o', color='w', label='Simulated ULS point cloud',\n",
    "                          markerfacecolor='cornflowerblue', markersize=5)]\n",
    "plt.legend(handles=legend_elements)\n",
    "\n",
    "# Set title.\n",
    "from textwrap import wrap\n",
    "title = ax.set_title(\"\\n\".join(wrap(\"Point cloud of a section through the real and simulated ULS point clouds.\", 50)))\n",
    "\n",
    "plt.show()"
   ]
  },
  {
   "cell_type": "markdown",
   "id": "2e4dcc86",
   "metadata": {},
   "source": [
    "Execute the following code to load the point cloud simulated using a voxel size of 0.1 m, e.g., if you were not able to simulate with such a small voxel size on your machine (click the box and change from \"Raw NBConvert\" to \"Code\" or simply press `esc` and then `y`)."
   ]
  },
  {
   "cell_type": "raw",
   "id": "8884272c",
   "metadata": {},
   "source": [
    "url_uls_sim = \"https://3dweb.geog.uni-heidelberg.de//helios_example_arboretum/ULS_Arboretum_sim_vox_10cm.laz\"\n",
    "data_uls_sim = \"arboretum_data/ULS_Arboretum_sim_vox_10cm.laz\"\n",
    "download_data(data_uls_sim, url_uls_sim)\n",
    "\n",
    "with laspy.open(data_uls_sim) as f:\n",
    "    las = f.read()\n",
    "\n",
    "    arr = np.vstack((las.x, las.y, las.z)).transpose()\n",
    "    section_sim = arr[(arr[:, 0] > xmin) & \n",
    "                     (arr[:, 0] < xmax) & \n",
    "                     (arr[:, 1] > ymin) & \n",
    "                     (arr[:, 1] < ymax)]"
   ]
  },
  {
   "cell_type": "markdown",
   "id": "319bc40b",
   "metadata": {},
   "source": [
    "Let's create another plot where we can see the point clouds side by side."
   ]
  },
  {
   "cell_type": "code",
   "execution_count": 40,
   "id": "e2191048",
   "metadata": {},
   "outputs": [],
   "source": [
    "fig, axs = plt.subplots(2, 1, figsize=(8,12))\n",
    "axs[0].scatter(section_or[:, 1], section_or[:, 2], color=\"orange\", s=0.01)\n",
    "axs[0].set_title(\"Real point cloud\")\n",
    "axs[0].set_xlabel('$Y$')\n",
    "axs[0].set_ylabel('$Z$')\n",
    "axs[0].axis(\"equal\")\n",
    "#plt.subplot(212)\n",
    "axs[1].scatter(section_sim[:, 1], section_sim[:, 2], color=\"cornflowerblue\", s=0.01)\n",
    "axs[1].set_title(\"Simulated point cloud\")\n",
    "axs[1].set_xlabel('$Y$')\n",
    "axs[1].set_ylabel('$Z$')\n",
    "axs[1].axis(\"equal\")\n",
    "fig.subplots_adjust(hspace=0.2)\n",
    "plt.show()"
   ]
  },
  {
   "cell_type": "markdown",
   "id": "f17df1b8",
   "metadata": {},
   "source": [
    "We can see some differences in the simulated point clouds, especially the upper canopy. In the input TLS point clouds, there are occluded areas and areas with low point density in the upper canopy. This will result in an \"incomplete\" or sparse voxel model of some tree crowns, which of course propagates into the simulated point cloud."
   ]
  },
  {
   "cell_type": "markdown",
   "id": "b8992dd8",
   "metadata": {},
   "source": []
  }
 ],
 "metadata": {
  "kernelspec": {
   "display_name": "Python 3 (ipykernel)",
   "language": "python",
   "name": "python3"
  },
  "language_info": {
   "codemirror_mode": {
    "name": "ipython",
    "version": 3
   },
   "file_extension": ".py",
   "mimetype": "text/x-python",
   "name": "python",
   "nbconvert_exporter": "python",
   "pygments_lexer": "ipython3",
   "version": "3.12.5"
  }
 },
 "nbformat": 4,
 "nbformat_minor": 5
}
