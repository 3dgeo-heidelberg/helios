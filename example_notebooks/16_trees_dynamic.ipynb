{
 "cells": [
  {
   "cell_type": "markdown",
   "source": [
    "# Terrestrial and UAV-borne Laser Scanning of Small Apple Trees with Leaf Flutter\n",
    "\n",
    "Notebook: Hannah Weiser, 2023\n",
    "\n",
    "This is a demonstration of scanning a [dynamic scene](https://github.com/3dgeo-heidelberg/helios/wiki/Dynamic-scenes), consisting of a tree with moving leaves.\n",
    "\n",
    "We will use the command-line access of HELIOS++ to run the simulation, and use Python just for displaying the input XMLs and the resulting point clouds."
   ],
   "metadata": {
    "collapsed": false
   }
  },
  {
   "cell_type": "code",
   "execution_count": 2,
   "outputs": [],
   "source": [
    "import sys, os\n",
    "from pathlib import Path\n",
    "from IPython.display import Code\n",
    "\n",
    "current_folder = globals()['_dh'][0]\n",
    "helios_path = str(Path(current_folder).parent)\n",
    "sys.path.append(helios_path)  # add helios-plusplus directory to PATH\n",
    "import pyhelios\n",
    "\n",
    "from pyhelios.util.xmldisplayer import display_xml, find_playback_dir\n",
    "\n",
    "os.chdir(helios_path)"
   ],
   "metadata": {
    "collapsed": false,
    "ExecuteTime": {
     "start_time": "2023-08-23T09:34:16.841667Z",
     "end_time": "2023-08-23T09:34:17.164671Z"
    }
   }
  },
  {
   "cell_type": "markdown",
   "source": [
    "## Scene\n",
    "\n",
    "The scene was generated in [Blender](https://www.blender.org/) using three add-ons:\n",
    "- [Sapling Tree Gen](https://docs.blender.org/manual/en/latest/addons/add_curve/sapling.html): This add-on allows to create trees using a set of parameters, using the algorithm by [Weber & Penn (1995)](https://doi.org/10.1145/218380.218427). For the resulting tree, the stem curve was converted to a mesh, and the leaves were separated \"By Loose Parts\" to obtain each leaf separately.\n",
    "- [Move Leaves](https://github.com/han16nah/movingtree_b2h/blob/main/addons/moveleaves.py): This add-on creates a leaf animation for a given tree (created by e.g, Sapling Tree Gen) by rotating the leaves around their leaf base. The user can provide an initial leaf angle distribution, the (random) fraction of leaves moving, the oscillation frequency and the normal distributions $N$($\\mu$, $\\sigma$), from which the three Euler rotation angles x, y and z will be sampled at each time step.\n",
    "- [DynScene2HELIOS](https://github.com/3dgeo-heidelberg/dyn_b2h): This add-on allows exporting dynamic Blender scenes (i.e., scenes with rigid motions) to HELIOS++ sceneparts and scenes. It considers translations and rotations.\n",
    "\n",
    "Finally, further modifications were made:\n",
    "- Wavefront material template library (MTL) files were modified, so they contain a `helios_classification` to create an automatic classification of the output point cloud.\n",
    "\n",
    "The exported scene is very large, but you can have a look [here]()."
   ],
   "metadata": {
    "collapsed": false
   }
  },
  {
   "cell_type": "markdown",
   "source": [
    "## Platform and Scanner\n",
    "\n",
    "We are performing two simulations: Terrestrial laser scanning (TLS) from a static tripod with a RIEGL VZ-400 and UAV-borne laser scanning (ULS) from a quadcopter with a RIEGL VUX-1UAV. Platforms and scanners are shown below:\n",
    "\n",
    "### TLS"
   ],
   "metadata": {
    "collapsed": false
   }
  },
  {
   "cell_type": "code",
   "execution_count": 3,
   "outputs": [
    {
     "data": {
      "text/plain": "<platform id=\"tripod\" name=\"TLS Tripod\" type=\"static\" drag=\"0\">\n\t\t<scannerMount x=\"0\" y=\"0\" z=\"1.5\">\n\t\t</scannerMount>\n\t</platform>\n\t",
      "text/html": "<style>pre { line-height: 125%; }\ntd.linenos .normal { color: inherit; background-color: transparent; padding-left: 5px; padding-right: 5px; }\nspan.linenos { color: inherit; background-color: transparent; padding-left: 5px; padding-right: 5px; }\ntd.linenos .special { color: #000000; background-color: #ffffc0; padding-left: 5px; padding-right: 5px; }\nspan.linenos.special { color: #000000; background-color: #ffffc0; padding-left: 5px; padding-right: 5px; }\n.output_html .hll { background-color: #ffffcc }\n.output_html { background: #f8f8f8; }\n.output_html .c { color: #3D7B7B; font-style: italic } /* Comment */\n.output_html .err { border: 1px solid #FF0000 } /* Error */\n.output_html .k { color: #008000; font-weight: bold } /* Keyword */\n.output_html .o { color: #666666 } /* Operator */\n.output_html .ch { color: #3D7B7B; font-style: italic } /* Comment.Hashbang */\n.output_html .cm { color: #3D7B7B; font-style: italic } /* Comment.Multiline */\n.output_html .cp { color: #9C6500 } /* Comment.Preproc */\n.output_html .cpf { color: #3D7B7B; font-style: italic } /* Comment.PreprocFile */\n.output_html .c1 { color: #3D7B7B; font-style: italic } /* Comment.Single */\n.output_html .cs { color: #3D7B7B; font-style: italic } /* Comment.Special */\n.output_html .gd { color: #A00000 } /* Generic.Deleted */\n.output_html .ge { font-style: italic } /* Generic.Emph */\n.output_html .gr { color: #E40000 } /* Generic.Error */\n.output_html .gh { color: #000080; font-weight: bold } /* Generic.Heading */\n.output_html .gi { color: #008400 } /* Generic.Inserted */\n.output_html .go { color: #717171 } /* Generic.Output */\n.output_html .gp { color: #000080; font-weight: bold } /* Generic.Prompt */\n.output_html .gs { font-weight: bold } /* Generic.Strong */\n.output_html .gu { color: #800080; font-weight: bold } /* Generic.Subheading */\n.output_html .gt { color: #0044DD } /* Generic.Traceback */\n.output_html .kc { color: #008000; font-weight: bold } /* Keyword.Constant */\n.output_html .kd { color: #008000; font-weight: bold } /* Keyword.Declaration */\n.output_html .kn { color: #008000; font-weight: bold } /* Keyword.Namespace */\n.output_html .kp { color: #008000 } /* Keyword.Pseudo */\n.output_html .kr { color: #008000; font-weight: bold } /* Keyword.Reserved */\n.output_html .kt { color: #B00040 } /* Keyword.Type */\n.output_html .m { color: #666666 } /* Literal.Number */\n.output_html .s { color: #BA2121 } /* Literal.String */\n.output_html .na { color: #687822 } /* Name.Attribute */\n.output_html .nb { color: #008000 } /* Name.Builtin */\n.output_html .nc { color: #0000FF; font-weight: bold } /* Name.Class */\n.output_html .no { color: #880000 } /* Name.Constant */\n.output_html .nd { color: #AA22FF } /* Name.Decorator */\n.output_html .ni { color: #717171; font-weight: bold } /* Name.Entity */\n.output_html .ne { color: #CB3F38; font-weight: bold } /* Name.Exception */\n.output_html .nf { color: #0000FF } /* Name.Function */\n.output_html .nl { color: #767600 } /* Name.Label */\n.output_html .nn { color: #0000FF; font-weight: bold } /* Name.Namespace */\n.output_html .nt { color: #008000; font-weight: bold } /* Name.Tag */\n.output_html .nv { color: #19177C } /* Name.Variable */\n.output_html .ow { color: #AA22FF; font-weight: bold } /* Operator.Word */\n.output_html .w { color: #bbbbbb } /* Text.Whitespace */\n.output_html .mb { color: #666666 } /* Literal.Number.Bin */\n.output_html .mf { color: #666666 } /* Literal.Number.Float */\n.output_html .mh { color: #666666 } /* Literal.Number.Hex */\n.output_html .mi { color: #666666 } /* Literal.Number.Integer */\n.output_html .mo { color: #666666 } /* Literal.Number.Oct */\n.output_html .sa { color: #BA2121 } /* Literal.String.Affix */\n.output_html .sb { color: #BA2121 } /* Literal.String.Backtick */\n.output_html .sc { color: #BA2121 } /* Literal.String.Char */\n.output_html .dl { color: #BA2121 } /* Literal.String.Delimiter */\n.output_html .sd { color: #BA2121; font-style: italic } /* Literal.String.Doc */\n.output_html .s2 { color: #BA2121 } /* Literal.String.Double */\n.output_html .se { color: #AA5D1F; font-weight: bold } /* Literal.String.Escape */\n.output_html .sh { color: #BA2121 } /* Literal.String.Heredoc */\n.output_html .si { color: #A45A77; font-weight: bold } /* Literal.String.Interpol */\n.output_html .sx { color: #008000 } /* Literal.String.Other */\n.output_html .sr { color: #A45A77 } /* Literal.String.Regex */\n.output_html .s1 { color: #BA2121 } /* Literal.String.Single */\n.output_html .ss { color: #19177C } /* Literal.String.Symbol */\n.output_html .bp { color: #008000 } /* Name.Builtin.Pseudo */\n.output_html .fm { color: #0000FF } /* Name.Function.Magic */\n.output_html .vc { color: #19177C } /* Name.Variable.Class */\n.output_html .vg { color: #19177C } /* Name.Variable.Global */\n.output_html .vi { color: #19177C } /* Name.Variable.Instance */\n.output_html .vm { color: #19177C } /* Name.Variable.Magic */\n.output_html .il { color: #666666 } /* Literal.Number.Integer.Long */</style><div class=\"highlight\"><pre><span></span><span class=\"nt\">&lt;platform</span><span class=\"w\"> </span><span class=\"na\">id=</span><span class=\"s\">&quot;tripod&quot;</span><span class=\"w\"> </span><span class=\"na\">name=</span><span class=\"s\">&quot;TLS Tripod&quot;</span><span class=\"w\"> </span><span class=\"na\">type=</span><span class=\"s\">&quot;static&quot;</span><span class=\"w\"> </span><span class=\"na\">drag=</span><span class=\"s\">&quot;0&quot;</span><span class=\"nt\">&gt;</span>\n<span class=\"w\">\t\t</span><span class=\"nt\">&lt;scannerMount</span><span class=\"w\"> </span><span class=\"na\">x=</span><span class=\"s\">&quot;0&quot;</span><span class=\"w\"> </span><span class=\"na\">y=</span><span class=\"s\">&quot;0&quot;</span><span class=\"w\"> </span><span class=\"na\">z=</span><span class=\"s\">&quot;1.5&quot;</span><span class=\"nt\">&gt;</span>\n<span class=\"w\">\t\t</span><span class=\"nt\">&lt;/scannerMount&gt;</span>\n<span class=\"w\">\t</span><span class=\"nt\">&lt;/platform&gt;</span>\n<span class=\"w\">\t</span>\n</pre></div>\n",
      "text/latex": "\\begin{Verbatim}[commandchars=\\\\\\{\\}]\n\\PY{n+nt}{\\PYZlt{}platform}\\PY{+w}{ }\\PY{n+na}{id=}\\PY{l+s}{\\PYZdq{}tripod\\PYZdq{}}\\PY{+w}{ }\\PY{n+na}{name=}\\PY{l+s}{\\PYZdq{}TLS Tripod\\PYZdq{}}\\PY{+w}{ }\\PY{n+na}{type=}\\PY{l+s}{\\PYZdq{}static\\PYZdq{}}\\PY{+w}{ }\\PY{n+na}{drag=}\\PY{l+s}{\\PYZdq{}0\\PYZdq{}}\\PY{n+nt}{\\PYZgt{}}\n\\PY{+w}{\t\t}\\PY{n+nt}{\\PYZlt{}scannerMount}\\PY{+w}{ }\\PY{n+na}{x=}\\PY{l+s}{\\PYZdq{}0\\PYZdq{}}\\PY{+w}{ }\\PY{n+na}{y=}\\PY{l+s}{\\PYZdq{}0\\PYZdq{}}\\PY{+w}{ }\\PY{n+na}{z=}\\PY{l+s}{\\PYZdq{}1.5\\PYZdq{}}\\PY{n+nt}{\\PYZgt{}}\n\\PY{+w}{\t\t}\\PY{n+nt}{\\PYZlt{}/scannerMount\\PYZgt{}}\n\\PY{+w}{\t}\\PY{n+nt}{\\PYZlt{}/platform\\PYZgt{}}\n\\PY{+w}{\t}\n\\end{Verbatim}\n"
     },
     "execution_count": 3,
     "metadata": {},
     "output_type": "execute_result"
    }
   ],
   "source": [
    "Code(display_xml('data/platforms.xml', 'tripod'), language='XML')"
   ],
   "metadata": {
    "collapsed": false,
    "ExecuteTime": {
     "start_time": "2023-08-23T09:34:20.183717Z",
     "end_time": "2023-08-23T09:34:20.222714Z"
    }
   }
  },
  {
   "cell_type": "code",
   "execution_count": 6,
   "outputs": [
    {
     "data": {
      "text/plain": "<scanner id=\"riegl_vz400\" name=\"RIEGL VZ-400\" accuracy_m=\"0.005\" beamDivergence_rad=\"0.0003\" headRotatePerSecMax_deg=\"60\" optics=\"rotating\" pulseFreqs_Hz=\"100000,300000\" pulseLength_ns=\"5\" rangeMin_m=\"1.5\" scanAngleMax_deg=\"120\" scanAngleEffectiveMax_deg=\"50\" scanFreqMin_Hz=\"3\" scanFreqMax_Hz=\"120\">\n\t\t\n\t\t<FWFSettings beamSampleQuality=\"3\" />\t\n\t\t<beamOrigin x=\"0\" y=\"0\" z=\"0.2\">\n\t\t\t<rot axis=\"y\" angle_deg=\"0\" />\n\t\t\t<rot axis=\"z\" angle_deg=\"0\" />\n\t\t\t<rot axis=\"x\" angle_deg=\"0\" />\n\t\t</beamOrigin>\n\t\t<headRotateAxis x=\"0\" y=\"0\" z=\"1\" />\n\t\t\n\t</scanner>\n\t",
      "text/html": "<style>pre { line-height: 125%; }\ntd.linenos .normal { color: inherit; background-color: transparent; padding-left: 5px; padding-right: 5px; }\nspan.linenos { color: inherit; background-color: transparent; padding-left: 5px; padding-right: 5px; }\ntd.linenos .special { color: #000000; background-color: #ffffc0; padding-left: 5px; padding-right: 5px; }\nspan.linenos.special { color: #000000; background-color: #ffffc0; padding-left: 5px; padding-right: 5px; }\n.output_html .hll { background-color: #ffffcc }\n.output_html { background: #f8f8f8; }\n.output_html .c { color: #3D7B7B; font-style: italic } /* Comment */\n.output_html .err { border: 1px solid #FF0000 } /* Error */\n.output_html .k { color: #008000; font-weight: bold } /* Keyword */\n.output_html .o { color: #666666 } /* Operator */\n.output_html .ch { color: #3D7B7B; font-style: italic } /* Comment.Hashbang */\n.output_html .cm { color: #3D7B7B; font-style: italic } /* Comment.Multiline */\n.output_html .cp { color: #9C6500 } /* Comment.Preproc */\n.output_html .cpf { color: #3D7B7B; font-style: italic } /* Comment.PreprocFile */\n.output_html .c1 { color: #3D7B7B; font-style: italic } /* Comment.Single */\n.output_html .cs { color: #3D7B7B; font-style: italic } /* Comment.Special */\n.output_html .gd { color: #A00000 } /* Generic.Deleted */\n.output_html .ge { font-style: italic } /* Generic.Emph */\n.output_html .gr { color: #E40000 } /* Generic.Error */\n.output_html .gh { color: #000080; font-weight: bold } /* Generic.Heading */\n.output_html .gi { color: #008400 } /* Generic.Inserted */\n.output_html .go { color: #717171 } /* Generic.Output */\n.output_html .gp { color: #000080; font-weight: bold } /* Generic.Prompt */\n.output_html .gs { font-weight: bold } /* Generic.Strong */\n.output_html .gu { color: #800080; font-weight: bold } /* Generic.Subheading */\n.output_html .gt { color: #0044DD } /* Generic.Traceback */\n.output_html .kc { color: #008000; font-weight: bold } /* Keyword.Constant */\n.output_html .kd { color: #008000; font-weight: bold } /* Keyword.Declaration */\n.output_html .kn { color: #008000; font-weight: bold } /* Keyword.Namespace */\n.output_html .kp { color: #008000 } /* Keyword.Pseudo */\n.output_html .kr { color: #008000; font-weight: bold } /* Keyword.Reserved */\n.output_html .kt { color: #B00040 } /* Keyword.Type */\n.output_html .m { color: #666666 } /* Literal.Number */\n.output_html .s { color: #BA2121 } /* Literal.String */\n.output_html .na { color: #687822 } /* Name.Attribute */\n.output_html .nb { color: #008000 } /* Name.Builtin */\n.output_html .nc { color: #0000FF; font-weight: bold } /* Name.Class */\n.output_html .no { color: #880000 } /* Name.Constant */\n.output_html .nd { color: #AA22FF } /* Name.Decorator */\n.output_html .ni { color: #717171; font-weight: bold } /* Name.Entity */\n.output_html .ne { color: #CB3F38; font-weight: bold } /* Name.Exception */\n.output_html .nf { color: #0000FF } /* Name.Function */\n.output_html .nl { color: #767600 } /* Name.Label */\n.output_html .nn { color: #0000FF; font-weight: bold } /* Name.Namespace */\n.output_html .nt { color: #008000; font-weight: bold } /* Name.Tag */\n.output_html .nv { color: #19177C } /* Name.Variable */\n.output_html .ow { color: #AA22FF; font-weight: bold } /* Operator.Word */\n.output_html .w { color: #bbbbbb } /* Text.Whitespace */\n.output_html .mb { color: #666666 } /* Literal.Number.Bin */\n.output_html .mf { color: #666666 } /* Literal.Number.Float */\n.output_html .mh { color: #666666 } /* Literal.Number.Hex */\n.output_html .mi { color: #666666 } /* Literal.Number.Integer */\n.output_html .mo { color: #666666 } /* Literal.Number.Oct */\n.output_html .sa { color: #BA2121 } /* Literal.String.Affix */\n.output_html .sb { color: #BA2121 } /* Literal.String.Backtick */\n.output_html .sc { color: #BA2121 } /* Literal.String.Char */\n.output_html .dl { color: #BA2121 } /* Literal.String.Delimiter */\n.output_html .sd { color: #BA2121; font-style: italic } /* Literal.String.Doc */\n.output_html .s2 { color: #BA2121 } /* Literal.String.Double */\n.output_html .se { color: #AA5D1F; font-weight: bold } /* Literal.String.Escape */\n.output_html .sh { color: #BA2121 } /* Literal.String.Heredoc */\n.output_html .si { color: #A45A77; font-weight: bold } /* Literal.String.Interpol */\n.output_html .sx { color: #008000 } /* Literal.String.Other */\n.output_html .sr { color: #A45A77 } /* Literal.String.Regex */\n.output_html .s1 { color: #BA2121 } /* Literal.String.Single */\n.output_html .ss { color: #19177C } /* Literal.String.Symbol */\n.output_html .bp { color: #008000 } /* Name.Builtin.Pseudo */\n.output_html .fm { color: #0000FF } /* Name.Function.Magic */\n.output_html .vc { color: #19177C } /* Name.Variable.Class */\n.output_html .vg { color: #19177C } /* Name.Variable.Global */\n.output_html .vi { color: #19177C } /* Name.Variable.Instance */\n.output_html .vm { color: #19177C } /* Name.Variable.Magic */\n.output_html .il { color: #666666 } /* Literal.Number.Integer.Long */</style><div class=\"highlight\"><pre><span></span><span class=\"nt\">&lt;scanner</span><span class=\"w\"> </span><span class=\"na\">id=</span><span class=\"s\">&quot;riegl_vz400&quot;</span><span class=\"w\"> </span><span class=\"na\">name=</span><span class=\"s\">&quot;RIEGL VZ-400&quot;</span><span class=\"w\"> </span><span class=\"na\">accuracy_m=</span><span class=\"s\">&quot;0.005&quot;</span><span class=\"w\"> </span><span class=\"na\">beamDivergence_rad=</span><span class=\"s\">&quot;0.0003&quot;</span><span class=\"w\"> </span><span class=\"na\">headRotatePerSecMax_deg=</span><span class=\"s\">&quot;60&quot;</span><span class=\"w\"> </span><span class=\"na\">optics=</span><span class=\"s\">&quot;rotating&quot;</span><span class=\"w\"> </span><span class=\"na\">pulseFreqs_Hz=</span><span class=\"s\">&quot;100000,300000&quot;</span><span class=\"w\"> </span><span class=\"na\">pulseLength_ns=</span><span class=\"s\">&quot;5&quot;</span><span class=\"w\"> </span><span class=\"na\">rangeMin_m=</span><span class=\"s\">&quot;1.5&quot;</span><span class=\"w\"> </span><span class=\"na\">scanAngleMax_deg=</span><span class=\"s\">&quot;120&quot;</span><span class=\"w\"> </span><span class=\"na\">scanAngleEffectiveMax_deg=</span><span class=\"s\">&quot;50&quot;</span><span class=\"w\"> </span><span class=\"na\">scanFreqMin_Hz=</span><span class=\"s\">&quot;3&quot;</span><span class=\"w\"> </span><span class=\"na\">scanFreqMax_Hz=</span><span class=\"s\">&quot;120&quot;</span><span class=\"nt\">&gt;</span>\n<span class=\"w\">\t\t</span>\n<span class=\"w\">\t\t</span><span class=\"nt\">&lt;FWFSettings</span><span class=\"w\"> </span><span class=\"na\">beamSampleQuality=</span><span class=\"s\">&quot;3&quot;</span><span class=\"w\"> </span><span class=\"nt\">/&gt;</span><span class=\"w\">\t</span>\n<span class=\"w\">\t\t</span><span class=\"nt\">&lt;beamOrigin</span><span class=\"w\"> </span><span class=\"na\">x=</span><span class=\"s\">&quot;0&quot;</span><span class=\"w\"> </span><span class=\"na\">y=</span><span class=\"s\">&quot;0&quot;</span><span class=\"w\"> </span><span class=\"na\">z=</span><span class=\"s\">&quot;0.2&quot;</span><span class=\"nt\">&gt;</span>\n<span class=\"w\">\t\t\t</span><span class=\"nt\">&lt;rot</span><span class=\"w\"> </span><span class=\"na\">axis=</span><span class=\"s\">&quot;y&quot;</span><span class=\"w\"> </span><span class=\"na\">angle_deg=</span><span class=\"s\">&quot;0&quot;</span><span class=\"w\"> </span><span class=\"nt\">/&gt;</span>\n<span class=\"w\">\t\t\t</span><span class=\"nt\">&lt;rot</span><span class=\"w\"> </span><span class=\"na\">axis=</span><span class=\"s\">&quot;z&quot;</span><span class=\"w\"> </span><span class=\"na\">angle_deg=</span><span class=\"s\">&quot;0&quot;</span><span class=\"w\"> </span><span class=\"nt\">/&gt;</span>\n<span class=\"w\">\t\t\t</span><span class=\"nt\">&lt;rot</span><span class=\"w\"> </span><span class=\"na\">axis=</span><span class=\"s\">&quot;x&quot;</span><span class=\"w\"> </span><span class=\"na\">angle_deg=</span><span class=\"s\">&quot;0&quot;</span><span class=\"w\"> </span><span class=\"nt\">/&gt;</span>\n<span class=\"w\">\t\t</span><span class=\"nt\">&lt;/beamOrigin&gt;</span>\n<span class=\"w\">\t\t</span><span class=\"nt\">&lt;headRotateAxis</span><span class=\"w\"> </span><span class=\"na\">x=</span><span class=\"s\">&quot;0&quot;</span><span class=\"w\"> </span><span class=\"na\">y=</span><span class=\"s\">&quot;0&quot;</span><span class=\"w\"> </span><span class=\"na\">z=</span><span class=\"s\">&quot;1&quot;</span><span class=\"w\"> </span><span class=\"nt\">/&gt;</span>\n<span class=\"w\">\t\t</span>\n<span class=\"w\">\t</span><span class=\"nt\">&lt;/scanner&gt;</span>\n<span class=\"w\">\t</span>\n</pre></div>\n",
      "text/latex": "\\begin{Verbatim}[commandchars=\\\\\\{\\}]\n\\PY{n+nt}{\\PYZlt{}scanner}\\PY{+w}{ }\\PY{n+na}{id=}\\PY{l+s}{\\PYZdq{}riegl\\PYZus{}vz400\\PYZdq{}}\\PY{+w}{ }\\PY{n+na}{name=}\\PY{l+s}{\\PYZdq{}RIEGL VZ\\PYZhy{}400\\PYZdq{}}\\PY{+w}{ }\\PY{n+na}{accuracy\\PYZus{}m=}\\PY{l+s}{\\PYZdq{}0.005\\PYZdq{}}\\PY{+w}{ }\\PY{n+na}{beamDivergence\\PYZus{}rad=}\\PY{l+s}{\\PYZdq{}0.0003\\PYZdq{}}\\PY{+w}{ }\\PY{n+na}{headRotatePerSecMax\\PYZus{}deg=}\\PY{l+s}{\\PYZdq{}60\\PYZdq{}}\\PY{+w}{ }\\PY{n+na}{optics=}\\PY{l+s}{\\PYZdq{}rotating\\PYZdq{}}\\PY{+w}{ }\\PY{n+na}{pulseFreqs\\PYZus{}Hz=}\\PY{l+s}{\\PYZdq{}100000,300000\\PYZdq{}}\\PY{+w}{ }\\PY{n+na}{pulseLength\\PYZus{}ns=}\\PY{l+s}{\\PYZdq{}5\\PYZdq{}}\\PY{+w}{ }\\PY{n+na}{rangeMin\\PYZus{}m=}\\PY{l+s}{\\PYZdq{}1.5\\PYZdq{}}\\PY{+w}{ }\\PY{n+na}{scanAngleMax\\PYZus{}deg=}\\PY{l+s}{\\PYZdq{}120\\PYZdq{}}\\PY{+w}{ }\\PY{n+na}{scanAngleEffectiveMax\\PYZus{}deg=}\\PY{l+s}{\\PYZdq{}50\\PYZdq{}}\\PY{+w}{ }\\PY{n+na}{scanFreqMin\\PYZus{}Hz=}\\PY{l+s}{\\PYZdq{}3\\PYZdq{}}\\PY{+w}{ }\\PY{n+na}{scanFreqMax\\PYZus{}Hz=}\\PY{l+s}{\\PYZdq{}120\\PYZdq{}}\\PY{n+nt}{\\PYZgt{}}\n\\PY{+w}{\t\t}\n\\PY{+w}{\t\t}\\PY{n+nt}{\\PYZlt{}FWFSettings}\\PY{+w}{ }\\PY{n+na}{beamSampleQuality=}\\PY{l+s}{\\PYZdq{}3\\PYZdq{}}\\PY{+w}{ }\\PY{n+nt}{/\\PYZgt{}}\\PY{+w}{\t}\n\\PY{+w}{\t\t}\\PY{n+nt}{\\PYZlt{}beamOrigin}\\PY{+w}{ }\\PY{n+na}{x=}\\PY{l+s}{\\PYZdq{}0\\PYZdq{}}\\PY{+w}{ }\\PY{n+na}{y=}\\PY{l+s}{\\PYZdq{}0\\PYZdq{}}\\PY{+w}{ }\\PY{n+na}{z=}\\PY{l+s}{\\PYZdq{}0.2\\PYZdq{}}\\PY{n+nt}{\\PYZgt{}}\n\\PY{+w}{\t\t\t}\\PY{n+nt}{\\PYZlt{}rot}\\PY{+w}{ }\\PY{n+na}{axis=}\\PY{l+s}{\\PYZdq{}y\\PYZdq{}}\\PY{+w}{ }\\PY{n+na}{angle\\PYZus{}deg=}\\PY{l+s}{\\PYZdq{}0\\PYZdq{}}\\PY{+w}{ }\\PY{n+nt}{/\\PYZgt{}}\n\\PY{+w}{\t\t\t}\\PY{n+nt}{\\PYZlt{}rot}\\PY{+w}{ }\\PY{n+na}{axis=}\\PY{l+s}{\\PYZdq{}z\\PYZdq{}}\\PY{+w}{ }\\PY{n+na}{angle\\PYZus{}deg=}\\PY{l+s}{\\PYZdq{}0\\PYZdq{}}\\PY{+w}{ }\\PY{n+nt}{/\\PYZgt{}}\n\\PY{+w}{\t\t\t}\\PY{n+nt}{\\PYZlt{}rot}\\PY{+w}{ }\\PY{n+na}{axis=}\\PY{l+s}{\\PYZdq{}x\\PYZdq{}}\\PY{+w}{ }\\PY{n+na}{angle\\PYZus{}deg=}\\PY{l+s}{\\PYZdq{}0\\PYZdq{}}\\PY{+w}{ }\\PY{n+nt}{/\\PYZgt{}}\n\\PY{+w}{\t\t}\\PY{n+nt}{\\PYZlt{}/beamOrigin\\PYZgt{}}\n\\PY{+w}{\t\t}\\PY{n+nt}{\\PYZlt{}headRotateAxis}\\PY{+w}{ }\\PY{n+na}{x=}\\PY{l+s}{\\PYZdq{}0\\PYZdq{}}\\PY{+w}{ }\\PY{n+na}{y=}\\PY{l+s}{\\PYZdq{}0\\PYZdq{}}\\PY{+w}{ }\\PY{n+na}{z=}\\PY{l+s}{\\PYZdq{}1\\PYZdq{}}\\PY{+w}{ }\\PY{n+nt}{/\\PYZgt{}}\n\\PY{+w}{\t\t}\n\\PY{+w}{\t}\\PY{n+nt}{\\PYZlt{}/scanner\\PYZgt{}}\n\\PY{+w}{\t}\n\\end{Verbatim}\n"
     },
     "execution_count": 6,
     "metadata": {},
     "output_type": "execute_result"
    }
   ],
   "source": [
    "Code(display_xml('data/scanners_tls.xml', 'riegl_vz400'), language='XML')"
   ],
   "metadata": {
    "collapsed": false,
    "ExecuteTime": {
     "start_time": "2023-08-23T09:34:39.373264Z",
     "end_time": "2023-08-23T09:34:39.385263Z"
    }
   }
  },
  {
   "cell_type": "markdown",
   "source": [
    "### ULS"
   ],
   "metadata": {
    "collapsed": false
   }
  },
  {
   "cell_type": "code",
   "execution_count": 9,
   "outputs": [
    {
     "data": {
      "text/plain": "<platform id=\"copter_linearpath\" name=\"Quadrocopter UAV\" type=\"linearpath\">\n\t\t<scannerMount x=\"0\" y=\"0\" z=\"0.2\">\n\t\t\t<rot axis=\"x\" angle_deg=\"175\" />\n\t\t</scannerMount>\n\t</platform>\n\t",
      "text/html": "<style>pre { line-height: 125%; }\ntd.linenos .normal { color: inherit; background-color: transparent; padding-left: 5px; padding-right: 5px; }\nspan.linenos { color: inherit; background-color: transparent; padding-left: 5px; padding-right: 5px; }\ntd.linenos .special { color: #000000; background-color: #ffffc0; padding-left: 5px; padding-right: 5px; }\nspan.linenos.special { color: #000000; background-color: #ffffc0; padding-left: 5px; padding-right: 5px; }\n.output_html .hll { background-color: #ffffcc }\n.output_html { background: #f8f8f8; }\n.output_html .c { color: #3D7B7B; font-style: italic } /* Comment */\n.output_html .err { border: 1px solid #FF0000 } /* Error */\n.output_html .k { color: #008000; font-weight: bold } /* Keyword */\n.output_html .o { color: #666666 } /* Operator */\n.output_html .ch { color: #3D7B7B; font-style: italic } /* Comment.Hashbang */\n.output_html .cm { color: #3D7B7B; font-style: italic } /* Comment.Multiline */\n.output_html .cp { color: #9C6500 } /* Comment.Preproc */\n.output_html .cpf { color: #3D7B7B; font-style: italic } /* Comment.PreprocFile */\n.output_html .c1 { color: #3D7B7B; font-style: italic } /* Comment.Single */\n.output_html .cs { color: #3D7B7B; font-style: italic } /* Comment.Special */\n.output_html .gd { color: #A00000 } /* Generic.Deleted */\n.output_html .ge { font-style: italic } /* Generic.Emph */\n.output_html .gr { color: #E40000 } /* Generic.Error */\n.output_html .gh { color: #000080; font-weight: bold } /* Generic.Heading */\n.output_html .gi { color: #008400 } /* Generic.Inserted */\n.output_html .go { color: #717171 } /* Generic.Output */\n.output_html .gp { color: #000080; font-weight: bold } /* Generic.Prompt */\n.output_html .gs { font-weight: bold } /* Generic.Strong */\n.output_html .gu { color: #800080; font-weight: bold } /* Generic.Subheading */\n.output_html .gt { color: #0044DD } /* Generic.Traceback */\n.output_html .kc { color: #008000; font-weight: bold } /* Keyword.Constant */\n.output_html .kd { color: #008000; font-weight: bold } /* Keyword.Declaration */\n.output_html .kn { color: #008000; font-weight: bold } /* Keyword.Namespace */\n.output_html .kp { color: #008000 } /* Keyword.Pseudo */\n.output_html .kr { color: #008000; font-weight: bold } /* Keyword.Reserved */\n.output_html .kt { color: #B00040 } /* Keyword.Type */\n.output_html .m { color: #666666 } /* Literal.Number */\n.output_html .s { color: #BA2121 } /* Literal.String */\n.output_html .na { color: #687822 } /* Name.Attribute */\n.output_html .nb { color: #008000 } /* Name.Builtin */\n.output_html .nc { color: #0000FF; font-weight: bold } /* Name.Class */\n.output_html .no { color: #880000 } /* Name.Constant */\n.output_html .nd { color: #AA22FF } /* Name.Decorator */\n.output_html .ni { color: #717171; font-weight: bold } /* Name.Entity */\n.output_html .ne { color: #CB3F38; font-weight: bold } /* Name.Exception */\n.output_html .nf { color: #0000FF } /* Name.Function */\n.output_html .nl { color: #767600 } /* Name.Label */\n.output_html .nn { color: #0000FF; font-weight: bold } /* Name.Namespace */\n.output_html .nt { color: #008000; font-weight: bold } /* Name.Tag */\n.output_html .nv { color: #19177C } /* Name.Variable */\n.output_html .ow { color: #AA22FF; font-weight: bold } /* Operator.Word */\n.output_html .w { color: #bbbbbb } /* Text.Whitespace */\n.output_html .mb { color: #666666 } /* Literal.Number.Bin */\n.output_html .mf { color: #666666 } /* Literal.Number.Float */\n.output_html .mh { color: #666666 } /* Literal.Number.Hex */\n.output_html .mi { color: #666666 } /* Literal.Number.Integer */\n.output_html .mo { color: #666666 } /* Literal.Number.Oct */\n.output_html .sa { color: #BA2121 } /* Literal.String.Affix */\n.output_html .sb { color: #BA2121 } /* Literal.String.Backtick */\n.output_html .sc { color: #BA2121 } /* Literal.String.Char */\n.output_html .dl { color: #BA2121 } /* Literal.String.Delimiter */\n.output_html .sd { color: #BA2121; font-style: italic } /* Literal.String.Doc */\n.output_html .s2 { color: #BA2121 } /* Literal.String.Double */\n.output_html .se { color: #AA5D1F; font-weight: bold } /* Literal.String.Escape */\n.output_html .sh { color: #BA2121 } /* Literal.String.Heredoc */\n.output_html .si { color: #A45A77; font-weight: bold } /* Literal.String.Interpol */\n.output_html .sx { color: #008000 } /* Literal.String.Other */\n.output_html .sr { color: #A45A77 } /* Literal.String.Regex */\n.output_html .s1 { color: #BA2121 } /* Literal.String.Single */\n.output_html .ss { color: #19177C } /* Literal.String.Symbol */\n.output_html .bp { color: #008000 } /* Name.Builtin.Pseudo */\n.output_html .fm { color: #0000FF } /* Name.Function.Magic */\n.output_html .vc { color: #19177C } /* Name.Variable.Class */\n.output_html .vg { color: #19177C } /* Name.Variable.Global */\n.output_html .vi { color: #19177C } /* Name.Variable.Instance */\n.output_html .vm { color: #19177C } /* Name.Variable.Magic */\n.output_html .il { color: #666666 } /* Literal.Number.Integer.Long */</style><div class=\"highlight\"><pre><span></span><span class=\"nt\">&lt;platform</span><span class=\"w\"> </span><span class=\"na\">id=</span><span class=\"s\">&quot;copter_linearpath&quot;</span><span class=\"w\"> </span><span class=\"na\">name=</span><span class=\"s\">&quot;Quadrocopter UAV&quot;</span><span class=\"w\"> </span><span class=\"na\">type=</span><span class=\"s\">&quot;linearpath&quot;</span><span class=\"nt\">&gt;</span>\n<span class=\"w\">\t\t</span><span class=\"nt\">&lt;scannerMount</span><span class=\"w\"> </span><span class=\"na\">x=</span><span class=\"s\">&quot;0&quot;</span><span class=\"w\"> </span><span class=\"na\">y=</span><span class=\"s\">&quot;0&quot;</span><span class=\"w\"> </span><span class=\"na\">z=</span><span class=\"s\">&quot;0.2&quot;</span><span class=\"nt\">&gt;</span>\n<span class=\"w\">\t\t\t</span><span class=\"nt\">&lt;rot</span><span class=\"w\"> </span><span class=\"na\">axis=</span><span class=\"s\">&quot;x&quot;</span><span class=\"w\"> </span><span class=\"na\">angle_deg=</span><span class=\"s\">&quot;175&quot;</span><span class=\"w\"> </span><span class=\"nt\">/&gt;</span>\n<span class=\"w\">\t\t</span><span class=\"nt\">&lt;/scannerMount&gt;</span>\n<span class=\"w\">\t</span><span class=\"nt\">&lt;/platform&gt;</span>\n<span class=\"w\">\t</span>\n</pre></div>\n",
      "text/latex": "\\begin{Verbatim}[commandchars=\\\\\\{\\}]\n\\PY{n+nt}{\\PYZlt{}platform}\\PY{+w}{ }\\PY{n+na}{id=}\\PY{l+s}{\\PYZdq{}copter\\PYZus{}linearpath\\PYZdq{}}\\PY{+w}{ }\\PY{n+na}{name=}\\PY{l+s}{\\PYZdq{}Quadrocopter UAV\\PYZdq{}}\\PY{+w}{ }\\PY{n+na}{type=}\\PY{l+s}{\\PYZdq{}linearpath\\PYZdq{}}\\PY{n+nt}{\\PYZgt{}}\n\\PY{+w}{\t\t}\\PY{n+nt}{\\PYZlt{}scannerMount}\\PY{+w}{ }\\PY{n+na}{x=}\\PY{l+s}{\\PYZdq{}0\\PYZdq{}}\\PY{+w}{ }\\PY{n+na}{y=}\\PY{l+s}{\\PYZdq{}0\\PYZdq{}}\\PY{+w}{ }\\PY{n+na}{z=}\\PY{l+s}{\\PYZdq{}0.2\\PYZdq{}}\\PY{n+nt}{\\PYZgt{}}\n\\PY{+w}{\t\t\t}\\PY{n+nt}{\\PYZlt{}rot}\\PY{+w}{ }\\PY{n+na}{axis=}\\PY{l+s}{\\PYZdq{}x\\PYZdq{}}\\PY{+w}{ }\\PY{n+na}{angle\\PYZus{}deg=}\\PY{l+s}{\\PYZdq{}175\\PYZdq{}}\\PY{+w}{ }\\PY{n+nt}{/\\PYZgt{}}\n\\PY{+w}{\t\t}\\PY{n+nt}{\\PYZlt{}/scannerMount\\PYZgt{}}\n\\PY{+w}{\t}\\PY{n+nt}{\\PYZlt{}/platform\\PYZgt{}}\n\\PY{+w}{\t}\n\\end{Verbatim}\n"
     },
     "execution_count": 9,
     "metadata": {},
     "output_type": "execute_result"
    }
   ],
   "source": [
    "Code(display_xml('data/platforms.xml', 'copter_linearpath'), language='XML')"
   ],
   "metadata": {
    "collapsed": false,
    "ExecuteTime": {
     "start_time": "2023-08-23T11:27:38.102943Z",
     "end_time": "2023-08-23T11:27:38.113946Z"
    }
   }
  },
  {
   "cell_type": "code",
   "execution_count": 8,
   "outputs": [
    {
     "data": {
      "text/plain": "<scanner id=\"riegl_vux-1uav\" accuracy_m=\"0.01\" beamDivergence_rad=\"0.0005\" name=\"RIEGL VUX-1UAV\" optics=\"rotating\" pulseFreqs_Hz=\"50000,100000,200000,300000,380000,550000\" pulseLength_ns=\"4\" rangeMin_m=\"3\" scanAngleMax_deg=\"180\" scanAngleEffectiveMax_deg=\"165\" scanFreqMin_Hz=\"10\" scanFreqMax_Hz=\"200\">\n\t\t\n\t\t\t<beamOrigin x=\"0\" y=\"0.085\" z=\"0.06\">\t\t\t\n\t\t\t\t<rot axis=\"x\" angle_deg=\"90\" />\t\t\t\n\t\t\t\t<rot axis=\"z\" angle_deg=\"90\" />\t\t\t\n\t\t\t</beamOrigin>\n\t\t<headRotateAxis x=\"0\" y=\"0\" z=\"1\" />\n\t</scanner>\n\t",
      "text/html": "<style>pre { line-height: 125%; }\ntd.linenos .normal { color: inherit; background-color: transparent; padding-left: 5px; padding-right: 5px; }\nspan.linenos { color: inherit; background-color: transparent; padding-left: 5px; padding-right: 5px; }\ntd.linenos .special { color: #000000; background-color: #ffffc0; padding-left: 5px; padding-right: 5px; }\nspan.linenos.special { color: #000000; background-color: #ffffc0; padding-left: 5px; padding-right: 5px; }\n.output_html .hll { background-color: #ffffcc }\n.output_html { background: #f8f8f8; }\n.output_html .c { color: #3D7B7B; font-style: italic } /* Comment */\n.output_html .err { border: 1px solid #FF0000 } /* Error */\n.output_html .k { color: #008000; font-weight: bold } /* Keyword */\n.output_html .o { color: #666666 } /* Operator */\n.output_html .ch { color: #3D7B7B; font-style: italic } /* Comment.Hashbang */\n.output_html .cm { color: #3D7B7B; font-style: italic } /* Comment.Multiline */\n.output_html .cp { color: #9C6500 } /* Comment.Preproc */\n.output_html .cpf { color: #3D7B7B; font-style: italic } /* Comment.PreprocFile */\n.output_html .c1 { color: #3D7B7B; font-style: italic } /* Comment.Single */\n.output_html .cs { color: #3D7B7B; font-style: italic } /* Comment.Special */\n.output_html .gd { color: #A00000 } /* Generic.Deleted */\n.output_html .ge { font-style: italic } /* Generic.Emph */\n.output_html .gr { color: #E40000 } /* Generic.Error */\n.output_html .gh { color: #000080; font-weight: bold } /* Generic.Heading */\n.output_html .gi { color: #008400 } /* Generic.Inserted */\n.output_html .go { color: #717171 } /* Generic.Output */\n.output_html .gp { color: #000080; font-weight: bold } /* Generic.Prompt */\n.output_html .gs { font-weight: bold } /* Generic.Strong */\n.output_html .gu { color: #800080; font-weight: bold } /* Generic.Subheading */\n.output_html .gt { color: #0044DD } /* Generic.Traceback */\n.output_html .kc { color: #008000; font-weight: bold } /* Keyword.Constant */\n.output_html .kd { color: #008000; font-weight: bold } /* Keyword.Declaration */\n.output_html .kn { color: #008000; font-weight: bold } /* Keyword.Namespace */\n.output_html .kp { color: #008000 } /* Keyword.Pseudo */\n.output_html .kr { color: #008000; font-weight: bold } /* Keyword.Reserved */\n.output_html .kt { color: #B00040 } /* Keyword.Type */\n.output_html .m { color: #666666 } /* Literal.Number */\n.output_html .s { color: #BA2121 } /* Literal.String */\n.output_html .na { color: #687822 } /* Name.Attribute */\n.output_html .nb { color: #008000 } /* Name.Builtin */\n.output_html .nc { color: #0000FF; font-weight: bold } /* Name.Class */\n.output_html .no { color: #880000 } /* Name.Constant */\n.output_html .nd { color: #AA22FF } /* Name.Decorator */\n.output_html .ni { color: #717171; font-weight: bold } /* Name.Entity */\n.output_html .ne { color: #CB3F38; font-weight: bold } /* Name.Exception */\n.output_html .nf { color: #0000FF } /* Name.Function */\n.output_html .nl { color: #767600 } /* Name.Label */\n.output_html .nn { color: #0000FF; font-weight: bold } /* Name.Namespace */\n.output_html .nt { color: #008000; font-weight: bold } /* Name.Tag */\n.output_html .nv { color: #19177C } /* Name.Variable */\n.output_html .ow { color: #AA22FF; font-weight: bold } /* Operator.Word */\n.output_html .w { color: #bbbbbb } /* Text.Whitespace */\n.output_html .mb { color: #666666 } /* Literal.Number.Bin */\n.output_html .mf { color: #666666 } /* Literal.Number.Float */\n.output_html .mh { color: #666666 } /* Literal.Number.Hex */\n.output_html .mi { color: #666666 } /* Literal.Number.Integer */\n.output_html .mo { color: #666666 } /* Literal.Number.Oct */\n.output_html .sa { color: #BA2121 } /* Literal.String.Affix */\n.output_html .sb { color: #BA2121 } /* Literal.String.Backtick */\n.output_html .sc { color: #BA2121 } /* Literal.String.Char */\n.output_html .dl { color: #BA2121 } /* Literal.String.Delimiter */\n.output_html .sd { color: #BA2121; font-style: italic } /* Literal.String.Doc */\n.output_html .s2 { color: #BA2121 } /* Literal.String.Double */\n.output_html .se { color: #AA5D1F; font-weight: bold } /* Literal.String.Escape */\n.output_html .sh { color: #BA2121 } /* Literal.String.Heredoc */\n.output_html .si { color: #A45A77; font-weight: bold } /* Literal.String.Interpol */\n.output_html .sx { color: #008000 } /* Literal.String.Other */\n.output_html .sr { color: #A45A77 } /* Literal.String.Regex */\n.output_html .s1 { color: #BA2121 } /* Literal.String.Single */\n.output_html .ss { color: #19177C } /* Literal.String.Symbol */\n.output_html .bp { color: #008000 } /* Name.Builtin.Pseudo */\n.output_html .fm { color: #0000FF } /* Name.Function.Magic */\n.output_html .vc { color: #19177C } /* Name.Variable.Class */\n.output_html .vg { color: #19177C } /* Name.Variable.Global */\n.output_html .vi { color: #19177C } /* Name.Variable.Instance */\n.output_html .vm { color: #19177C } /* Name.Variable.Magic */\n.output_html .il { color: #666666 } /* Literal.Number.Integer.Long */</style><div class=\"highlight\"><pre><span></span><span class=\"nt\">&lt;scanner</span><span class=\"w\"> </span><span class=\"na\">id=</span><span class=\"s\">&quot;riegl_vux-1uav&quot;</span><span class=\"w\"> </span><span class=\"na\">accuracy_m=</span><span class=\"s\">&quot;0.01&quot;</span><span class=\"w\"> </span><span class=\"na\">beamDivergence_rad=</span><span class=\"s\">&quot;0.0005&quot;</span><span class=\"w\"> </span><span class=\"na\">name=</span><span class=\"s\">&quot;RIEGL VUX-1UAV&quot;</span><span class=\"w\"> </span><span class=\"na\">optics=</span><span class=\"s\">&quot;rotating&quot;</span><span class=\"w\"> </span><span class=\"na\">pulseFreqs_Hz=</span><span class=\"s\">&quot;50000,100000,200000,300000,380000,550000&quot;</span><span class=\"w\"> </span><span class=\"na\">pulseLength_ns=</span><span class=\"s\">&quot;4&quot;</span><span class=\"w\"> </span><span class=\"na\">rangeMin_m=</span><span class=\"s\">&quot;3&quot;</span><span class=\"w\"> </span><span class=\"na\">scanAngleMax_deg=</span><span class=\"s\">&quot;180&quot;</span><span class=\"w\"> </span><span class=\"na\">scanAngleEffectiveMax_deg=</span><span class=\"s\">&quot;165&quot;</span><span class=\"w\"> </span><span class=\"na\">scanFreqMin_Hz=</span><span class=\"s\">&quot;10&quot;</span><span class=\"w\"> </span><span class=\"na\">scanFreqMax_Hz=</span><span class=\"s\">&quot;200&quot;</span><span class=\"nt\">&gt;</span>\n<span class=\"w\">\t\t</span>\n<span class=\"w\">\t\t\t</span><span class=\"nt\">&lt;beamOrigin</span><span class=\"w\"> </span><span class=\"na\">x=</span><span class=\"s\">&quot;0&quot;</span><span class=\"w\"> </span><span class=\"na\">y=</span><span class=\"s\">&quot;0.085&quot;</span><span class=\"w\"> </span><span class=\"na\">z=</span><span class=\"s\">&quot;0.06&quot;</span><span class=\"nt\">&gt;</span><span class=\"w\">\t\t\t</span>\n<span class=\"w\">\t\t\t\t</span><span class=\"nt\">&lt;rot</span><span class=\"w\"> </span><span class=\"na\">axis=</span><span class=\"s\">&quot;x&quot;</span><span class=\"w\"> </span><span class=\"na\">angle_deg=</span><span class=\"s\">&quot;90&quot;</span><span class=\"w\"> </span><span class=\"nt\">/&gt;</span><span class=\"w\">\t\t\t</span>\n<span class=\"w\">\t\t\t\t</span><span class=\"nt\">&lt;rot</span><span class=\"w\"> </span><span class=\"na\">axis=</span><span class=\"s\">&quot;z&quot;</span><span class=\"w\"> </span><span class=\"na\">angle_deg=</span><span class=\"s\">&quot;90&quot;</span><span class=\"w\"> </span><span class=\"nt\">/&gt;</span><span class=\"w\">\t\t\t</span>\n<span class=\"w\">\t\t\t</span><span class=\"nt\">&lt;/beamOrigin&gt;</span>\n<span class=\"w\">\t\t</span><span class=\"nt\">&lt;headRotateAxis</span><span class=\"w\"> </span><span class=\"na\">x=</span><span class=\"s\">&quot;0&quot;</span><span class=\"w\"> </span><span class=\"na\">y=</span><span class=\"s\">&quot;0&quot;</span><span class=\"w\"> </span><span class=\"na\">z=</span><span class=\"s\">&quot;1&quot;</span><span class=\"w\"> </span><span class=\"nt\">/&gt;</span>\n<span class=\"w\">\t</span><span class=\"nt\">&lt;/scanner&gt;</span>\n<span class=\"w\">\t</span>\n</pre></div>\n",
      "text/latex": "\\begin{Verbatim}[commandchars=\\\\\\{\\}]\n\\PY{n+nt}{\\PYZlt{}scanner}\\PY{+w}{ }\\PY{n+na}{id=}\\PY{l+s}{\\PYZdq{}riegl\\PYZus{}vux\\PYZhy{}1uav\\PYZdq{}}\\PY{+w}{ }\\PY{n+na}{accuracy\\PYZus{}m=}\\PY{l+s}{\\PYZdq{}0.01\\PYZdq{}}\\PY{+w}{ }\\PY{n+na}{beamDivergence\\PYZus{}rad=}\\PY{l+s}{\\PYZdq{}0.0005\\PYZdq{}}\\PY{+w}{ }\\PY{n+na}{name=}\\PY{l+s}{\\PYZdq{}RIEGL VUX\\PYZhy{}1UAV\\PYZdq{}}\\PY{+w}{ }\\PY{n+na}{optics=}\\PY{l+s}{\\PYZdq{}rotating\\PYZdq{}}\\PY{+w}{ }\\PY{n+na}{pulseFreqs\\PYZus{}Hz=}\\PY{l+s}{\\PYZdq{}50000,100000,200000,300000,380000,550000\\PYZdq{}}\\PY{+w}{ }\\PY{n+na}{pulseLength\\PYZus{}ns=}\\PY{l+s}{\\PYZdq{}4\\PYZdq{}}\\PY{+w}{ }\\PY{n+na}{rangeMin\\PYZus{}m=}\\PY{l+s}{\\PYZdq{}3\\PYZdq{}}\\PY{+w}{ }\\PY{n+na}{scanAngleMax\\PYZus{}deg=}\\PY{l+s}{\\PYZdq{}180\\PYZdq{}}\\PY{+w}{ }\\PY{n+na}{scanAngleEffectiveMax\\PYZus{}deg=}\\PY{l+s}{\\PYZdq{}165\\PYZdq{}}\\PY{+w}{ }\\PY{n+na}{scanFreqMin\\PYZus{}Hz=}\\PY{l+s}{\\PYZdq{}10\\PYZdq{}}\\PY{+w}{ }\\PY{n+na}{scanFreqMax\\PYZus{}Hz=}\\PY{l+s}{\\PYZdq{}200\\PYZdq{}}\\PY{n+nt}{\\PYZgt{}}\n\\PY{+w}{\t\t}\n\\PY{+w}{\t\t\t}\\PY{n+nt}{\\PYZlt{}beamOrigin}\\PY{+w}{ }\\PY{n+na}{x=}\\PY{l+s}{\\PYZdq{}0\\PYZdq{}}\\PY{+w}{ }\\PY{n+na}{y=}\\PY{l+s}{\\PYZdq{}0.085\\PYZdq{}}\\PY{+w}{ }\\PY{n+na}{z=}\\PY{l+s}{\\PYZdq{}0.06\\PYZdq{}}\\PY{n+nt}{\\PYZgt{}}\\PY{+w}{\t\t\t}\n\\PY{+w}{\t\t\t\t}\\PY{n+nt}{\\PYZlt{}rot}\\PY{+w}{ }\\PY{n+na}{axis=}\\PY{l+s}{\\PYZdq{}x\\PYZdq{}}\\PY{+w}{ }\\PY{n+na}{angle\\PYZus{}deg=}\\PY{l+s}{\\PYZdq{}90\\PYZdq{}}\\PY{+w}{ }\\PY{n+nt}{/\\PYZgt{}}\\PY{+w}{\t\t\t}\n\\PY{+w}{\t\t\t\t}\\PY{n+nt}{\\PYZlt{}rot}\\PY{+w}{ }\\PY{n+na}{axis=}\\PY{l+s}{\\PYZdq{}z\\PYZdq{}}\\PY{+w}{ }\\PY{n+na}{angle\\PYZus{}deg=}\\PY{l+s}{\\PYZdq{}90\\PYZdq{}}\\PY{+w}{ }\\PY{n+nt}{/\\PYZgt{}}\\PY{+w}{\t\t\t}\n\\PY{+w}{\t\t\t}\\PY{n+nt}{\\PYZlt{}/beamOrigin\\PYZgt{}}\n\\PY{+w}{\t\t}\\PY{n+nt}{\\PYZlt{}headRotateAxis}\\PY{+w}{ }\\PY{n+na}{x=}\\PY{l+s}{\\PYZdq{}0\\PYZdq{}}\\PY{+w}{ }\\PY{n+na}{y=}\\PY{l+s}{\\PYZdq{}0\\PYZdq{}}\\PY{+w}{ }\\PY{n+na}{z=}\\PY{l+s}{\\PYZdq{}1\\PYZdq{}}\\PY{+w}{ }\\PY{n+nt}{/\\PYZgt{}}\n\\PY{+w}{\t}\\PY{n+nt}{\\PYZlt{}/scanner\\PYZgt{}}\n\\PY{+w}{\t}\n\\end{Verbatim}\n"
     },
     "execution_count": 8,
     "metadata": {},
     "output_type": "execute_result"
    }
   ],
   "source": [
    "Code(display_xml('data/scanners_als.xml', 'riegl_vux-1uav'), language='XML')"
   ],
   "metadata": {
    "collapsed": false,
    "ExecuteTime": {
     "start_time": "2023-08-23T11:27:33.746987Z",
     "end_time": "2023-08-23T11:27:33.771988Z"
    }
   }
  },
  {
   "cell_type": "code",
   "execution_count": null,
   "outputs": [],
   "source": [],
   "metadata": {
    "collapsed": false
   }
  }
 ],
 "metadata": {
  "kernelspec": {
   "display_name": "Python 3",
   "language": "python",
   "name": "python3"
  },
  "language_info": {
   "codemirror_mode": {
    "name": "ipython",
    "version": 2
   },
   "file_extension": ".py",
   "mimetype": "text/x-python",
   "name": "python",
   "nbconvert_exporter": "python",
   "pygments_lexer": "ipython2",
   "version": "2.7.6"
  }
 },
 "nbformat": 4,
 "nbformat_minor": 0
}
