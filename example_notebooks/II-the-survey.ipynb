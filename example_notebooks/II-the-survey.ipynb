{
 "cells": [
  {
   "cell_type": "markdown",
   "metadata": {},
   "source": [
    "# The Survey\n",
    "***"
   ]
  },
  {
   "cell_type": "markdown",
   "metadata": {},
   "source": [
    "<img align=\"right\" src=\"https://github.com/3dgeo-heidelberg/helios/blob/dev/h++.png?raw=true\" width=\"300\">\n",
    "\n",
    "This page will give an introduction on using `pyhelios` to access and modify surveys.\n",
    "\n",
    "`pyhelios` allows you to:\n",
    "\n",
    "- obtain scanning device characteristics\n",
    "- calculate the length of a survey\n",
    "- view and modify the scanner and platform settings at each leg"
   ]
  },
  {
   "cell_type": "code",
   "execution_count": null,
   "metadata": {
    "pycharm": {
     "name": "#%%\n"
    }
   },
   "outputs": [],
   "source": [
    "import math\n",
    "import pyhelios"
   ]
  },
  {
   "cell_type": "code",
   "execution_count": null,
   "metadata": {},
   "outputs": [],
   "source": [
    "import os\n",
    "os.chdir(\"..\")"
   ]
  },
  {
   "cell_type": "code",
   "execution_count": null,
   "metadata": {
    "pycharm": {
     "name": "#%%\n"
    }
   },
   "outputs": [],
   "source": [
    "pyhelios.logging_default()\n",
    "# build simulation parameters\n",
    "simBuilder = pyhelios.SimulationBuilder(\n",
    "    \"data/surveys/toyblocks/als_toyblocks.xml\", [\"assets/\"], \"output/\"\n",
    ")\n",
    "simBuilder.setNumThreads(0)\n",
    "simBuilder.setLasOutput(True)\n",
    "simBuilder.setZipOutput(True)\n",
    "\n",
    "# build the survey\n",
    "simB = simBuilder.build()"
   ]
  },
  {
   "cell_type": "markdown",
   "metadata": {
    "pycharm": {
     "name": "#%% md\n"
    }
   },
   "source": [
    "Once we built a survey, we have numerous options to obtain and change the characteristics of all components of our simulation. Note that after the steps above, simB is a SimulationBuild object. To access the Simulation itself, we have to call simB.sim."
   ]
  },
  {
   "cell_type": "code",
   "execution_count": null,
   "metadata": {
    "pycharm": {
     "name": "#%%\n"
    }
   },
   "outputs": [],
   "source": [
    "# obtain survey path and name\n",
    "survey_path = simB.sim.survey_path\n",
    "survey = simB.sim.survey\n",
    "survey_name = survey.name\n",
    "print(survey_name)"
   ]
  },
  {
   "cell_type": "markdown",
   "metadata": {
    "pycharm": {
     "name": "#%% md\n"
    }
   },
   "source": [
    "We can also obtain the survey length, i.e. the distance through all waypoints.\n",
    "If the survey has not been running yet, `survey.getLength()` will return 0.0.\n",
    "We can calculate the length of a loaded survey of a simulation which was built but not started with `survey.calculateLength()`.\n"
   ]
  },
  {
   "cell_type": "code",
   "execution_count": null,
   "metadata": {
    "pycharm": {
     "name": "#%%\n"
    }
   },
   "outputs": [],
   "source": [
    "survey.length"
   ]
  },
  {
   "cell_type": "code",
   "execution_count": null,
   "metadata": {
    "pycharm": {
     "name": "#%%\n"
    }
   },
   "outputs": [],
   "source": [
    "survey.calculate_length()\n",
    "print(survey.length)"
   ]
  },
  {
   "cell_type": "markdown",
   "metadata": {
    "pycharm": {
     "name": "#%% md\n"
    }
   },
   "source": [
    "## The Scanner\n",
    "\n",
    "Let's have a look at the scanner we are using."
   ]
  },
  {
   "cell_type": "code",
   "execution_count": null,
   "metadata": {
    "pycharm": {
     "name": "#%%\n"
    }
   },
   "outputs": [],
   "source": [
    "scanner = simB.sim.scanner\n",
    "# print scanner characteristics\n",
    "print(scanner.to_string())"
   ]
  },
  {
   "cell_type": "markdown",
   "metadata": {
    "pycharm": {
     "name": "#%% md\n"
    }
   },
   "source": [
    "The scanner characteristics can also be accessed individually:"
   ]
  },
  {
   "cell_type": "code",
   "execution_count": null,
   "metadata": {
    "pycharm": {
     "name": "#%%\n"
    }
   },
   "outputs": [],
   "source": [
    "print(\n",
    "    f\"\"\"\n",
    "{'Device ID:' : <25}{scanner.device_id : ^8}\n",
    "\n",
    "{'Average power:' : <25}{scanner.average_power : <8} W\n",
    "{'Beam divergence:' : <25}{scanner.beam_divergence : <8} rad\n",
    "{'Wavelength:' : <25}{scanner.wavelength*1000000000 : <8} nm\n",
    "{'Scanner visibility:' : <25}{scanner.visibility : <8} km\n",
    "\"\"\"\n",
    ")"
   ]
  },
  {
   "cell_type": "markdown",
   "metadata": {
    "pycharm": {
     "name": "#%% md\n"
    }
   },
   "source": [
    "The scanner has also some more properties:"
   ]
  },
  {
   "cell_type": "code",
   "execution_count": null,
   "metadata": {
    "pycharm": {
     "name": "#%%\n"
    }
   },
   "outputs": [],
   "source": [
    "if scanner.max_nor == 0:\n",
    "    max_nor = \"unlimited\"\n",
    "else:\n",
    "    max_nor = scanner.max_nor\n",
    "\n",
    "\n",
    "print(\n",
    "    f\"\"\"\n",
    "{'Number of subsampling rays:' : <30}{scanner.num_rays}\n",
    "{'Pulse length:' : <30}{scanner.pulse_length} ns\n",
    "{'Supported pulse frequencies:' : <30}{list(scanner.supported_pulse_freqs_hz)} Hz\n",
    "{'Maximum number of returns:': <30}{max_nor}\n",
    "\n",
    "\"\"\"\n",
    ")"
   ]
  },
  {
   "cell_type": "markdown",
   "metadata": {
    "pycharm": {
     "name": "#%% md\n"
    }
   },
   "source": [
    "We can also get information about the scanner head, e.g. the maximum rotation speed in case of TLS scanners.\n",
    "\n",
    "\n",
    "To demonstrate this, let's load a TLS survey."
   ]
  },
  {
   "cell_type": "code",
   "execution_count": null,
   "metadata": {
    "pycharm": {
     "name": "#%%\n"
    }
   },
   "outputs": [],
   "source": [
    "pyhelios.logging_default()\n",
    "# build simulation parameters\n",
    "simBuilder = pyhelios.SimulationBuilder(\n",
    "    \"data/surveys/demo/tls_arbaro_demo.xml\", [\"assets/\"], \"output/\"\n",
    ")\n",
    "simBuilder.setNumThreads(0)\n",
    "simBuilder.setLasOutput(True)\n",
    "simBuilder.setZipOutput(True)\n",
    "\n",
    "# build the survey\n",
    "simB = simBuilder.build()"
   ]
  },
  {
   "cell_type": "code",
   "execution_count": null,
   "metadata": {
    "pycharm": {
     "name": "#%%\n"
    }
   },
   "outputs": [],
   "source": [
    "scanner = simB.sim.scanner\n",
    "print(scanner.to_string())"
   ]
  },
  {
   "cell_type": "code",
   "execution_count": null,
   "metadata": {
    "pycharm": {
     "name": "#%%\n"
    }
   },
   "outputs": [],
   "source": [
    "head = scanner.scanner_head\n",
    "# get scanner rotation speed and range\n",
    "print(\n",
    "    f\"\"\"\n",
    "Max. rotation speed: {round(head.rotate_per_sec_max * 180 / math.pi)} degrees per second\n",
    "\"\"\"\n",
    ")"
   ]
  },
  {
   "cell_type": "markdown",
   "metadata": {
    "pycharm": {
     "name": "#%% md\n"
    }
   },
   "source": [
    "If we want to obtain information about the scanning mechanism, we have to get the beam deflector."
   ]
  },
  {
   "cell_type": "code",
   "execution_count": null,
   "metadata": {
    "pycharm": {
     "name": "#%%\n"
    }
   },
   "outputs": [],
   "source": [
    "deflector = scanner.beam_deflector\n",
    "print(\n",
    "    f\"\"\"\n",
    "{'Scanner deflector type:': <25}{deflector.optics_type : <8}\n",
    "{'Scan frequency range:' : <25}{deflector.scan_freq_min} - {deflector.scan_freq_max} Hz\n",
    "{'Scan angle range:' : <25}{round(deflector.scan_angle_max * 180 / math.pi)}° FOV\n",
    "\"\"\"\n",
    ")"
   ]
  },
  {
   "cell_type": "markdown",
   "metadata": {
    "pycharm": {
     "name": "#%% md\n"
    }
   },
   "source": [
    "From the beam detector, we get information about, e.g., the accuracy of the scanner."
   ]
  },
  {
   "cell_type": "code",
   "execution_count": null,
   "metadata": {
    "pycharm": {
     "name": "#%%\n"
    }
   },
   "outputs": [],
   "source": [
    "detector = scanner.detector\n",
    "print(\n",
    "    f\"\"\"\n",
    "{'Accuracy:' : <20}{detector.accuracy} m\n",
    "{'Minimum range:' : <20}{detector.range_min} m\n",
    "{'Maximum range:': <20}{detector.range_max} m\n",
    "\"\"\"\n",
    ")"
   ]
  },
  {
   "cell_type": "markdown",
   "metadata": {
    "pycharm": {
     "name": "#%% md\n"
    }
   },
   "source": [
    "We can also get the scanner full waveform settings.\n",
    "Like many of the scanner settings, they can be overwritten in the `scannerSettings` of a leg."
   ]
  },
  {
   "cell_type": "code",
   "execution_count": null,
   "metadata": {
    "pycharm": {
     "name": "#%%\n"
    }
   },
   "outputs": [],
   "source": [
    "print(\n",
    "    f\"\"\"Full waveform settings for {scanner.device_id}\n",
    "{'Bin size:' : <25}{scanner.FWF_settings.bin_size} ns\n",
    "{'Window size:' : <25}{scanner.FWF_settings.win_size} ns\n",
    "{'Beam sample quality:' : <25}{scanner.FWF_settings.beam_sample_quality}\n",
    "\"\"\"\n",
    ")"
   ]
  },
  {
   "cell_type": "markdown",
   "metadata": {
    "pycharm": {
     "name": "#%% md\n"
    }
   },
   "source": [
    "## Legs\n",
    "\n",
    "Each leg of a survey has scanner settings and platform settings, (cf. survey XML file),\n",
    "which can be accessed and changed with `pyhelios`.\n"
   ]
  },
  {
   "cell_type": "code",
   "execution_count": null,
   "metadata": {
    "pycharm": {
     "name": "#%%\n"
    }
   },
   "outputs": [],
   "source": [
    "# get the first leg\n",
    "leg = simB.sim.get_leg(0)\n",
    "\n",
    "# scanner settings\n",
    "print(\n",
    "    f\"\"\"\n",
    "{'Scanner is active:' : <30}{leg.scanner_settings.is_active}\n",
    "{'Pulse frequency:' : <30}{leg.scanner_settings.pulse_frequency} Hz\n",
    "{'Scan angle:' : <30}{leg.scanner_settings.scan_angle * 180 / math.pi}°\n",
    "{'Minimum vertical angle:' : <30}{leg.scanner_settings.min_vertical_angle * 180 / math.pi:+.1f}°\n",
    "{'Maximum vertical angle:' : <30}{round(leg.scanner_settings.max_vertical_angle * 180 / math.pi):+.1f}°\n",
    "{'Scan frequency:' : <30}{leg.scanner_settings.scan_frequency} Hz\n",
    "{'Beam divergence:' : <30}{leg.scanner_settings.beam_divergence_angle * 1000} mrad\n",
    "{'Trajectory time interval:' : <30}{leg.scanner_settings.trajectory_time_interval} s\n",
    "{'Start angle of head rotation:' : <30}{leg.scanner_settings.rotation_start_angle * 180 / math.pi}°\n",
    "{'Start angle of head rotation:' : <30}{leg.scanner_settings.rotation_stop_angle * 180 / math.pi}°\n",
    "{'Rotation speed:' : <30}{leg.scanner_settings.head_rotation * 180 / math.pi}° per s\n",
    "\"\"\"\n",
    ")"
   ]
  },
  {
   "cell_type": "markdown",
   "metadata": {
    "pycharm": {
     "name": "#%% md\n"
    }
   },
   "source": [
    "Scanner Settings and platform settings may be defined through a template.\n",
    "For this, let's first switch back to the ALS toyblocks demo."
   ]
  },
  {
   "cell_type": "code",
   "execution_count": null,
   "metadata": {
    "pycharm": {
     "name": "#%%\n"
    }
   },
   "outputs": [],
   "source": [
    "simBuilder = pyhelios.SimulationBuilder(\n",
    "    \"data/surveys/toyblocks/als_toyblocks.xml\", [\"assets/\"], \"output/\"\n",
    ")\n",
    "simBuilder.setNumThreads(0)\n",
    "simBuilder.setLasOutput(True)\n",
    "simBuilder.setZipOutput(True)\n",
    "simB = simBuilder.build()"
   ]
  },
  {
   "cell_type": "markdown",
   "metadata": {
    "pycharm": {
     "name": "#%% md\n"
    }
   },
   "source": [
    "The template can be accessed for a given `ScannerSettings` or `PlatformSettings` instance:"
   ]
  },
  {
   "cell_type": "code",
   "execution_count": null,
   "metadata": {
    "pycharm": {
     "name": "#%%\n"
    }
   },
   "outputs": [],
   "source": [
    "leg = simB.sim.get_leg(0)\n",
    "\n",
    "ss = leg.scanner_settings\n",
    "if ss.has_template():\n",
    "    ss_tmpl = ss.base_template\n",
    "    print(\n",
    "        f\"\"\"\n",
    "    Scanner template name: {ss_tmpl.id}\n",
    "    Pulse frequency: {ss_tmpl.pulse_frequency/1000} kHz\n",
    "    \"\"\"\n",
    "    )  # Print the pulse frequency defined in the template"
   ]
  },
  {
   "cell_type": "code",
   "execution_count": null,
   "metadata": {
    "pycharm": {
     "name": "#%%\n"
    }
   },
   "outputs": [],
   "source": [
    "ps = leg.platform_settings\n",
    "if ps.has_template():\n",
    "    ps_tmpl = ps.base_template\n",
    "    print(\n",
    "        f\"\"\"\n",
    "    {'Platform template name:' : <25}{ps_tmpl.id}\n",
    "    {'Speed:' : <15}{ps_tmpl.speed_m_s} m/s\n",
    "    {'Altitude:' : <15}{ps_tmpl.z} m\n",
    "    \"\"\"\n",
    "    )"
   ]
  },
  {
   "cell_type": "markdown",
   "metadata": {
    "pycharm": {
     "name": "#%% md\n"
    }
   },
   "source": [
    "We can also change the template."
   ]
  },
  {
   "cell_type": "code",
   "execution_count": null,
   "metadata": {
    "pycharm": {
     "name": "#%%\n"
    }
   },
   "outputs": [],
   "source": [
    "ps_tmpl.z += 20\n",
    "print(f\"New altitude: {ps_tmpl.z} m\")"
   ]
  },
  {
   "cell_type": "markdown",
   "metadata": {
    "pycharm": {
     "name": "#%% md\n"
    }
   },
   "source": [
    "We can also obtain the position at the current leg:"
   ]
  },
  {
   "cell_type": "code",
   "execution_count": null,
   "metadata": {
    "pycharm": {
     "name": "#%%\n"
    }
   },
   "outputs": [],
   "source": [
    "print(\n",
    "    f\"\"\"\n",
    "On ground? {leg.platform_settings.is_on_ground}\n",
    "Position: ({leg.platform_settings.x}, {leg.platform_settings.y}, {leg.platform_settings.z})\n",
    "\"\"\"\n",
    ")"
   ]
  },
  {
   "cell_type": "markdown",
   "metadata": {
    "pycharm": {
     "name": "#%% md\n"
    }
   },
   "source": [
    "If we compare the position here to the position in the XML survey file, we notice that they do not match.\n",
    "The difference is 50 in x direction and 70 in y direction.\n",
    "\n",
    "When loading a survey, **a shift is applied to the scene and to each leg**. We can obtain this shift:"
   ]
  },
  {
   "cell_type": "code",
   "execution_count": null,
   "metadata": {
    "pycharm": {
     "name": "#%%\n"
    }
   },
   "outputs": [],
   "source": [
    "scene = simB.sim.scene\n",
    "shift = scene.shift\n",
    "print(f\"Shift = ({shift[0]},{shift[1]},{shift[2]})\")"
   ]
  },
  {
   "cell_type": "markdown",
   "metadata": {
    "pycharm": {
     "name": "#%% md\n"
    }
   },
   "source": [
    "Using a for-loop, we can get the positions of all legs.\n",
    "Note that we add the shift to obtain the true coordinates as specified in the XML-file:\n"
   ]
  },
  {
   "cell_type": "code",
   "execution_count": null,
   "metadata": {
    "pycharm": {
     "name": "#%%\n"
    }
   },
   "outputs": [],
   "source": [
    "for i in range(simB.sim.num_legs):\n",
    "    leg = simB.sim.get_leg(i)\n",
    "    print(\n",
    "        f\"Leg {i}\\tposition = \"\n",
    "        f\"{leg.platform_settings.x+shift[0]},\"\n",
    "        f\"{leg.platform_settings.y+shift[1]},\"\n",
    "        f\"{leg.platform_settings.z+shift[2]}\\t\"\n",
    "        f\"active = {leg.scanner_settings.is_active}\"\n",
    "    )"
   ]
  },
  {
   "cell_type": "markdown",
   "metadata": {
    "pycharm": {
     "name": "#%% md\n"
    }
   },
   "source": [
    "We can also use a for-loop to create new legs.\n",
    "Here an example, where we initiate a simulation with a survey with no legs (`data/surveys/default_survey.xml`) and\n",
    "then create the legs with Python."
   ]
  },
  {
   "cell_type": "code",
   "execution_count": null,
   "metadata": {
    "pycharm": {
     "name": "#%%\n"
    }
   },
   "outputs": [],
   "source": [
    "pyhelios.logging_default()\n",
    "default_survey_path = \"data/surveys/default_survey.xml\"\n",
    "\n",
    "# default survey with the toyblocks scene (missing platform and scanner definition and not containing any legs)\n",
    "survey = \"\"\"\n",
    "<?xml version=\"1.0\" encoding=\"UTF-8\"?>\n",
    "<document>\n",
    "    <survey name=\"some_survey\" scene=\"data/scenes/toyblocks/toyblocks_scene.xml#toyblocks_scene\" platform=\"data/platforms.xml#copter_linearpath\" scanner=\"data/scanners_als.xml#riegl_vux-1uav\">\n",
    "    </survey>\n",
    "</document>\n",
    "\"\"\"\n",
    "\n",
    "with open(default_survey_path, \"w\") as f:\n",
    "    f.write(survey)\n",
    "\n",
    "simBuilder = pyhelios.SimulationBuilder(default_survey_path, [\"assets/\"], \"output/\")\n",
    "simBuilder.setCallbackFrequency(10)\n",
    "simBuilder.setLasOutput(True)\n",
    "simBuilder.setZipOutput(True)\n",
    "simBuilder.setRebuildScene(True)\n",
    "\n",
    "simB = simBuilder.build()\n",
    "\n",
    "waypoints = [\n",
    "    [100.0, -100.0],\n",
    "    [-100.0, -100.0],\n",
    "    [-100.0, -50.0],\n",
    "    [100.0, -50.0],\n",
    "    [100.0, 0.0],\n",
    "    [-100.0, 0.0],\n",
    "    [-100.0, 50.0],\n",
    "    [100.0, 50.0],\n",
    "    [100.0, 100.0],\n",
    "    [-100.0, 100.0],\n",
    "]\n",
    "altitude = 100\n",
    "speed = 150\n",
    "pulse_freq = 300_000\n",
    "scan_freq = 200\n",
    "scan_angle = 37.5 / 180 * math.pi  # convert to rad\n",
    "shift = simB.sim.scene.shift\n",
    "for j, wp in enumerate(waypoints):\n",
    "    leg = simB.sim.new_leg(j)\n",
    "    leg.serial_id = j  # assigning a serialId is important!\n",
    "    leg.platform_settings.x = wp[0] - shift[0]  # don't forget to apply the shift!\n",
    "    leg.platform_settings.y = wp[1] - shift[1]\n",
    "    leg.platform_settings.z = altitude - shift[2]\n",
    "    leg.platform_settings.speed_m_s = speed\n",
    "    leg.scanner_settings.pulse_frequency = pulse_freq\n",
    "    leg.scanner_settings.scan_frequency = scan_freq\n",
    "    leg.scanner_settings.scan_angle = scan_angle\n",
    "    leg.scanner_settings.trajectory_time_interval = (\n",
    "        0.05  # important to get a trajectory output\n",
    "    )\n",
    "    if j % 2 != 0:\n",
    "        leg.scanner_settings.is_active = False"
   ]
  },
  {
   "cell_type": "markdown",
   "metadata": {
    "pycharm": {
     "name": "#%% md\n"
    }
   },
   "source": [
    "Let's execute this survey!"
   ]
  },
  {
   "cell_type": "code",
   "execution_count": null,
   "metadata": {
    "pycharm": {
     "name": "#%%\n"
    }
   },
   "outputs": [],
   "source": [
    "import time\n",
    "\n",
    "start_time = time.time()\n",
    "simB.start()\n",
    "\n",
    "if simB.isStarted():\n",
    "    print(\"Simulation is started!\")\n",
    "\n",
    "while simB.isRunning():\n",
    "    duration = time.time() - start_time\n",
    "    mins = duration // 60\n",
    "    secs = duration % 60\n",
    "    print(\n",
    "        \"\\r\"\n",
    "        + \"Simulation is running since {} min and {} sec. Please wait.\".format(\n",
    "            int(mins), int(secs)\n",
    "        ),\n",
    "        end=\"\",\n",
    "    )\n",
    "    time.sleep(1)\n",
    "\n",
    "output = simB.join()\n",
    "print(\"\\nSimulation has finished.\")"
   ]
  },
  {
   "cell_type": "markdown",
   "metadata": {},
   "source": [
    "Now let us also quickly visualize the output. We load the points into numpy arrays using the function `outputToNumpy` and then visualize the point cloud with matplotlib as a simple top view with points coloured by the `hitObjectId`."
   ]
  },
  {
   "cell_type": "code",
   "execution_count": null,
   "metadata": {
    "pycharm": {
     "name": "#%%\n"
    }
   },
   "outputs": [],
   "source": [
    "import matplotlib.pyplot as plt\n",
    "\n",
    "pc, trajectory = pyhelios.outputToNumpy(output)\n",
    "\n",
    "# Matplotlib figure.\n",
    "fig = plt.figure(figsize=(5, 5))\n",
    "# Axes3d axis onto mpl figure.\n",
    "ax = fig.add_subplot()\n",
    "\n",
    "# Scatter plot of original and simulated points in different colors\n",
    "ax.scatter(pc[:, 0], pc[:, 1], c=pc[:, 14], s=0.01)\n",
    "\n",
    "# Add axis labels.\n",
    "ax.set_xlabel(\"$X$\")\n",
    "ax.set_ylabel(\"$Y$\")\n",
    "ax.axis(\"equal\")\n",
    "\n",
    "# Set title.\n",
    "from textwrap import wrap\n",
    "\n",
    "title = ax.set_title(\n",
    "    \"\\n\".join(\n",
    "        wrap(\n",
    "            \"Top view of the simulated point cloud, coloured by \" + r\"$hitObjectId$\", 40\n",
    "        )\n",
    "    )\n",
    ")\n",
    "\n",
    "plt.show()"
   ]
  },
  {
   "cell_type": "code",
   "execution_count": null,
   "metadata": {
    "pycharm": {
     "name": "#%%\n"
    }
   },
   "outputs": [],
   "source": []
  },
  {
   "cell_type": "code",
   "execution_count": null,
   "metadata": {},
   "outputs": [],
   "source": []
  }
 ],
 "metadata": {
  "kernelspec": {
   "display_name": "Python 3 (ipykernel)",
   "language": "python",
   "name": "python3"
  },
  "language_info": {
   "codemirror_mode": {
    "name": "ipython",
    "version": 3
   },
   "file_extension": ".py",
   "mimetype": "text/x-python",
   "name": "python",
   "nbconvert_exporter": "python",
   "pygments_lexer": "ipython3",
   "version": "3.12.5"
  }
 },
 "nbformat": 4,
 "nbformat_minor": 4
}
