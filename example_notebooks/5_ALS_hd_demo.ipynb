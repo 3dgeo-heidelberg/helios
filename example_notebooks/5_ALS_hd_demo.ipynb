{
 "cells": [
  {
   "cell_type": "markdown",
   "id": "61f605d4",
   "metadata": {},
   "source": [
    "# ALS HD demo scene\n",
    "\n",
    "Notebook creator:\n",
    "\n",
    "This demo scene uses a digital terrain model (DTM) of Heidelberg, Germany, which will be scanned by airborne laser scanning (ALS). We will use the command-line access of HELIOS++ to run the simulation, and use Python just for displaying the input XMLs and the resulting point clouds."
   ]
  },
  {
   "cell_type": "code",
   "execution_count": null,
   "id": "939377d9",
   "metadata": {},
   "outputs": [],
   "source": [
    "import sys, os\n",
    "from pathlib import Path\n",
    "from IPython.display import Code\n",
    "\n",
    "current_folder = globals()[\"_dh\"][0]\n",
    "helios_path = str(Path(current_folder).parent)\n",
    "sys.path.append(helios_path)  # add helios-plusplus directory to PATH\n",
    "import pyhelios\n",
    "\n",
    "from pyhelios.util.xmldisplayer import display_xml, find_playback_dir"
   ]
  },
  {
   "cell_type": "markdown",
   "id": "5ded9df1",
   "metadata": {},
   "source": [
    "## Survey\n",
    "Let us look at the XML files in the simulation. First, we investigate the **survey** XML file, `als_hd_demo_tiff.xml`:"
   ]
  },
  {
   "cell_type": "code",
   "execution_count": null,
   "id": "a6a98cdc",
   "metadata": {},
   "outputs": [],
   "source": [
    "os.chdir(helios_path)\n",
    "Code(display_xml(r'data\\surveys\\demo\\als_hd_demo_tiff.xml'), language='XML')"
   ]
  },
  {
   "cell_type": "markdown",
   "id": "1188d0a4",
   "metadata": {},
   "source": [
    "We can see that there are four `leg` elements which define the waypoints of the airplane trajectory with `x`, `y`, `z` coordinates and the speed between these waypoints (`movePerSec_m`). This results in three flight lines.\n",
    "Furthermore, we see that the `sr22` platform in `data/platforms.xml` is referenced, so let's have a look at that next:"
   ]
  },
  {
   "cell_type": "markdown",
   "id": "8fe8f5cd",
   "metadata": {},
   "source": [
    "## Platform"
   ]
  },
  {
   "cell_type": "code",
   "execution_count": null,
   "id": "e13f6fb8",
   "metadata": {},
   "outputs": [],
   "source": [
    "Code(display_xml(r'data\\platforms.xml', 'sr22'))"
   ]
  },
  {
   "cell_type": "markdown",
   "id": "7d01587b",
   "metadata": {},
   "source": [
    "This is a `linearpath` type platform, a mobile platform which moves in a straight line between consecutive legs with a constant speed provided by the user.\n",
    "\n",
    "Without any rotations applied to the `scannerMount` in the platform XML or the `beamOrigin` in the scanner XML, scanners in HELIOS would face towards to Y-axis (forward) and scan in vertical scan lines (in the plane created by the Y- and Z-axis). \n",
    "\n",
    "For the `sr22`, the `scannerMount` is configured so that the scanner is rotated -90° around the X-axis (facing downwards) and 90° around the Z-axis (scanning from left to right, i.e., in the plane created by the X- and Z-axes).\n",
    "\n",
    "For more information and examples, check out the [rotations section](https://github.com/3dgeo-heidelberg/helios/wiki/Platforms#rotations) of the Wiki page on platforms."
   ]
  },
  {
   "cell_type": "markdown",
   "id": "04f96ef7",
   "metadata": {},
   "source": [
    "## Sanner\n",
    "\n",
    "Next we will have a look at the scanner that is placed on the platform. Here it is the `leica_als50-ii` defined in `data/scanners_als.xml` as shown in the survey XML."
   ]
  },
  {
   "cell_type": "code",
   "execution_count": null,
   "id": "99711b70",
   "metadata": {},
   "outputs": [],
   "source": [
    "Code(display_xml(r'data/scanners_als.xml', 'leica_als50-ii'), language='XML')"
   ]
  },
  {
   "cell_type": "markdown",
   "id": "5d969d9a",
   "metadata": {},
   "source": [
    "Here we can see the scanner-specific settings, for example the `beamDivergence_rad`, the `accuracy` or the possible pulse frequencies (`pulseFreq_Hz`). The Leica ALS50-II has an oscillating beam deflector (`optics`) and is capable of recording up to 4 returns per emitted pulse (`maxNOR`)."
   ]
  },
  {
   "cell_type": "markdown",
   "id": "eaa970a4",
   "metadata": {},
   "source": [
    "## Scene\n",
    "\n",
    "Now we will have a look at the scene, `hd_demo.xml`in `data\\scenes\\demo\\hd_demo.xml`:"
   ]
  },
  {
   "cell_type": "code",
   "execution_count": null,
   "id": "1b14db25",
   "metadata": {},
   "outputs": [],
   "source": [
    "Code(display_xml(r'data\\scenes\\demo\\hd_demo.xml', 'hd_demo'))"
   ]
  },
  {
   "cell_type": "markdown",
   "id": "cda5300c",
   "metadata": {},
   "source": [
    "Here we see one object, which is a digital elevation model (DEM) of Heidelberg (Germany) in GeoTIFF file format. To load it, we use the `geotiffloader` filter and give the relative path to the file in the `filepath` parameter."
   ]
  },
  {
   "cell_type": "markdown",
   "id": "e3bf6985",
   "metadata": {},
   "source": [
    "## Executing the Simulation\n",
    "\n",
    "Next, we will run the simulation. In Jupyter Notebooks, we can run external commands with the `!command` syntax, but you can also just run it from the command line."
   ]
  },
  {
   "cell_type": "code",
   "execution_count": null,
   "id": "b3c85c14",
   "metadata": {},
   "outputs": [],
   "source": [
    "!\"run/helios.exe\" data/surveys/demo/als_hd_demo_tiff.xml"
   ]
  },
  {
   "cell_type": "markdown",
   "id": "f5913949",
   "metadata": {},
   "source": [
    "## The results \n",
    "Now we can display a couple of 2D plots of the simulated point cloud.\n",
    "\n",
    "We first load the output files to numpy arrays."
   ]
  },
  {
   "cell_type": "code",
   "execution_count": null,
   "id": "e43f1f1f",
   "metadata": {},
   "outputs": [],
   "source": [
    "import numpy as np\n",
    "import matplotlib.pyplot as plt\n",
    "import matplotlib as mpl\n",
    "\n",
    "output_path = find_playback_dir(r\"data\\surveys\\demo\\als_hd_demo_tiff.xml\")\n",
    "\n",
    "print(\"Loading points from\", output_path)\n",
    "\n",
    "strip_1 = np.loadtxt(Path(output_path) / 'leg000_points.xyz')\n",
    "strip_2 = np.loadtxt(Path(output_path) / 'leg001_points.xyz')\n",
    "strip_3 = np.loadtxt(Path(output_path) / 'leg002_points.xyz')\n",
    "traj_1 = np.loadtxt(Path(output_path) / 'leg000_trajectory.txt')\n",
    "traj_2 = np.loadtxt(Path(output_path) / 'leg001_trajectory.txt')\n",
    "traj_3 = np.loadtxt(Path(output_path) / 'leg002_trajectory.txt')\n",
    "traj = np.vstack((traj_1[:, :3], traj_2[:, :3], traj_3[:, :3]))"
   ]
  },
  {
   "cell_type": "markdown",
   "id": "b3f44f34",
   "metadata": {},
   "source": [
    "Now we create two plots - one from above and one from the side - showing the point cloud colored by flight strip and the trajectory."
   ]
  },
  {
   "cell_type": "code",
   "execution_count": null,
   "id": "9b48e20b",
   "metadata": {},
   "outputs": [],
   "source": [
    "# two subplots\n",
    "fig, (ax1, ax2) = plt.subplots(2, figsize=(15, 12))\n",
    "\n",
    "# view from above, colored by strip, including trajectory - for faster display, show only every 50th measurement\n",
    "ax1.scatter(strip_1[::25, 0], strip_1[::25, 1], s=0.1, alpha=0.4, label=\"Points from strip 1\") # select X and Y coordinates\n",
    "ax1.scatter(strip_2[::25, 0], strip_2[::25, 1], s=0.1, alpha=0.4, label=\"Points from strip 2\")\n",
    "ax1.scatter(strip_3[::25, 0], strip_3[::25, 1], s=0.1, alpha=0.4, label=\"Points from strip 3\")\n",
    "ax1.scatter(traj[:, 0], traj[:, 1], s=0.1, label=\"Trajectory\", color=\"black\")\n",
    "ax1.tick_params(labelsize=16)\n",
    "ax1.set_xlabel('X', fontsize=18)\n",
    "ax1.set_ylabel('Y', fontsize=18, rotation=0)\n",
    "ax1.legend(fontsize=18, markerscale=20, loc=\"lower right\", bbox_to_anchor=(1.01, 1))\n",
    "\n",
    "# use only every 50th measurement for better display\n",
    "ax2.scatter(strip_1[::50, 0], strip_1[::50, 2], alpha=0.05, s=0.1, label=\"Points from strip 1\") # select X and Z coordinates\n",
    "ax2.scatter(strip_2[::50, 0], strip_2[::50, 2], alpha=0.05, s=0.1, label=\"Points from strip 2\")\n",
    "ax2.scatter(strip_3[::50, 0], strip_3[::50, 2], alpha=0.05, s=0.1, label=\"Points from strip 3\")\n",
    "ax2.scatter(traj[:, 0], traj[:, 2], s=0.05, label=\"Trajectory\", color=\"black\")\n",
    "ax2.tick_params(labelsize=16)\n",
    "ax2.set_xlabel('X', fontsize=18)\n",
    "ax2.set_ylabel('Z', fontsize=18, rotation=0)\n",
    "\n",
    "plt.axis('equal')\n",
    "#plt.legend(fontsize=18, markerscale=20)\n",
    "plt.show()"
   ]
  },
  {
   "cell_type": "markdown",
   "id": "45f449c5",
   "metadata": {},
   "source": [
    "Let's create another plot from above which is colored by altitude."
   ]
  },
  {
   "cell_type": "code",
   "execution_count": null,
   "id": "d4e1b87b",
   "metadata": {},
   "outputs": [],
   "source": [
    "#view from above - colored by altitude\n",
    "\n",
    "fig, ax = plt.subplots(figsize=(15, 5))\n",
    "\n",
    "plot1=ax.scatter(strip_1[::20, 0], strip_1[::20, 1], s=0.1, c=strip_1[::20,2], cmap= 'terrain', vmin=50, vmax=500) # select X and y coordinates\n",
    "plot2=ax.scatter(strip_2[::20, 0], strip_2[::20, 1], s=0.1, c=strip_2[::20,2], cmap= 'terrain', vmin=50, vmax=500)\n",
    "plot3=ax.scatter(strip_3[::20, 0], strip_3[::20, 1], s=0.1, c=strip_3[::20,2], cmap= 'terrain', vmin=50, vmax=500)\n",
    "plt.axis('equal')\n",
    "ax.tick_params(labelsize=16)\n",
    "plt.xlabel('X', fontsize=18)\n",
    "plt.ylabel('Y', fontsize=18, rotation=0)\n",
    "\n",
    "cbar = plt.colorbar(plot1)\n",
    "cbar.ax.tick_params(labelsize=16)\n",
    "cbar.set_label(\"Altitude [m]\", fontsize=18)\n",
    "plt.show()"
   ]
  },
  {
   "cell_type": "markdown",
   "id": "bf3a14b9",
   "metadata": {},
   "source": [
    "Finally, plot only a section of the point cloud to get a profile of the Neckar valley in Heidelberg."
   ]
  },
  {
   "cell_type": "code",
   "execution_count": null,
   "id": "d04b868f",
   "metadata": {},
   "outputs": [],
   "source": [
    "# Section in direction of Y \n",
    "\n",
    "xmin, ymin, xmax, ymax = [480000, 5472000, 480100, 5476000]\n",
    "\n",
    "section_1 = strip_1[(strip_1[:, 0] > xmin) & \n",
    "                    (strip_1[:, 0] < xmax) & \n",
    "                    (strip_1[:, 1] > ymin) & \n",
    "                    (strip_1[:, 1] < ymax)]\n",
    "section_2 = strip_2[(strip_2[:, 0] > xmin) & \n",
    "                    (strip_2[:, 0] < xmax) & \n",
    "                    (strip_2[:, 1] > ymin) & \n",
    "                    (strip_2[:, 1] < ymax)]\n",
    "section_3 = strip_3[(strip_3[:, 0] > xmin) & \n",
    "                    (strip_3[:, 0] < xmax) & \n",
    "                    (strip_3[:, 1] > ymin) & \n",
    "                    (strip_3[:, 1] < ymax)]"
   ]
  },
  {
   "cell_type": "code",
   "execution_count": null,
   "id": "631ed0fa",
   "metadata": {},
   "outputs": [],
   "source": [
    "fig = plt.figure(figsize=(15,5))\n",
    "ax = fig.add_subplot()\n",
    "\n",
    "ax.scatter(section_1[:, 1], section_1[:, 2], c=section_1[:, 2], cmap='terrain', s=0.01, vmin=50, vmax=500)\n",
    "ax.scatter(section_2[:, 1], section_2[:, 2], c=section_2[:, 2], cmap='terrain', s=0.01, vmin=50, vmax=500)\n",
    "ax.scatter(section_3[:, 1], section_3[:, 2], c=section_3[:, 2], cmap='terrain', s=0.01, vmin=50, vmax=500)\n",
    "ax.tick_params(labelsize=16)\n",
    "\n",
    "plt.xlabel('X', fontsize=18)\n",
    "plt.ylabel('Height(Z)', fontsize=18, rotation=90)\n",
    "plt.axis('equal')\n",
    "plt.show()"
   ]
  },
  {
   "cell_type": "code",
   "execution_count": null,
   "id": "5849a4e1",
   "metadata": {},
   "outputs": [],
   "source": []
  }
 ],
 "metadata": {
  "kernelspec": {
   "display_name": "Python 3 (ipykernel)",
   "language": "python",
   "name": "python3"
  },
  "language_info": {
   "codemirror_mode": {
    "name": "ipython",
    "version": 3
   },
   "file_extension": ".py",
   "mimetype": "text/x-python",
   "name": "python",
   "nbconvert_exporter": "python",
   "pygments_lexer": "ipython3",
   "version": "3.8.12"
  }
 },
 "nbformat": 4,
 "nbformat_minor": 5
}
