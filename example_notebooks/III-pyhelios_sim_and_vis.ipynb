{
 "cells": [
  {
   "cell_type": "markdown",
   "metadata": {},
   "source": [
    "# pyhelios Demo: LiDAR simulation and visualisation\n",
    "\n",
    "Notebook: Mark Searle, 2020, revised by Hannah Weiser, 2023\n",
    "\n",
    "***\n",
    "\n",
    "This notebook demos the excecution of a __LiDAR survey simulation__ using integrated Python functionalities to initiate __HELIOS++__.\n",
    "The point cloud and the trajectory of the virtual scanner which can be configured to sit upon different moving or stationary platforms is then plotted using __matplotlib__.\n",
    "\n",
    "***\n",
    "The survey is configured through a __.xml survey file__ containing survey name, platform type, scanner type, and scene to be scanned along with platform and scanner settings.  \n",
    "The simulation runs in several legs which represent individual scanner trajectories and are also configured from within the survey file.\n",
    "\n",
    "The survey files are located within __'helios/data/surveys'__!\n",
    "\n",
    "The __survey used in this demo__ (`custom_als_toyblocks.xml`) should be located in this folder.\n",
    "\n",
    "***"
   ]
  },
  {
   "cell_type": "code",
   "execution_count": null,
   "metadata": {},
   "outputs": [],
   "source": [
    "# Imports\n",
    "import time\n",
    "import pyhelios\n",
    "from pathlib import Path"
   ]
  },
  {
   "cell_type": "code",
   "execution_count": null,
   "metadata": {},
   "outputs": [],
   "source": [
    "import os\n",
    "os.chdir(\"..\")"
   ]
  },
  {
   "cell_type": "code",
   "execution_count": null,
   "metadata": {},
   "outputs": [],
   "source": [
    "# Survey to be used.\n",
    "survey_path = 'toyblocks/custom_als_toyblocks.xml'"
   ]
  },
  {
   "cell_type": "markdown",
   "metadata": {},
   "source": [
    "## LiDAR Simulation with PyHelios\n",
    "__1st step - Initiate and run simulation. Access output using pyhelios functions:__\n",
    "\n",
    "***\n",
    "\n",
    "1. Configure simulation context and build a simulation:"
   ]
  },
  {
   "cell_type": "code",
   "execution_count": null,
   "metadata": {},
   "outputs": [],
   "source": [
    "# Sim context.\n",
    "# Set logging.\n",
    "pyhelios.logging_quiet()\n",
    "# Set seed for random number generator.\n",
    "pyhelios.default_rand_generator_seed(\"123\")"
   ]
  },
  {
   "cell_type": "markdown",
   "metadata": {},
   "source": [
    "2. Load survey file:"
   ]
  },
  {
   "cell_type": "code",
   "execution_count": null,
   "metadata": {},
   "outputs": [],
   "source": [
    "from pyhelios import SimulationBuilder\n",
    "\n",
    "simB = SimulationBuilder('data/surveys/' + survey_path, \"assets/\", \"output/\")\n",
    "simB.setLasOutput(True)\n",
    "simB.setZipOutput(False)\n",
    "simB.setCallbackFrequency(100)\n",
    "simB.setFinalOutput(True)"
   ]
  },
  {
   "cell_type": "markdown",
   "metadata": {},
   "source": [
    "3. Run PyHelios simulation:"
   ]
  },
  {
   "cell_type": "code",
   "execution_count": null,
   "metadata": {},
   "outputs": [],
   "source": [
    "# Start the simulation.\n",
    "sim = simB.build()\n",
    "sim.start()\n",
    "\n",
    "# Various simulation status functions available.\n",
    "if sim.isStarted():\n",
    "    print('Simulation has started!')\n",
    "\n",
    "# Simulation can be paused with simulation.pause().\n",
    "time.sleep(3)\n",
    "sim.pause()\n",
    "\n",
    "if sim.isPaused():\n",
    "    print('Simulation is paused!')\n",
    "    \n",
    "if not sim.isRunning():\n",
    "    print('Sim is not running.')\n",
    "    \n",
    "time.sleep(5)\n",
    "sim.resume()\n",
    "\n",
    "if sim.isRunning():\n",
    "    print('Simulation has resumed!')"
   ]
  },
  {
   "cell_type": "markdown",
   "metadata": {},
   "source": [
    "4. Process Output:"
   ]
  },
  {
   "cell_type": "code",
   "execution_count": 7,
   "metadata": {
    "scrolled": true
   },
   "outputs": [],
   "source": [
    "# Create instance of PyHeliosOutputWrapper class using sim.join(). \n",
    "# Contains attributes 'measurements' and 'trajectories' which are Python wrappers of classes that contain the output vectors.\n",
    "output = sim.join()\n",
    "\n",
    "print(\"{n} flight strips simulated and saved to file:\".format(n=len(output[3])))\n",
    "for strip in output[3]:\n",
    "    print(Path(strip).as_posix())\n",
    "\n",
    "# Create instances of vector classes by accessing 'measurements' and 'trajectories' attributes of output wrapper.\n",
    "measurements = output[0]\n",
    "trajectories = output[1]\n",
    "\n",
    "# Get amount of points in trajectory and amount of measurements by accessing length of measurement and trajectory vectors.\n",
    "print('\\nNumber of measurements : {n}'.format(n=len(measurements)))\n",
    "print('Number of points in trajectory : {n}'.format(n=len(trajectories)))\n",
    "\n",
    "# Each element of vectors contains a measurement point or point in trajectory respectively. Access through getPosition().\n",
    "# Get starting and end point of trajectory from first and last element of trajectory with getPosition() method.\n",
    "starting_point = trajectories[0].position\n",
    "end_point = trajectories[len(trajectories) - 1].position\n",
    "\n",
    "# Output individual x, y and z vals.\n",
    "# Accessed through x, y and z attributes of points from getPosition() method.\n",
    "print('Trajectory starting point : ({x}, {y}, {z})'.format(\n",
    "    x=starting_point[0], y=starting_point[1], z=starting_point[2]))\n",
    "\n",
    "print('Trajectory end point : ({x}, {y}, {z})'.format(\n",
    "    x=end_point[0], y=end_point[1], z=end_point[2]))"
   ]
  },
  {
   "cell_type": "markdown",
   "metadata": {},
   "source": [
    "## Plot Resulting Point Cloud and Trajectory\n",
    "__2nd step: Survey scanner trajectory plot using matplotlib mplot3d:__\n",
    "\n",
    "***\n",
    "\n",
    "Here we can make use of the pyhelios function __outputToNumpy__, which saves both measurement and trajectory data as numpy arrays."
   ]
  },
  {
   "cell_type": "code",
   "execution_count": 8,
   "metadata": {},
   "outputs": [],
   "source": [
    "# Imports\n",
    "import matplotlib.pyplot as plt\n",
    "from mpl_toolkits.mplot3d import Axes3D\n",
    "import numpy as np\n",
    "\n",
    "from pyhelios import outputToNumpy"
   ]
  },
  {
   "cell_type": "markdown",
   "metadata": {},
   "source": [
    "1. Create numpy Array with points from trajectory using `outputToNumpy()`:"
   ]
  },
  {
   "cell_type": "code",
   "execution_count": 9,
   "metadata": {},
   "outputs": [],
   "source": [
    "# Output is two np.arrays. One for measurements and one for trajectory points.\n",
    "measurement_points, trajectory_points = outputToNumpy(output)\n",
    "\n",
    "# Trajectory points to be plotted:\n",
    "# First three cols are x, y and z vals\n",
    "tpoints = trajectory_points[:,0:3]\n",
    "# Measurement points to be plotted, only every 10th\n",
    "# First three cols are x, y and z vals\n",
    "mpoints = measurement_points[::10,0:3]\n",
    "# color of measurements: 14th column is hitObjectId\n",
    "c = measurement_points[::10,14]"
   ]
  },
  {
   "cell_type": "markdown",
   "metadata": {},
   "source": [
    "2. 3D figure is created using mplot3d and the measurement and trajectory points are plotted onto 3D figure:"
   ]
  },
  {
   "cell_type": "code",
   "execution_count": 10,
   "metadata": {},
   "outputs": [],
   "source": [
    "# Matplotlib figure.\n",
    "fig = plt.figure()\n",
    "# Axes3d axis onto mpl figure.\n",
    "ax = fig.add_subplot(projection='3d')\n",
    "\n",
    "# Plot scatter plot of measurements\n",
    "ax.scatter(mpoints[:,0], mpoints[:,1], mpoints[:,2], s=0.05, alpha=0.2, c=c, label='points')\n",
    "\n",
    "# Plot line plot of trajectory.\n",
    "ax.plot(tpoints[:,0], tpoints[:,1], tpoints[:,2], c='green', label='scanner trajectory')\n",
    "# Surface plot of groundplane.\n",
    "# ax.plot_trisurf(groundplane[:,0], groundplane[:,1], groundplane[:,2], color='darkgoldenrod', label='groundplane')\n",
    "\n",
    "# Add fancy labels to scatterplots (alternative to legend).\n",
    "ax.text(tpoints[-1,0], tpoints[-1,1], tpoints[-1,2], 'trajectory',\n",
    "        bbox = dict(boxstyle='round', fc='w', ec='k'), size='7')\n",
    "ax.text(mpoints[-1,0], mpoints[-1,1], mpoints[-1,2], 'measurements',\n",
    "        bbox = dict(boxstyle='round', fc='w', ec='k'), size='7')\n",
    "\n",
    "# Add axis labels.\n",
    "ax.set_xlabel('$X$')\n",
    "ax.set_ylabel('$Y$')\n",
    "ax.set_zlabel('$Z$')\n",
    "\n",
    "# Set title.\n",
    "ax.set_title(label='Point Cloud and Trajectory from pyhelios Simulation')\n",
    "# Set subtitle.\n",
    "ax.text2D(0.1, 0.97, 'points in trajectory: {n}'.format(n=len(trajectories)), fontsize='8', transform=ax.transAxes)\n",
    "ax.text2D(0.1, 0.92, 'points in measurements: {n}'.format(n=len(measurements)), fontsize='8', transform=ax.transAxes)\n",
    "# Display results\n",
    "plt.show()"
   ]
  },
  {
   "cell_type": "code",
   "execution_count": null,
   "metadata": {},
   "outputs": [],
   "source": []
  }
 ],
 "metadata": {
  "kernelspec": {
   "display_name": "Python 3 (ipykernel)",
   "language": "python",
   "name": "python3"
  },
  "language_info": {
   "codemirror_mode": {
    "name": "ipython",
    "version": 3
   },
   "file_extension": ".py",
   "mimetype": "text/x-python",
   "name": "python",
   "nbconvert_exporter": "python",
   "pygments_lexer": "ipython3",
   "version": "3.12.5"
  },
  "toc": {
   "base_numbering": 1,
   "nav_menu": {},
   "number_sections": false,
   "sideBar": true,
   "skip_h1_title": false,
   "title_cell": "Table of Contents",
   "title_sidebar": "Contents",
   "toc_cell": false,
   "toc_position": {},
   "toc_section_display": true,
   "toc_window_display": false
  }
 },
 "nbformat": 4,
 "nbformat_minor": 4
}
