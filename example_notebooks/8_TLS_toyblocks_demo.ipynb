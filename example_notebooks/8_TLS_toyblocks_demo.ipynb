{
 "cells": [
  {
   "cell_type": "markdown",
   "id": "d8ccb343",
   "metadata": {},
   "source": [
    "# Multi-Channel TLS Demo with Toyblocks Scene\n",
    "Notebook: Hannah Weiser & Sina Zumstein, 2023\n",
    "\n",
    "This demo scene showcases toyblock models scanned by a terrestial laserscanner. We will use the command-line access of HELIOS++ to run the simulation, and use Python just for displaying the input XMLs and the resulting point clouds.\n",
    "\n"
   ]
  },
  {
   "cell_type": "code",
   "execution_count": null,
   "id": "631d7d41",
   "metadata": {},
   "outputs": [],
   "source": [
    "import sys, os\n",
    "from pathlib import Path\n",
    "from IPython.display import Code\n",
    "\n",
    "current_folder = globals()[\"_dh\"][0]\n",
    "helios_path = str(Path(current_folder).parent)\n",
    "sys.path.append(helios_path)  # add helios-plusplus directory to PATH\n",
    "import pyhelios\n",
    "\n",
    "from pyhelios.util.xmldisplayer import display_xml, find_playback_dir"
   ]
  },
  {
   "cell_type": "markdown",
   "id": "1089ec1f",
   "metadata": {},
   "source": [
    "## Survey\n",
    "Let us look at the XML files in the simulation. First, we investigate the survey XML file, `livox_test.xml`:"
   ]
  },
  {
   "cell_type": "code",
   "execution_count": null,
   "id": "341e6e5c",
   "metadata": {},
   "outputs": [],
   "source": [
    "os.chdir(helios_path)\n",
    "Code(display_xml(r'data\\surveys\\toyblocks\\livox_test.xml'), language='XML')"
   ]
  },
  {
   "cell_type": "markdown",
   "id": "987518af",
   "metadata": {},
   "source": [
    "We can see that there are two `leg` elements corresponding to the two scan positions (SPs) at `(-10.01, -15.01)` and `(-10, -15.0)`. This seems strange?"
   ]
  },
  {
   "cell_type": "markdown",
   "id": "34f62ce1",
   "metadata": {},
   "source": [
    "## Platform \n"
   ]
  },
  {
   "cell_type": "code",
   "execution_count": null,
   "id": "a8aac22a",
   "metadata": {},
   "outputs": [],
   "source": []
  },
  {
   "cell_type": "markdown",
   "id": "7a44e5a4",
   "metadata": {},
   "source": [
    "## Scanner\n",
    "Now let's look at the scanner that is placed on this platform, the `livox_mid-70` defined in `data\\scanners_tls.xml` (as shown in the survey XML):"
   ]
  },
  {
   "cell_type": "code",
   "execution_count": null,
   "id": "9306260f",
   "metadata": {},
   "outputs": [],
   "source": [
    "Code(display_xml(r'data/scanners_als.xml', 'livox-mid-100'), language='XML')"
   ]
  },
  {
   "cell_type": "markdown",
   "id": "9f26be74",
   "metadata": {},
   "source": [
    "Besides the typical properties, such as `beamDivergence_rad` or `accuracy`, we see a special feature: The scanner has three channels with a different `beamOrigin` each. This way, the multi-channel laser scanner Livox Mid-100 is simulated, which has three LiDAR sensors with overlapping fields of view.\n",
    "\n",
    "<center><img src=\".\\images\\Livox_img.png\" alt=\"Livox\" title=\"Livox technical figure\" width=\"500\">\n",
    "\n",
    "<i>Multi-channel laser scanner Livox Mid-100. Source: [Livox datasheet](https://www.livoxtech.com/3296f540ecf5458a8829e01cf429798e/downloads/20190530/Livox%20Mid-100%20Quick%20Start%20Guide%20multi%20v1.4.pdf).</i></center>"
   ]
  },
  {
   "cell_type": "markdown",
   "id": "ef1d936e",
   "metadata": {},
   "source": [
    "## Scene\n",
    "\n",
    "Finally, let us take a look at the scene, `toyblocks_scene` in `data/scenes/toyblocks/toyblocks_scene.xml`:"
   ]
  },
  {
   "cell_type": "code",
   "execution_count": null,
   "id": "7fbc171c",
   "metadata": {},
   "outputs": [],
   "source": [
    "Code(display_xml(r'data/scenes/toyblocks/toyblocks_scene.xml', 'toyblocks_scene'))"
   ]
  },
  {
   "cell_type": "markdown",
   "id": "4ae88237",
   "metadata": {},
   "source": [
    "This is a simple scene, consisting of a groundplane, two cubes, a sphere and a cylinder. The objects are loaded with the `objloader` filter. The cubes are loaded from the same file (`data/sceneparts/cube.obj`) but the second one is additionally rotated, scaled and translated. The sphere is just scaled while the cylinder is not modified at all."
   ]
  },
  {
   "cell_type": "markdown",
   "id": "10a398d8",
   "metadata": {},
   "source": [
    "## Executing the Simulation\n",
    "\n",
    "Next, we will run the simulation. In Jupyter Notebooks, we can run external commands with the `!command` syntax, but you can also just run it from the command line. In this demo we will run the simulation twice: One time with all three scanners working together, producing one output per strip and one time with the `--splitByChannel` argument, which will create individual outputs for each scanner. We start with the joined simulation."
   ]
  },
  {
   "cell_type": "code",
   "execution_count": null,
   "id": "61262863",
   "metadata": {},
   "outputs": [],
   "source": [
    "!\"run/helios.exe\" data\\surveys\\toyblocks\\livox_test.xml\n",
    "output_path_joined = find_playback_dir(r\"data\\surveys\\toyblocks\\livox_test.xml\")"
   ]
  },
  {
   "cell_type": "code",
   "execution_count": null,
   "id": "3024811c",
   "metadata": {},
   "outputs": [],
   "source": [
    "!\"run/helios.exe\" data\\surveys\\toyblocks\\livox_test.xml --splitByChannel\n",
    "output_path_split_by_channel = find_playback_dir(r\"data\\surveys\\toyblocks\\livox_test.xml\")"
   ]
  },
  {
   "cell_type": "markdown",
   "id": "b4162f6d",
   "metadata": {},
   "source": [
    "## The results \n",
    "Now we can display the 3D plots. \n",
    "\n",
    "### 1) Full point cloud\n",
    "We start with the point cloud of the first simuation and we color it by **object ID**."
   ]
  },
  {
   "cell_type": "code",
   "execution_count": null,
   "id": "05be08a7",
   "metadata": {},
   "outputs": [],
   "source": [
    "import numpy as np\n",
    "import matplotlib.pyplot as plt\n",
    "import matplotlib as mpl\n",
    "from pathlib import Path\n",
    "\n",
    "print(\"Loading points from\", Path(output_path_joined).relative_to(helios_path).as_posix())\n",
    "\n",
    "\n",
    "SP_1 = np.loadtxt(Path(output_path_joined) / 'leg000_points.xyz')\n",
    "SP_2 = np.loadtxt(Path(output_path_joined) / 'leg001_points.xyz')\n",
    "\n",
    "#stacking the SPs \n",
    "SPs= np.vstack((SP_1, SP_2))\n",
    "\n",
    "traj_1 = np.loadtxt(Path(output_path_joined) / 'leg000_trajectory.txt')\n",
    "traj_2 = np.loadtxt(Path(output_path_joined) / 'leg001_trajectory.txt')\n",
    "\n",
    "traj = np.vstack((traj_1[:, :3], traj_2[:, :3]))"
   ]
  },
  {
   "cell_type": "code",
   "execution_count": null,
   "id": "0d29dd63",
   "metadata": {},
   "outputs": [],
   "source": [
    "def set_axes_equal(ax):\n",
    "    '''Make axes of 3D plot have equal scale so that spheres appear as spheres,\n",
    "    cubes as cubes, etc..  This is one possible solution to Matplotlib's\n",
    "    ax.set_aspect('equal') and ax.axis('equal') not working for 3D.\n",
    "\n",
    "    Input\n",
    "      ax: a matplotlib axis, e.g., as output from plt.gca().\n",
    "    '''\n",
    "\n",
    "    x_limits = ax.get_xlim3d()\n",
    "    y_limits = ax.get_ylim3d()\n",
    "    z_limits = ax.get_zlim3d()\n",
    "\n",
    "    x_range = abs(x_limits[1] - x_limits[0])\n",
    "    x_middle = np.mean(x_limits)\n",
    "    y_range = abs(y_limits[1] - y_limits[0])\n",
    "    y_middle = np.mean(y_limits)\n",
    "    z_range = abs(z_limits[1] - z_limits[0])\n",
    "    z_middle = np.mean(z_limits)\n",
    "\n",
    "    # The plot bounding box is a sphere in the sense of the infinity\n",
    "    # norm, hence I call half the max range the plot radius.\n",
    "    plot_radius = 0.5*max([x_range, y_range, z_range])\n",
    "\n",
    "    ax.set_xlim3d([x_middle - plot_radius, x_middle + plot_radius]) \n",
    "    ax.set_ylim3d([y_middle - plot_radius, y_middle + plot_radius])\n",
    "    ax.set_zlim3d([z_middle - plot_radius, z_middle + plot_radius])"
   ]
  },
  {
   "cell_type": "code",
   "execution_count": null,
   "id": "a470fea1",
   "metadata": {},
   "outputs": [],
   "source": [
    "# Matplotlib figures.\n",
    "fig = plt.figure(figsize=(15,10))\n",
    "\n",
    "\n",
    "#settings for a discrete colorbar\n",
    "N=5\n",
    "cmap=plt.get_cmap('jet',N)\n",
    "\n",
    "# Scatter plot of first scanner (coloured by hitObjectId).\n",
    "ax = fig.add_subplot(1,3,1, projection='3d')\n",
    "sc = ax.scatter(SPs[:, 0], Sps[:, 1], SPs[:, 2], c=SPs[:, 8], cmap=cmap, s=0.02, label='scene')\n",
    "\n",
    "# Plot of trajectory.\n",
    "ax.plot(traj[:,0], traj[:,1], traj[:,2], c = 'black', label = 'scanner trajectory')\n",
    "\n",
    "# Add axis labels.\n",
    "ax.set_xlabel('$X$')\n",
    "ax.set_ylabel('$Y$')\n",
    "ax.set_zlabel('$Z$')\n",
    "\n",
    "set_axes_equal(ax)    \n",
    "\n",
    "# Set title.\n",
    "ax.set_title(label='Point cloud and trajectory',fontsize=18)\n",
    "\n",
    "cax = plt.axes([0.4, 0.35, 0.01, 0.25])\n",
    "cbar = plt.colorbar(sc, cax=cax, ticks=[2/3,4/3,2,8/3,10/3])\n",
    "\n",
    "cbar.set_label(\"Object Id\", fontsize=15)\n",
    "cbar.ax.set_yticklabels(['0', '1', '2', '3','4'])\n",
    "\n",
    "# Display results\n",
    "plt.show()\n"
   ]
  },
  {
   "cell_type": "markdown",
   "id": "f7660b26",
   "metadata": {},
   "source": []
  },
  {
   "cell_type": "code",
   "execution_count": null,
   "id": "e90f9e13",
   "metadata": {},
   "outputs": [],
   "source": []
  }
 ],
 "metadata": {
  "kernelspec": {
   "display_name": "Python 3 (ipykernel)",
   "language": "python",
   "name": "python3"
  },
  "language_info": {
   "codemirror_mode": {
    "name": "ipython",
    "version": 3
   },
   "file_extension": ".py",
   "mimetype": "text/x-python",
   "name": "python",
   "nbconvert_exporter": "python",
   "pygments_lexer": "ipython3",
   "version": "3.8.15"
  }
 },
 "nbformat": 4,
 "nbformat_minor": 5
}
