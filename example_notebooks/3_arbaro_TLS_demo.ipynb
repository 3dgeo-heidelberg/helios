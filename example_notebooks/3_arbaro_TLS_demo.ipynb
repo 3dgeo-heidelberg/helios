{
 "cells": [
  {
   "cell_type": "markdown",
   "id": "d34a9654",
   "metadata": {},
   "source": [
    "# Arbaro demo scene\n",
    "\n",
    "Notebook: Lukas Winiwarter, 2022\n",
    "\n",
    "This demo scene showcases two highly detailed tree models scanned from two TLS scanning positions. We will use the command-line access of HELIOS++ to run the simulation, and use Python just for displaying the input XMLs and the resulting point clouds."
   ]
  },
  {
   "cell_type": "code",
   "execution_count": null,
   "id": "796cf736",
   "metadata": {},
   "outputs": [],
   "source": [
    "import sys, os\n",
    "from pathlib import Path\n",
    "from IPython.display import Code\n",
    "\n",
    "current_folder = globals()[\"_dh\"][0]\n",
    "helios_path = str(Path(current_folder).parent)\n",
    "sys.path.append(helios_path)  # add helios-plusplus directory to PATH\n",
    "import pyhelios\n",
    "\n",
    "from pyhelios.util.xmldisplayer import display_xml, find_playback_dir"
   ]
  },
  {
   "cell_type": "markdown",
   "id": "14eb3773",
   "metadata": {},
   "source": [
    "## Survey\n",
    "Let us look at the XML files in the simulation. First, we investigate the **survey** XML file, `tls_arbaro_demo.xml`:"
   ]
  },
  {
   "cell_type": "code",
   "execution_count": null,
   "id": "0115b1c5",
   "metadata": {},
   "outputs": [],
   "source": [
    "os.chdir(helios_path)\n",
    "Code(display_xml(r'data\\surveys\\demo\\tls_arbaro_demo.xml'), language='XML')"
   ]
  },
  {
   "cell_type": "markdown",
   "id": "0193afe6",
   "metadata": {},
   "source": [
    "We can see that there are two `leg` elements corresponding to the two scan positions (SPs) at `(1.0, 25.5)` and `(-4.0, -2.5)`, respectively. Both of them have individual horizontal fields of view (SP1 from `100` to `255` deg, SP2 from `-45` to `45` deg).\n",
    "Furthermore, we see that the `tripod` platform in `data\\platforms.xml` is referenced, so let's look at that next:\n",
    "\n",
    "## Platform"
   ]
  },
  {
   "cell_type": "code",
   "execution_count": null,
   "id": "2896b953",
   "metadata": {},
   "outputs": [],
   "source": [
    "Code(display_xml(r'data\\platforms.xml', 'tripod'))"
   ]
  },
  {
   "cell_type": "markdown",
   "id": "04096461",
   "metadata": {},
   "source": [
    "This is a very simple `static` type platform. Note the `scannerMount` parameter, indicating an elevation of `1.5` meters above the ground.\n",
    "\n",
    "## Scanner\n",
    "Now let's look at the scanner that is placed on this platform, the `riegl_vz400` defined in `data\\scanners_tls.xml` (as shown in the survey XML):"
   ]
  },
  {
   "cell_type": "code",
   "execution_count": null,
   "id": "4ea248ac",
   "metadata": {},
   "outputs": [],
   "source": [
    "Code(display_xml(r'data\\scanners_tls.xml', 'riegl_vz400'))"
   ]
  },
  {
   "cell_type": "markdown",
   "id": "605656b7",
   "metadata": {},
   "source": [
    "Here we see a lot of scanner-specific settings, including the minium range (`rangeMin_m`), the maximum scan angle (`scanAngleMax_deg`) that defines the polygonal mirror deflector, the resulting effective vertical field of view (`scanAngleEffectiveMax_deg`), and more. Additionally, we see the `beamOrigin` is set to `0.2` meters in `z`. Adding this to the platform offset, we arrive at a height of **1.7 meters above ground** for the laser beam origin.\n",
    "\n",
    "## Scene\n",
    "\n",
    "Finally, let us take a look at the scene, `arbaro_demo` in `data\\scenes\\demo\\arbaro_demo.xml`:"
   ]
  },
  {
   "cell_type": "code",
   "execution_count": null,
   "id": "0ae61782",
   "metadata": {},
   "outputs": [],
   "source": [
    "Code(display_xml(r'data\\scenes\\demo\\arbaro_demo.xml', 'arbaro_demo'))"
   ]
  },
  {
   "cell_type": "markdown",
   "id": "03033933",
   "metadata": {},
   "source": [
    "Here we see three objects (with `id` s 0, 1, and 2). The first object is a basic plane (`groundplane`) and acts as a baseplate for this simulation. We then add two different tree models (that were generated with the [Arbaro Tree Generator](https://arbaro.sourceforge.net/)) at the locations `(0, 15, 0)` and `(-10, 15, 0)`. We additionally scale the trees by a factor of `0.5` (and the groundplane by a factor of `100` to ensure it covers the entire scene).\n",
    "\n",
    "## Executing the Simulation\n",
    "Now, we are ready to run the simulation. In Jupyter Notebooks, we can run external commands with the `!command` syntax, but you can also just run it from the command line."
   ]
  },
  {
   "cell_type": "code",
   "execution_count": null,
   "id": "525b411b",
   "metadata": {},
   "outputs": [],
   "source": [
    "!\"run/helios.exe\" data/surveys/demo/tls_arbaro_demo.xml"
   ]
  },
  {
   "cell_type": "markdown",
   "id": "7a87ec1c",
   "metadata": {},
   "source": [
    "## The results\n",
    "\n",
    "Now let's find the output files and display a (2D) plot. For a 3D impression, we suggest using external software such as [CloudCompare](https://cloudcompare.org/)."
   ]
  },
  {
   "cell_type": "code",
   "execution_count": null,
   "id": "f180cf97",
   "metadata": {},
   "outputs": [],
   "source": [
    "import numpy as np\n",
    "import matplotlib.pyplot as plt\n",
    "import matplotlib as mpl\n",
    "\n",
    "output_path = find_playback_dir(r\"data/surveys/demo/tls_arbaro_demo.xml\")\n",
    "\n",
    "print(\"Loading points from\", output_path)\n",
    "SP1 = np.loadtxt(Path(output_path) / 'leg000_points.xyz')\n",
    "SP2 = np.loadtxt(Path(output_path) / 'leg001_points.xyz')\n",
    "\n",
    "# discard points outside of [-20, -20] to [20, 20] (x, y)\n",
    "SP1 = SP1[(SP1[:, 0] > -20) & (SP1[:, 1] > -20) & (SP1[:, 0] < 20) & (SP1[:, 1] < 20), :]\n",
    "SP2 = SP2[(SP2[:, 0] > -20) & (SP2[:, 1] > -20) & (SP2[:, 0] < 20) & (SP2[:, 1] < 20), :]\n",
    "\n",
    "fig, ax = plt.subplots(figsize=(15, 10))\n",
    "ax.scatter(SP1[:, 0], SP1[:, 2], s=0.1, label=\"Points from SP1\") # select X and Z coordinates\n",
    "ax.scatter(SP2[:, 0], SP2[:, 2], s=0.1, label=\"Points from SP2\")\n",
    "plt.axis('equal')\n",
    "ax.tick_params(labelsize=16)\n",
    "plt.xlabel('X', fontsize=18)\n",
    "plt.ylabel('Z', fontsize=18, rotation=0)\n",
    "plt.legend(fontsize=18, markerscale=20)\n",
    "plt.show()"
   ]
  },
  {
   "cell_type": "code",
   "execution_count": null,
   "outputs": [],
   "source": [],
   "metadata": {
    "collapsed": false,
    "pycharm": {
     "name": "#%%\n"
    }
   }
  }
 ],
 "metadata": {
  "kernelspec": {
   "display_name": "Python 3 (ipykernel)",
   "language": "python",
   "name": "python3"
  },
  "language_info": {
   "codemirror_mode": {
    "name": "ipython",
    "version": 3
   },
   "file_extension": ".py",
   "mimetype": "text/x-python",
   "name": "python",
   "nbconvert_exporter": "python",
   "pygments_lexer": "ipython3",
   "version": "3.8.13"
  }
 },
 "nbformat": 4,
 "nbformat_minor": 5
}