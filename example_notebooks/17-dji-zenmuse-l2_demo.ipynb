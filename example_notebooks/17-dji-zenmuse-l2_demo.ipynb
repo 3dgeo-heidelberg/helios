{
 "cells": [
  {
   "cell_type": "markdown",
   "id": "3002cf6e-46b7-4165-8594-e8634fa91df9",
   "metadata": {},
   "source": [
    "# TLS Risley Prism Scanner Demo\n",
    "Notebook: Hannah Weiser & Sina Zumstein, 2023\n",
    "\n",
    "This demo scene showcases toyblock models scanned by a terrestial laser scanner with a risley prism. This scanning technology uses a non-repetitive scan pattern, which means the point density depends on the integration time.\n",
    "\n",
    "We will use the command-line access of HELIOS++ to run the simulation, and use Python just for displaying the input XMLs and the resulting point clouds."
   ]
  },
  {
   "cell_type": "code",
   "execution_count": 3,
   "id": "631d7d41",
   "metadata": {},
   "outputs": [],
   "source": [
    "from IPython.display import Code\n",
    "from pyhelios.util.xmldisplayer import display_xml, find_playback_dir"
   ]
  },
  {
   "cell_type": "code",
   "execution_count": 4,
   "id": "48338ad3",
   "metadata": {},
   "outputs": [],
   "source": [
    "import os\n",
    "\n",
    "os.chdir(\"..\")"
   ]
  },
  {
   "cell_type": "markdown",
   "id": "98aa591a-2dc8-4f1a-a3fb-6237c10a9dd9",
   "metadata": {},
   "source": [
    "## Survey\n",
    "Let us look at the XML files in the simulation. First, we investigate the survey XML file, `tls_livox.xml`. We see that we actually use a moving platform of type `linearpath` to simulate the **static** platform, as a way to configure the **integration time**."
   ]
  },
  {
   "cell_type": "code",
   "execution_count": 5,
   "id": "341e6e5c",
   "metadata": {},
   "outputs": [
    {
     "data": {
      "text/html": [
       "<style>pre { line-height: 125%; }\n",
       "td.linenos .normal { color: inherit; background-color: transparent; padding-left: 5px; padding-right: 5px; }\n",
       "span.linenos { color: inherit; background-color: transparent; padding-left: 5px; padding-right: 5px; }\n",
       "td.linenos .special { color: #000000; background-color: #ffffc0; padding-left: 5px; padding-right: 5px; }\n",
       "span.linenos.special { color: #000000; background-color: #ffffc0; padding-left: 5px; padding-right: 5px; }\n",
       ".output_html .hll { background-color: #ffffcc }\n",
       ".output_html { background: #f8f8f8; }\n",
       ".output_html .c { color: #3D7B7B; font-style: italic } /* Comment */\n",
       ".output_html .err { border: 1px solid #F00 } /* Error */\n",
       ".output_html .k { color: #008000; font-weight: bold } /* Keyword */\n",
       ".output_html .o { color: #666 } /* Operator */\n",
       ".output_html .ch { color: #3D7B7B; font-style: italic } /* Comment.Hashbang */\n",
       ".output_html .cm { color: #3D7B7B; font-style: italic } /* Comment.Multiline */\n",
       ".output_html .cp { color: #9C6500 } /* Comment.Preproc */\n",
       ".output_html .cpf { color: #3D7B7B; font-style: italic } /* Comment.PreprocFile */\n",
       ".output_html .c1 { color: #3D7B7B; font-style: italic } /* Comment.Single */\n",
       ".output_html .cs { color: #3D7B7B; font-style: italic } /* Comment.Special */\n",
       ".output_html .gd { color: #A00000 } /* Generic.Deleted */\n",
       ".output_html .ge { font-style: italic } /* Generic.Emph */\n",
       ".output_html .ges { font-weight: bold; font-style: italic } /* Generic.EmphStrong */\n",
       ".output_html .gr { color: #E40000 } /* Generic.Error */\n",
       ".output_html .gh { color: #000080; font-weight: bold } /* Generic.Heading */\n",
       ".output_html .gi { color: #008400 } /* Generic.Inserted */\n",
       ".output_html .go { color: #717171 } /* Generic.Output */\n",
       ".output_html .gp { color: #000080; font-weight: bold } /* Generic.Prompt */\n",
       ".output_html .gs { font-weight: bold } /* Generic.Strong */\n",
       ".output_html .gu { color: #800080; font-weight: bold } /* Generic.Subheading */\n",
       ".output_html .gt { color: #04D } /* Generic.Traceback */\n",
       ".output_html .kc { color: #008000; font-weight: bold } /* Keyword.Constant */\n",
       ".output_html .kd { color: #008000; font-weight: bold } /* Keyword.Declaration */\n",
       ".output_html .kn { color: #008000; font-weight: bold } /* Keyword.Namespace */\n",
       ".output_html .kp { color: #008000 } /* Keyword.Pseudo */\n",
       ".output_html .kr { color: #008000; font-weight: bold } /* Keyword.Reserved */\n",
       ".output_html .kt { color: #B00040 } /* Keyword.Type */\n",
       ".output_html .m { color: #666 } /* Literal.Number */\n",
       ".output_html .s { color: #BA2121 } /* Literal.String */\n",
       ".output_html .na { color: #687822 } /* Name.Attribute */\n",
       ".output_html .nb { color: #008000 } /* Name.Builtin */\n",
       ".output_html .nc { color: #00F; font-weight: bold } /* Name.Class */\n",
       ".output_html .no { color: #800 } /* Name.Constant */\n",
       ".output_html .nd { color: #A2F } /* Name.Decorator */\n",
       ".output_html .ni { color: #717171; font-weight: bold } /* Name.Entity */\n",
       ".output_html .ne { color: #CB3F38; font-weight: bold } /* Name.Exception */\n",
       ".output_html .nf { color: #00F } /* Name.Function */\n",
       ".output_html .nl { color: #767600 } /* Name.Label */\n",
       ".output_html .nn { color: #00F; font-weight: bold } /* Name.Namespace */\n",
       ".output_html .nt { color: #008000; font-weight: bold } /* Name.Tag */\n",
       ".output_html .nv { color: #19177C } /* Name.Variable */\n",
       ".output_html .ow { color: #A2F; font-weight: bold } /* Operator.Word */\n",
       ".output_html .w { color: #BBB } /* Text.Whitespace */\n",
       ".output_html .mb { color: #666 } /* Literal.Number.Bin */\n",
       ".output_html .mf { color: #666 } /* Literal.Number.Float */\n",
       ".output_html .mh { color: #666 } /* Literal.Number.Hex */\n",
       ".output_html .mi { color: #666 } /* Literal.Number.Integer */\n",
       ".output_html .mo { color: #666 } /* Literal.Number.Oct */\n",
       ".output_html .sa { color: #BA2121 } /* Literal.String.Affix */\n",
       ".output_html .sb { color: #BA2121 } /* Literal.String.Backtick */\n",
       ".output_html .sc { color: #BA2121 } /* Literal.String.Char */\n",
       ".output_html .dl { color: #BA2121 } /* Literal.String.Delimiter */\n",
       ".output_html .sd { color: #BA2121; font-style: italic } /* Literal.String.Doc */\n",
       ".output_html .s2 { color: #BA2121 } /* Literal.String.Double */\n",
       ".output_html .se { color: #AA5D1F; font-weight: bold } /* Literal.String.Escape */\n",
       ".output_html .sh { color: #BA2121 } /* Literal.String.Heredoc */\n",
       ".output_html .si { color: #A45A77; font-weight: bold } /* Literal.String.Interpol */\n",
       ".output_html .sx { color: #008000 } /* Literal.String.Other */\n",
       ".output_html .sr { color: #A45A77 } /* Literal.String.Regex */\n",
       ".output_html .s1 { color: #BA2121 } /* Literal.String.Single */\n",
       ".output_html .ss { color: #19177C } /* Literal.String.Symbol */\n",
       ".output_html .bp { color: #008000 } /* Name.Builtin.Pseudo */\n",
       ".output_html .fm { color: #00F } /* Name.Function.Magic */\n",
       ".output_html .vc { color: #19177C } /* Name.Variable.Class */\n",
       ".output_html .vg { color: #19177C } /* Name.Variable.Global */\n",
       ".output_html .vi { color: #19177C } /* Name.Variable.Instance */\n",
       ".output_html .vm { color: #19177C } /* Name.Variable.Magic */\n",
       ".output_html .il { color: #666 } /* Literal.Number.Integer.Long */</style><div class=\"highlight\"><pre><span></span><span class=\"nt\">&lt;document&gt;</span>\n",
       "<span class=\"w\">    </span><span class=\"nt\">&lt;survey</span><span class=\"w\"> </span><span class=\"na\">name=</span><span class=\"s\">&quot;tls_toyblocks_livox&quot;</span><span class=\"w\"> </span><span class=\"na\">scene=</span><span class=\"s\">&quot;data/scenes/demo/box_scene.xml#box_scene&quot;</span><span class=\"w\"> </span><span class=\"na\">platform=</span><span class=\"s\">&quot;data/platforms.xml#simple_linearpath&quot;</span><span class=\"w\"> </span><span class=\"na\">scanner=</span><span class=\"s\">&quot;data/scanners_tls.xml#dji-zenmuse-l2&quot;</span><span class=\"nt\">&gt;</span>\n",
       "<span class=\"w\">        </span>\n",
       "<span class=\"w\">        </span><span class=\"cm\">&lt;!--&lt;scannerMount x=&quot;0&quot; y=&quot;0&quot; z=&quot;2.0&quot;&gt;</span>\n",
       "<span class=\"cm\">        &lt;/scannerMount&gt;--&gt;</span>\n",
       "\n",
       "<span class=\"w\">        </span><span class=\"nt\">&lt;FWFSettings</span><span class=\"w\"> </span><span class=\"na\">binSize_ns=</span><span class=\"s\">&quot;0.2&quot;</span><span class=\"w\"> </span><span class=\"na\">beamSampleQuality=</span><span class=\"s\">&quot;3&quot;</span><span class=\"w\"> </span><span class=\"nt\">/&gt;</span>\n",
       "<span class=\"w\">        </span>\n",
       "<span class=\"w\">        </span><span class=\"nt\">&lt;leg&gt;</span>\n",
       "<span class=\"w\">        </span><span class=\"cm\">&lt;!-- minimal leg 3: 0.01 m with speed of 0.005 m/s = 2 s integration time;</span>\n",
       "<span class=\"cm\">\t\t     decrease movePerSec_m for longer integration time --&gt;</span>\n",
       "<span class=\"w\">            </span><span class=\"nt\">&lt;platformSettings</span><span class=\"w\"> </span><span class=\"na\">x=</span><span class=\"s\">&quot;-10.01&quot;</span><span class=\"w\"> </span><span class=\"na\">y=</span><span class=\"s\">&quot;-15.0&quot;</span><span class=\"w\"> </span><span class=\"na\">z=</span><span class=\"s\">&quot;0.0&quot;</span><span class=\"w\"> </span><span class=\"na\">movePerSec_m=</span><span class=\"s\">&quot;0.001&quot;</span><span class=\"w\"> </span><span class=\"nt\">/&gt;</span>\n",
       "<span class=\"w\">            </span><span class=\"nt\">&lt;scannerSettings</span><span class=\"w\"> </span><span class=\"na\">active=</span><span class=\"s\">&quot;true&quot;</span><span class=\"w\"> </span><span class=\"na\">scanAngle_deg=</span><span class=\"s\">&quot;35&quot;</span><span class=\"w\"> </span><span class=\"na\">pulseFreq_hz=</span><span class=\"s\">&quot;100&quot;</span><span class=\"w\"> </span><span class=\"na\">headRotatePerSec_deg=</span><span class=\"s\">&quot;0&quot;</span><span class=\"w\"> </span><span class=\"na\">trajectoryTimeInterval_s=</span><span class=\"s\">&quot;0.01&quot;</span><span class=\"w\"> </span><span class=\"nt\">/&gt;</span>\n",
       "<span class=\"w\">        </span><span class=\"nt\">&lt;/leg&gt;</span>\n",
       "<span class=\"w\">        </span><span class=\"nt\">&lt;leg&gt;</span>\n",
       "<span class=\"w\">            </span><span class=\"nt\">&lt;platformSettings</span><span class=\"w\"> </span><span class=\"na\">x=</span><span class=\"s\">&quot;-10.0&quot;</span><span class=\"w\"> </span><span class=\"na\">y=</span><span class=\"s\">&quot;-15.0&quot;</span><span class=\"w\"> </span><span class=\"na\">z=</span><span class=\"s\">&quot;0.0&quot;</span><span class=\"w\"> </span><span class=\"na\">movePerSec_m=</span><span class=\"s\">&quot;0.001&quot;</span><span class=\"w\"> </span><span class=\"nt\">/&gt;</span>\n",
       "<span class=\"w\">            </span><span class=\"nt\">&lt;scannerSettings</span><span class=\"w\"> </span><span class=\"na\">active=</span><span class=\"s\">&quot;false&quot;</span><span class=\"w\"> </span><span class=\"na\">scanAngle_deg=</span><span class=\"s\">&quot;35&quot;</span><span class=\"w\"> </span><span class=\"na\">pulseFreq_hz=</span><span class=\"s\">&quot;100&quot;</span><span class=\"w\"> </span><span class=\"na\">headRotatePerSec_deg=</span><span class=\"s\">&quot;0&quot;</span><span class=\"w\"> </span><span class=\"nt\">/&gt;</span>\n",
       "<span class=\"w\">        </span><span class=\"nt\">&lt;/leg&gt;</span>\n",
       "<span class=\"w\">        </span>\n",
       "<span class=\"w\">    </span><span class=\"nt\">&lt;/survey&gt;</span>\n",
       "<span class=\"nt\">&lt;/document&gt;</span>\n",
       "</pre></div>\n"
      ],
      "text/latex": [
       "\\begin{Verbatim}[commandchars=\\\\\\{\\}]\n",
       "\\PY{n+nt}{\\PYZlt{}document}\\PY{n+nt}{\\PYZgt{}}\n",
       "\\PY{+w}{    }\\PY{n+nt}{\\PYZlt{}survey}\\PY{+w}{ }\\PY{n+na}{name=}\\PY{l+s}{\\PYZdq{}tls\\PYZus{}toyblocks\\PYZus{}livox\\PYZdq{}}\\PY{+w}{ }\\PY{n+na}{scene=}\\PY{l+s}{\\PYZdq{}data/scenes/demo/box\\PYZus{}scene.xml\\PYZsh{}box\\PYZus{}scene\\PYZdq{}}\\PY{+w}{ }\\PY{n+na}{platform=}\\PY{l+s}{\\PYZdq{}data/platforms.xml\\PYZsh{}simple\\PYZus{}linearpath\\PYZdq{}}\\PY{+w}{ }\\PY{n+na}{scanner=}\\PY{l+s}{\\PYZdq{}data/scanners\\PYZus{}tls.xml\\PYZsh{}dji\\PYZhy{}zenmuse\\PYZhy{}l2\\PYZdq{}}\\PY{n+nt}{\\PYZgt{}}\n",
       "\\PY{+w}{        }\n",
       "\\PY{+w}{        }\\PY{c+cm}{\\PYZlt{}!\\PYZhy{}\\PYZhy{}\\PYZlt{}scannerMount x=\\PYZdq{}0\\PYZdq{} y=\\PYZdq{}0\\PYZdq{} z=\\PYZdq{}2.0\\PYZdq{}\\PYZgt{}}\n",
       "\\PY{c+cm}{        \\PYZlt{}/scannerMount\\PYZgt{}\\PYZhy{}\\PYZhy{}\\PYZgt{}}\n",
       "\n",
       "\\PY{+w}{        }\\PY{n+nt}{\\PYZlt{}FWFSettings}\\PY{+w}{ }\\PY{n+na}{binSize\\PYZus{}ns=}\\PY{l+s}{\\PYZdq{}0.2\\PYZdq{}}\\PY{+w}{ }\\PY{n+na}{beamSampleQuality=}\\PY{l+s}{\\PYZdq{}3\\PYZdq{}}\\PY{+w}{ }\\PY{n+nt}{/\\PYZgt{}}\n",
       "\\PY{+w}{        }\n",
       "\\PY{+w}{        }\\PY{n+nt}{\\PYZlt{}leg}\\PY{n+nt}{\\PYZgt{}}\n",
       "\\PY{+w}{        }\\PY{c+cm}{\\PYZlt{}!\\PYZhy{}\\PYZhy{} minimal leg 3: 0.01 m with speed of 0.005 m/s = 2 s integration time;}\n",
       "\\PY{c+cm}{\t\t     decrease movePerSec\\PYZus{}m for longer integration time \\PYZhy{}\\PYZhy{}\\PYZgt{}}\n",
       "\\PY{+w}{            }\\PY{n+nt}{\\PYZlt{}platformSettings}\\PY{+w}{ }\\PY{n+na}{x=}\\PY{l+s}{\\PYZdq{}\\PYZhy{}10.01\\PYZdq{}}\\PY{+w}{ }\\PY{n+na}{y=}\\PY{l+s}{\\PYZdq{}\\PYZhy{}15.0\\PYZdq{}}\\PY{+w}{ }\\PY{n+na}{z=}\\PY{l+s}{\\PYZdq{}0.0\\PYZdq{}}\\PY{+w}{ }\\PY{n+na}{movePerSec\\PYZus{}m=}\\PY{l+s}{\\PYZdq{}0.001\\PYZdq{}}\\PY{+w}{ }\\PY{n+nt}{/\\PYZgt{}}\n",
       "\\PY{+w}{            }\\PY{n+nt}{\\PYZlt{}scannerSettings}\\PY{+w}{ }\\PY{n+na}{active=}\\PY{l+s}{\\PYZdq{}true\\PYZdq{}}\\PY{+w}{ }\\PY{n+na}{scanAngle\\PYZus{}deg=}\\PY{l+s}{\\PYZdq{}35\\PYZdq{}}\\PY{+w}{ }\\PY{n+na}{pulseFreq\\PYZus{}hz=}\\PY{l+s}{\\PYZdq{}100\\PYZdq{}}\\PY{+w}{ }\\PY{n+na}{headRotatePerSec\\PYZus{}deg=}\\PY{l+s}{\\PYZdq{}0\\PYZdq{}}\\PY{+w}{ }\\PY{n+na}{trajectoryTimeInterval\\PYZus{}s=}\\PY{l+s}{\\PYZdq{}0.01\\PYZdq{}}\\PY{+w}{ }\\PY{n+nt}{/\\PYZgt{}}\n",
       "\\PY{+w}{        }\\PY{n+nt}{\\PYZlt{}/leg\\PYZgt{}}\n",
       "\\PY{+w}{        }\\PY{n+nt}{\\PYZlt{}leg}\\PY{n+nt}{\\PYZgt{}}\n",
       "\\PY{+w}{            }\\PY{n+nt}{\\PYZlt{}platformSettings}\\PY{+w}{ }\\PY{n+na}{x=}\\PY{l+s}{\\PYZdq{}\\PYZhy{}10.0\\PYZdq{}}\\PY{+w}{ }\\PY{n+na}{y=}\\PY{l+s}{\\PYZdq{}\\PYZhy{}15.0\\PYZdq{}}\\PY{+w}{ }\\PY{n+na}{z=}\\PY{l+s}{\\PYZdq{}0.0\\PYZdq{}}\\PY{+w}{ }\\PY{n+na}{movePerSec\\PYZus{}m=}\\PY{l+s}{\\PYZdq{}0.001\\PYZdq{}}\\PY{+w}{ }\\PY{n+nt}{/\\PYZgt{}}\n",
       "\\PY{+w}{            }\\PY{n+nt}{\\PYZlt{}scannerSettings}\\PY{+w}{ }\\PY{n+na}{active=}\\PY{l+s}{\\PYZdq{}false\\PYZdq{}}\\PY{+w}{ }\\PY{n+na}{scanAngle\\PYZus{}deg=}\\PY{l+s}{\\PYZdq{}35\\PYZdq{}}\\PY{+w}{ }\\PY{n+na}{pulseFreq\\PYZus{}hz=}\\PY{l+s}{\\PYZdq{}100\\PYZdq{}}\\PY{+w}{ }\\PY{n+na}{headRotatePerSec\\PYZus{}deg=}\\PY{l+s}{\\PYZdq{}0\\PYZdq{}}\\PY{+w}{ }\\PY{n+nt}{/\\PYZgt{}}\n",
       "\\PY{+w}{        }\\PY{n+nt}{\\PYZlt{}/leg\\PYZgt{}}\n",
       "\\PY{+w}{        }\n",
       "\\PY{+w}{    }\\PY{n+nt}{\\PYZlt{}/survey\\PYZgt{}}\n",
       "\\PY{n+nt}{\\PYZlt{}/document\\PYZgt{}}\n",
       "\\end{Verbatim}\n"
      ],
      "text/plain": [
       "<document>\n",
       "    <survey name=\"tls_toyblocks_livox\" scene=\"data/scenes/demo/box_scene.xml#box_scene\" platform=\"data/platforms.xml#simple_linearpath\" scanner=\"data/scanners_tls.xml#dji-zenmuse-l2\">\n",
       "        \n",
       "        <!--<scannerMount x=\"0\" y=\"0\" z=\"2.0\">\n",
       "        </scannerMount>-->\n",
       "\n",
       "        <FWFSettings binSize_ns=\"0.2\" beamSampleQuality=\"3\" />\n",
       "        \n",
       "        <leg>\n",
       "        <!-- minimal leg 3: 0.01 m with speed of 0.005 m/s = 2 s integration time;\n",
       "\t\t     decrease movePerSec_m for longer integration time -->\n",
       "            <platformSettings x=\"-10.01\" y=\"-15.0\" z=\"0.0\" movePerSec_m=\"0.001\" />\n",
       "            <scannerSettings active=\"true\" scanAngle_deg=\"35\" pulseFreq_hz=\"100\" headRotatePerSec_deg=\"0\" trajectoryTimeInterval_s=\"0.01\" />\n",
       "        </leg>\n",
       "        <leg>\n",
       "            <platformSettings x=\"-10.0\" y=\"-15.0\" z=\"0.0\" movePerSec_m=\"0.001\" />\n",
       "            <scannerSettings active=\"false\" scanAngle_deg=\"35\" pulseFreq_hz=\"100\" headRotatePerSec_deg=\"0\" />\n",
       "        </leg>\n",
       "        \n",
       "    </survey>\n",
       "</document>"
      ]
     },
     "execution_count": 5,
     "metadata": {},
     "output_type": "execute_result"
    }
   ],
   "source": [
    "Code(display_xml(\"data/surveys/demo/dji-zenmuse-l2.xml\"), language=\"xml\")"
   ]
  },
  {
   "cell_type": "markdown",
   "id": "ec4a3f6b-91d8-4168-be50-6679f9b0995f",
   "metadata": {},
   "source": [
    "There are six `leg` elements corresponding to three scan positions (SPs) at around x=\"-10\" y=\"-15\". Between the legs, the platform moves a very small distance along the x axis (0.01 m) with a certain speed (`movePerSec_m`). With decreasing speed, the time between the legs, i.e., the integration time, increases and so does the resulting point density. The first SP has the shortest integration time with 0.2 s, the second SP uses an integration time of 1 s and the third SP uses an integration time of 2 s."
   ]
  },
  {
   "cell_type": "markdown",
   "id": "03842b17-386c-4d74-b329-f882875a3ae3",
   "metadata": {},
   "source": [
    "## Scanner\n",
    "Now let's have a look how a scanner with a risley prism is defined. Here, the [`livox_mid-70`](https://www.livoxtech.com/de/mid-70), defined in `data/scanners_tls.xml` is used:"
   ]
  },
  {
   "cell_type": "code",
   "execution_count": 6,
   "id": "9306260f",
   "metadata": {},
   "outputs": [
    {
     "data": {
      "text/html": [
       "<style>pre { line-height: 125%; }\n",
       "td.linenos .normal { color: inherit; background-color: transparent; padding-left: 5px; padding-right: 5px; }\n",
       "span.linenos { color: inherit; background-color: transparent; padding-left: 5px; padding-right: 5px; }\n",
       "td.linenos .special { color: #000000; background-color: #ffffc0; padding-left: 5px; padding-right: 5px; }\n",
       "span.linenos.special { color: #000000; background-color: #ffffc0; padding-left: 5px; padding-right: 5px; }\n",
       ".output_html .hll { background-color: #ffffcc }\n",
       ".output_html { background: #f8f8f8; }\n",
       ".output_html .c { color: #3D7B7B; font-style: italic } /* Comment */\n",
       ".output_html .err { border: 1px solid #F00 } /* Error */\n",
       ".output_html .k { color: #008000; font-weight: bold } /* Keyword */\n",
       ".output_html .o { color: #666 } /* Operator */\n",
       ".output_html .ch { color: #3D7B7B; font-style: italic } /* Comment.Hashbang */\n",
       ".output_html .cm { color: #3D7B7B; font-style: italic } /* Comment.Multiline */\n",
       ".output_html .cp { color: #9C6500 } /* Comment.Preproc */\n",
       ".output_html .cpf { color: #3D7B7B; font-style: italic } /* Comment.PreprocFile */\n",
       ".output_html .c1 { color: #3D7B7B; font-style: italic } /* Comment.Single */\n",
       ".output_html .cs { color: #3D7B7B; font-style: italic } /* Comment.Special */\n",
       ".output_html .gd { color: #A00000 } /* Generic.Deleted */\n",
       ".output_html .ge { font-style: italic } /* Generic.Emph */\n",
       ".output_html .ges { font-weight: bold; font-style: italic } /* Generic.EmphStrong */\n",
       ".output_html .gr { color: #E40000 } /* Generic.Error */\n",
       ".output_html .gh { color: #000080; font-weight: bold } /* Generic.Heading */\n",
       ".output_html .gi { color: #008400 } /* Generic.Inserted */\n",
       ".output_html .go { color: #717171 } /* Generic.Output */\n",
       ".output_html .gp { color: #000080; font-weight: bold } /* Generic.Prompt */\n",
       ".output_html .gs { font-weight: bold } /* Generic.Strong */\n",
       ".output_html .gu { color: #800080; font-weight: bold } /* Generic.Subheading */\n",
       ".output_html .gt { color: #04D } /* Generic.Traceback */\n",
       ".output_html .kc { color: #008000; font-weight: bold } /* Keyword.Constant */\n",
       ".output_html .kd { color: #008000; font-weight: bold } /* Keyword.Declaration */\n",
       ".output_html .kn { color: #008000; font-weight: bold } /* Keyword.Namespace */\n",
       ".output_html .kp { color: #008000 } /* Keyword.Pseudo */\n",
       ".output_html .kr { color: #008000; font-weight: bold } /* Keyword.Reserved */\n",
       ".output_html .kt { color: #B00040 } /* Keyword.Type */\n",
       ".output_html .m { color: #666 } /* Literal.Number */\n",
       ".output_html .s { color: #BA2121 } /* Literal.String */\n",
       ".output_html .na { color: #687822 } /* Name.Attribute */\n",
       ".output_html .nb { color: #008000 } /* Name.Builtin */\n",
       ".output_html .nc { color: #00F; font-weight: bold } /* Name.Class */\n",
       ".output_html .no { color: #800 } /* Name.Constant */\n",
       ".output_html .nd { color: #A2F } /* Name.Decorator */\n",
       ".output_html .ni { color: #717171; font-weight: bold } /* Name.Entity */\n",
       ".output_html .ne { color: #CB3F38; font-weight: bold } /* Name.Exception */\n",
       ".output_html .nf { color: #00F } /* Name.Function */\n",
       ".output_html .nl { color: #767600 } /* Name.Label */\n",
       ".output_html .nn { color: #00F; font-weight: bold } /* Name.Namespace */\n",
       ".output_html .nt { color: #008000; font-weight: bold } /* Name.Tag */\n",
       ".output_html .nv { color: #19177C } /* Name.Variable */\n",
       ".output_html .ow { color: #A2F; font-weight: bold } /* Operator.Word */\n",
       ".output_html .w { color: #BBB } /* Text.Whitespace */\n",
       ".output_html .mb { color: #666 } /* Literal.Number.Bin */\n",
       ".output_html .mf { color: #666 } /* Literal.Number.Float */\n",
       ".output_html .mh { color: #666 } /* Literal.Number.Hex */\n",
       ".output_html .mi { color: #666 } /* Literal.Number.Integer */\n",
       ".output_html .mo { color: #666 } /* Literal.Number.Oct */\n",
       ".output_html .sa { color: #BA2121 } /* Literal.String.Affix */\n",
       ".output_html .sb { color: #BA2121 } /* Literal.String.Backtick */\n",
       ".output_html .sc { color: #BA2121 } /* Literal.String.Char */\n",
       ".output_html .dl { color: #BA2121 } /* Literal.String.Delimiter */\n",
       ".output_html .sd { color: #BA2121; font-style: italic } /* Literal.String.Doc */\n",
       ".output_html .s2 { color: #BA2121 } /* Literal.String.Double */\n",
       ".output_html .se { color: #AA5D1F; font-weight: bold } /* Literal.String.Escape */\n",
       ".output_html .sh { color: #BA2121 } /* Literal.String.Heredoc */\n",
       ".output_html .si { color: #A45A77; font-weight: bold } /* Literal.String.Interpol */\n",
       ".output_html .sx { color: #008000 } /* Literal.String.Other */\n",
       ".output_html .sr { color: #A45A77 } /* Literal.String.Regex */\n",
       ".output_html .s1 { color: #BA2121 } /* Literal.String.Single */\n",
       ".output_html .ss { color: #19177C } /* Literal.String.Symbol */\n",
       ".output_html .bp { color: #008000 } /* Name.Builtin.Pseudo */\n",
       ".output_html .fm { color: #00F } /* Name.Function.Magic */\n",
       ".output_html .vc { color: #19177C } /* Name.Variable.Class */\n",
       ".output_html .vg { color: #19177C } /* Name.Variable.Global */\n",
       ".output_html .vi { color: #19177C } /* Name.Variable.Instance */\n",
       ".output_html .vm { color: #19177C } /* Name.Variable.Magic */\n",
       ".output_html .il { color: #666 } /* Literal.Number.Integer.Long */</style><div class=\"highlight\"><pre><span></span><span class=\"nt\">&lt;scanner</span><span class=\"w\"> </span><span class=\"na\">id=</span><span class=\"s\">&quot;dji-zenmuse-l2&quot;</span><span class=\"w\"> </span><span class=\"na\">accuracy_m=</span><span class=\"s\">&quot;0.02&quot;</span><span class=\"w\"> </span><span class=\"na\">beamDivergence_rad=</span><span class=\"s\">&quot;0.0027&quot;</span><span class=\"w\"> </span><span class=\"na\">name=</span><span class=\"s\">&quot;DJI Zenmuse L2&quot;</span><span class=\"w\"> </span><span class=\"na\">optics=</span><span class=\"s\">&quot;risley&quot;</span><span class=\"w\"> </span><span class=\"na\">pulseFreqs_Hz=</span><span class=\"s\">&quot;100000&quot;</span><span class=\"w\"> </span><span class=\"na\">pulseLength_ns=</span><span class=\"s\">&quot;4&quot;</span><span class=\"w\"> </span><span class=\"na\">rangeMin_m=</span><span class=\"s\">&quot;2&quot;</span><span class=\"w\"> </span><span class=\"na\">scanAngleMax_deg=</span><span class=\"s\">&quot;35&quot;</span><span class=\"w\"> </span><span class=\"na\">scanAngleEffectiveMax_deg=</span><span class=\"s\">&quot;35&quot;</span><span class=\"w\"> </span><span class=\"na\">wavelength_nm=</span><span class=\"s\">&quot;905&quot;</span><span class=\"w\"> </span><span class=\"na\">rotorFreq1_Hz=</span><span class=\"s\">&quot;0&quot;</span><span class=\"w\"> </span><span class=\"na\">rotorFreq2_Hz=</span><span class=\"s\">&quot;-77.73333333333333&quot;</span><span class=\"w\"> </span><span class=\"na\">rotorFreq3_Hz=</span><span class=\"s\">&quot;121.56666666666666&quot;</span><span class=\"w\"> </span><span class=\"na\">prism1_angle_deg=</span><span class=\"s\">&quot;0.0&quot;</span><span class=\"w\"> </span><span class=\"na\">prism2_angle_deg=</span><span class=\"s\">&quot;18&quot;</span><span class=\"w\"> </span><span class=\"na\">prism3_angle_deg=</span><span class=\"s\">&quot;18&quot;</span><span class=\"w\"> </span><span class=\"na\">prism1_thickness=</span><span class=\"s\">&quot;0.0&quot;</span><span class=\"w\"> </span><span class=\"na\">prism2_thickness=</span><span class=\"s\">&quot;4.0&quot;</span><span class=\"w\"> </span><span class=\"na\">prism3_thickness=</span><span class=\"s\">&quot;4.0&quot;</span><span class=\"w\"> </span><span class=\"na\">prism1_radius=</span><span class=\"s\">&quot;0.0&quot;</span><span class=\"w\"> </span><span class=\"na\">prism2_radius=</span><span class=\"s\">&quot;20.0&quot;</span><span class=\"w\"> </span><span class=\"na\">prism3_radius=</span><span class=\"s\">&quot;20.0&quot;</span><span class=\"w\"> </span><span class=\"na\">distance_prism1_2=</span><span class=\"s\">&quot;0.0&quot;</span><span class=\"w\"> </span><span class=\"na\">distance_prism2_3=</span><span class=\"s\">&quot;3.0&quot;</span><span class=\"w\"> </span><span class=\"na\">refrIndex_prism1=</span><span class=\"s\">&quot;1.0&quot;</span><span class=\"w\"> </span><span class=\"na\">refrIndex_prism2=</span><span class=\"s\">&quot;1.5&quot;</span><span class=\"w\"> </span><span class=\"na\">refrIndex_prism3=</span><span class=\"s\">&quot;1.5&quot;</span><span class=\"w\"> </span><span class=\"na\">refrIndex_air=</span><span class=\"s\">&quot;1.0&quot;</span><span class=\"nt\">&gt;</span>\n",
       "<span class=\"w\">\t\t\t\t</span>\n",
       "<span class=\"w\">\t\t</span><span class=\"nt\">&lt;FWFSettings</span><span class=\"w\"> </span><span class=\"na\">beamSampleQuality=</span><span class=\"s\">&quot;3&quot;</span><span class=\"w\"> </span><span class=\"nt\">/&gt;</span>\n",
       "<span class=\"w\">\t\t</span><span class=\"nt\">&lt;beamOrigin</span><span class=\"w\"> </span><span class=\"na\">x=</span><span class=\"s\">&quot;0&quot;</span><span class=\"w\"> </span><span class=\"na\">y=</span><span class=\"s\">&quot;0&quot;</span><span class=\"w\"> </span><span class=\"na\">z=</span><span class=\"s\">&quot;0&quot;</span><span class=\"nt\">&gt;</span>\n",
       "\n",
       "<span class=\"w\">\t\t\t</span><span class=\"nt\">&lt;rot</span><span class=\"w\"> </span><span class=\"na\">axis=</span><span class=\"s\">&quot;z&quot;</span><span class=\"w\"> </span><span class=\"na\">angle_deg=</span><span class=\"s\">&quot;-90&quot;</span><span class=\"w\"> </span><span class=\"nt\">/&gt;</span>\n",
       "<span class=\"w\">\t\t</span><span class=\"nt\">&lt;/beamOrigin&gt;</span>\n",
       "\n",
       "<span class=\"w\">\t\t</span><span class=\"nt\">&lt;headRotateAxis</span><span class=\"w\"> </span><span class=\"na\">x=</span><span class=\"s\">&quot;1&quot;</span><span class=\"w\"> </span><span class=\"na\">y=</span><span class=\"s\">&quot;0&quot;</span><span class=\"w\"> </span><span class=\"na\">z=</span><span class=\"s\">&quot;0&quot;</span><span class=\"w\"> </span><span class=\"nt\">/&gt;</span>\n",
       "<span class=\"w\">\t</span><span class=\"nt\">&lt;/scanner&gt;</span>\n",
       "\n",
       "<span class=\"w\">\t</span>\n",
       "</pre></div>\n"
      ],
      "text/latex": [
       "\\begin{Verbatim}[commandchars=\\\\\\{\\}]\n",
       "\\PY{n+nt}{\\PYZlt{}scanner}\\PY{+w}{ }\\PY{n+na}{id=}\\PY{l+s}{\\PYZdq{}dji\\PYZhy{}zenmuse\\PYZhy{}l2\\PYZdq{}}\\PY{+w}{ }\\PY{n+na}{accuracy\\PYZus{}m=}\\PY{l+s}{\\PYZdq{}0.02\\PYZdq{}}\\PY{+w}{ }\\PY{n+na}{beamDivergence\\PYZus{}rad=}\\PY{l+s}{\\PYZdq{}0.0027\\PYZdq{}}\\PY{+w}{ }\\PY{n+na}{name=}\\PY{l+s}{\\PYZdq{}DJI Zenmuse L2\\PYZdq{}}\\PY{+w}{ }\\PY{n+na}{optics=}\\PY{l+s}{\\PYZdq{}risley\\PYZdq{}}\\PY{+w}{ }\\PY{n+na}{pulseFreqs\\PYZus{}Hz=}\\PY{l+s}{\\PYZdq{}100000\\PYZdq{}}\\PY{+w}{ }\\PY{n+na}{pulseLength\\PYZus{}ns=}\\PY{l+s}{\\PYZdq{}4\\PYZdq{}}\\PY{+w}{ }\\PY{n+na}{rangeMin\\PYZus{}m=}\\PY{l+s}{\\PYZdq{}2\\PYZdq{}}\\PY{+w}{ }\\PY{n+na}{scanAngleMax\\PYZus{}deg=}\\PY{l+s}{\\PYZdq{}35\\PYZdq{}}\\PY{+w}{ }\\PY{n+na}{scanAngleEffectiveMax\\PYZus{}deg=}\\PY{l+s}{\\PYZdq{}35\\PYZdq{}}\\PY{+w}{ }\\PY{n+na}{wavelength\\PYZus{}nm=}\\PY{l+s}{\\PYZdq{}905\\PYZdq{}}\\PY{+w}{ }\\PY{n+na}{rotorFreq1\\PYZus{}Hz=}\\PY{l+s}{\\PYZdq{}0\\PYZdq{}}\\PY{+w}{ }\\PY{n+na}{rotorFreq2\\PYZus{}Hz=}\\PY{l+s}{\\PYZdq{}\\PYZhy{}77.73333333333333\\PYZdq{}}\\PY{+w}{ }\\PY{n+na}{rotorFreq3\\PYZus{}Hz=}\\PY{l+s}{\\PYZdq{}121.56666666666666\\PYZdq{}}\\PY{+w}{ }\\PY{n+na}{prism1\\PYZus{}angle\\PYZus{}deg=}\\PY{l+s}{\\PYZdq{}0.0\\PYZdq{}}\\PY{+w}{ }\\PY{n+na}{prism2\\PYZus{}angle\\PYZus{}deg=}\\PY{l+s}{\\PYZdq{}18\\PYZdq{}}\\PY{+w}{ }\\PY{n+na}{prism3\\PYZus{}angle\\PYZus{}deg=}\\PY{l+s}{\\PYZdq{}18\\PYZdq{}}\\PY{+w}{ }\\PY{n+na}{prism1\\PYZus{}thickness=}\\PY{l+s}{\\PYZdq{}0.0\\PYZdq{}}\\PY{+w}{ }\\PY{n+na}{prism2\\PYZus{}thickness=}\\PY{l+s}{\\PYZdq{}4.0\\PYZdq{}}\\PY{+w}{ }\\PY{n+na}{prism3\\PYZus{}thickness=}\\PY{l+s}{\\PYZdq{}4.0\\PYZdq{}}\\PY{+w}{ }\\PY{n+na}{prism1\\PYZus{}radius=}\\PY{l+s}{\\PYZdq{}0.0\\PYZdq{}}\\PY{+w}{ }\\PY{n+na}{prism2\\PYZus{}radius=}\\PY{l+s}{\\PYZdq{}20.0\\PYZdq{}}\\PY{+w}{ }\\PY{n+na}{prism3\\PYZus{}radius=}\\PY{l+s}{\\PYZdq{}20.0\\PYZdq{}}\\PY{+w}{ }\\PY{n+na}{distance\\PYZus{}prism1\\PYZus{}2=}\\PY{l+s}{\\PYZdq{}0.0\\PYZdq{}}\\PY{+w}{ }\\PY{n+na}{distance\\PYZus{}prism2\\PYZus{}3=}\\PY{l+s}{\\PYZdq{}3.0\\PYZdq{}}\\PY{+w}{ }\\PY{n+na}{refrIndex\\PYZus{}prism1=}\\PY{l+s}{\\PYZdq{}1.0\\PYZdq{}}\\PY{+w}{ }\\PY{n+na}{refrIndex\\PYZus{}prism2=}\\PY{l+s}{\\PYZdq{}1.5\\PYZdq{}}\\PY{+w}{ }\\PY{n+na}{refrIndex\\PYZus{}prism3=}\\PY{l+s}{\\PYZdq{}1.5\\PYZdq{}}\\PY{+w}{ }\\PY{n+na}{refrIndex\\PYZus{}air=}\\PY{l+s}{\\PYZdq{}1.0\\PYZdq{}}\\PY{n+nt}{\\PYZgt{}}\n",
       "\\PY{+w}{\t\t\t\t}\n",
       "\\PY{+w}{\t\t}\\PY{n+nt}{\\PYZlt{}FWFSettings}\\PY{+w}{ }\\PY{n+na}{beamSampleQuality=}\\PY{l+s}{\\PYZdq{}3\\PYZdq{}}\\PY{+w}{ }\\PY{n+nt}{/\\PYZgt{}}\n",
       "\\PY{+w}{\t\t}\\PY{n+nt}{\\PYZlt{}beamOrigin}\\PY{+w}{ }\\PY{n+na}{x=}\\PY{l+s}{\\PYZdq{}0\\PYZdq{}}\\PY{+w}{ }\\PY{n+na}{y=}\\PY{l+s}{\\PYZdq{}0\\PYZdq{}}\\PY{+w}{ }\\PY{n+na}{z=}\\PY{l+s}{\\PYZdq{}0\\PYZdq{}}\\PY{n+nt}{\\PYZgt{}}\n",
       "\n",
       "\\PY{+w}{\t\t\t}\\PY{n+nt}{\\PYZlt{}rot}\\PY{+w}{ }\\PY{n+na}{axis=}\\PY{l+s}{\\PYZdq{}z\\PYZdq{}}\\PY{+w}{ }\\PY{n+na}{angle\\PYZus{}deg=}\\PY{l+s}{\\PYZdq{}\\PYZhy{}90\\PYZdq{}}\\PY{+w}{ }\\PY{n+nt}{/\\PYZgt{}}\n",
       "\\PY{+w}{\t\t}\\PY{n+nt}{\\PYZlt{}/beamOrigin\\PYZgt{}}\n",
       "\n",
       "\\PY{+w}{\t\t}\\PY{n+nt}{\\PYZlt{}headRotateAxis}\\PY{+w}{ }\\PY{n+na}{x=}\\PY{l+s}{\\PYZdq{}1\\PYZdq{}}\\PY{+w}{ }\\PY{n+na}{y=}\\PY{l+s}{\\PYZdq{}0\\PYZdq{}}\\PY{+w}{ }\\PY{n+na}{z=}\\PY{l+s}{\\PYZdq{}0\\PYZdq{}}\\PY{+w}{ }\\PY{n+nt}{/\\PYZgt{}}\n",
       "\\PY{+w}{\t}\\PY{n+nt}{\\PYZlt{}/scanner\\PYZgt{}}\n",
       "\n",
       "\\PY{+w}{\t}\n",
       "\\end{Verbatim}\n"
      ],
      "text/plain": [
       "<scanner id=\"dji-zenmuse-l2\" accuracy_m=\"0.02\" beamDivergence_rad=\"0.0027\" name=\"DJI Zenmuse L2\" optics=\"risley\" pulseFreqs_Hz=\"100000\" pulseLength_ns=\"4\" rangeMin_m=\"2\" scanAngleMax_deg=\"35\" scanAngleEffectiveMax_deg=\"35\" wavelength_nm=\"905\" rotorFreq1_Hz=\"0\" rotorFreq2_Hz=\"-77.73333333333333\" rotorFreq3_Hz=\"121.56666666666666\" prism1_angle_deg=\"0.0\" prism2_angle_deg=\"18\" prism3_angle_deg=\"18\" prism1_thickness=\"0.0\" prism2_thickness=\"4.0\" prism3_thickness=\"4.0\" prism1_radius=\"0.0\" prism2_radius=\"20.0\" prism3_radius=\"20.0\" distance_prism1_2=\"0.0\" distance_prism2_3=\"3.0\" refrIndex_prism1=\"1.0\" refrIndex_prism2=\"1.5\" refrIndex_prism3=\"1.5\" refrIndex_air=\"1.0\">\n",
       "\t\t\t\t\n",
       "\t\t<FWFSettings beamSampleQuality=\"3\" />\n",
       "\t\t<beamOrigin x=\"0\" y=\"0\" z=\"0\">\n",
       "\n",
       "\t\t\t<rot axis=\"z\" angle_deg=\"-90\" />\n",
       "\t\t</beamOrigin>\n",
       "\n",
       "\t\t<headRotateAxis x=\"1\" y=\"0\" z=\"0\" />\n",
       "\t</scanner>\n",
       "\n",
       "\t"
      ]
     },
     "execution_count": 6,
     "metadata": {},
     "output_type": "execute_result"
    }
   ],
   "source": [
    "Code(\n",
    "    display_xml(\"python/pyhelios/data/scanners_tls.xml\", \"dji-zenmuse-l2\"),\n",
    "    language=\"XML\",\n",
    ")"
   ]
  },
  {
   "cell_type": "markdown",
   "id": "1ffb5209-f77d-4fb1-8adc-a986faf9c04f",
   "metadata": {},
   "source": [
    "For this deflector type, the scan pattern is controlled by the rotation speeds (`rotorFreq1_Hz` and `rotorFreq2_Hz`, `rotorFreq3_Hz`) of three rotating risley prisms. This design is described in detail in [Li et al. (2017)](https://doi.org/10.1364/OE.25.007677)."
   ]
  },
  {
   "cell_type": "markdown",
   "id": "9bac9804-4bcb-4bbf-b151-59e5236bb9d1",
   "metadata": {},
   "source": [
    "## Scene\n",
    "\n",
    "Finally, let us take a look at the scene, `box_scene` in `data/scenes/demo/box_scene.xml`:"
   ]
  },
  {
   "cell_type": "code",
   "execution_count": 5,
   "id": "7fbc171c",
   "metadata": {},
   "outputs": [
    {
     "data": {
      "text/html": [
       "<style>pre { line-height: 125%; }\n",
       "td.linenos .normal { color: inherit; background-color: transparent; padding-left: 5px; padding-right: 5px; }\n",
       "span.linenos { color: inherit; background-color: transparent; padding-left: 5px; padding-right: 5px; }\n",
       "td.linenos .special { color: #000000; background-color: #ffffc0; padding-left: 5px; padding-right: 5px; }\n",
       "span.linenos.special { color: #000000; background-color: #ffffc0; padding-left: 5px; padding-right: 5px; }\n",
       ".output_html .hll { background-color: #ffffcc }\n",
       ".output_html { background: #f8f8f8; }\n",
       ".output_html .c { color: #3D7B7B; font-style: italic } /* Comment */\n",
       ".output_html .err { border: 1px solid #F00 } /* Error */\n",
       ".output_html .k { color: #008000; font-weight: bold } /* Keyword */\n",
       ".output_html .o { color: #666 } /* Operator */\n",
       ".output_html .ch { color: #3D7B7B; font-style: italic } /* Comment.Hashbang */\n",
       ".output_html .cm { color: #3D7B7B; font-style: italic } /* Comment.Multiline */\n",
       ".output_html .cp { color: #9C6500 } /* Comment.Preproc */\n",
       ".output_html .cpf { color: #3D7B7B; font-style: italic } /* Comment.PreprocFile */\n",
       ".output_html .c1 { color: #3D7B7B; font-style: italic } /* Comment.Single */\n",
       ".output_html .cs { color: #3D7B7B; font-style: italic } /* Comment.Special */\n",
       ".output_html .gd { color: #A00000 } /* Generic.Deleted */\n",
       ".output_html .ge { font-style: italic } /* Generic.Emph */\n",
       ".output_html .ges { font-weight: bold; font-style: italic } /* Generic.EmphStrong */\n",
       ".output_html .gr { color: #E40000 } /* Generic.Error */\n",
       ".output_html .gh { color: #000080; font-weight: bold } /* Generic.Heading */\n",
       ".output_html .gi { color: #008400 } /* Generic.Inserted */\n",
       ".output_html .go { color: #717171 } /* Generic.Output */\n",
       ".output_html .gp { color: #000080; font-weight: bold } /* Generic.Prompt */\n",
       ".output_html .gs { font-weight: bold } /* Generic.Strong */\n",
       ".output_html .gu { color: #800080; font-weight: bold } /* Generic.Subheading */\n",
       ".output_html .gt { color: #04D } /* Generic.Traceback */\n",
       ".output_html .kc { color: #008000; font-weight: bold } /* Keyword.Constant */\n",
       ".output_html .kd { color: #008000; font-weight: bold } /* Keyword.Declaration */\n",
       ".output_html .kn { color: #008000; font-weight: bold } /* Keyword.Namespace */\n",
       ".output_html .kp { color: #008000 } /* Keyword.Pseudo */\n",
       ".output_html .kr { color: #008000; font-weight: bold } /* Keyword.Reserved */\n",
       ".output_html .kt { color: #B00040 } /* Keyword.Type */\n",
       ".output_html .m { color: #666 } /* Literal.Number */\n",
       ".output_html .s { color: #BA2121 } /* Literal.String */\n",
       ".output_html .na { color: #687822 } /* Name.Attribute */\n",
       ".output_html .nb { color: #008000 } /* Name.Builtin */\n",
       ".output_html .nc { color: #00F; font-weight: bold } /* Name.Class */\n",
       ".output_html .no { color: #800 } /* Name.Constant */\n",
       ".output_html .nd { color: #A2F } /* Name.Decorator */\n",
       ".output_html .ni { color: #717171; font-weight: bold } /* Name.Entity */\n",
       ".output_html .ne { color: #CB3F38; font-weight: bold } /* Name.Exception */\n",
       ".output_html .nf { color: #00F } /* Name.Function */\n",
       ".output_html .nl { color: #767600 } /* Name.Label */\n",
       ".output_html .nn { color: #00F; font-weight: bold } /* Name.Namespace */\n",
       ".output_html .nt { color: #008000; font-weight: bold } /* Name.Tag */\n",
       ".output_html .nv { color: #19177C } /* Name.Variable */\n",
       ".output_html .ow { color: #A2F; font-weight: bold } /* Operator.Word */\n",
       ".output_html .w { color: #BBB } /* Text.Whitespace */\n",
       ".output_html .mb { color: #666 } /* Literal.Number.Bin */\n",
       ".output_html .mf { color: #666 } /* Literal.Number.Float */\n",
       ".output_html .mh { color: #666 } /* Literal.Number.Hex */\n",
       ".output_html .mi { color: #666 } /* Literal.Number.Integer */\n",
       ".output_html .mo { color: #666 } /* Literal.Number.Oct */\n",
       ".output_html .sa { color: #BA2121 } /* Literal.String.Affix */\n",
       ".output_html .sb { color: #BA2121 } /* Literal.String.Backtick */\n",
       ".output_html .sc { color: #BA2121 } /* Literal.String.Char */\n",
       ".output_html .dl { color: #BA2121 } /* Literal.String.Delimiter */\n",
       ".output_html .sd { color: #BA2121; font-style: italic } /* Literal.String.Doc */\n",
       ".output_html .s2 { color: #BA2121 } /* Literal.String.Double */\n",
       ".output_html .se { color: #AA5D1F; font-weight: bold } /* Literal.String.Escape */\n",
       ".output_html .sh { color: #BA2121 } /* Literal.String.Heredoc */\n",
       ".output_html .si { color: #A45A77; font-weight: bold } /* Literal.String.Interpol */\n",
       ".output_html .sx { color: #008000 } /* Literal.String.Other */\n",
       ".output_html .sr { color: #A45A77 } /* Literal.String.Regex */\n",
       ".output_html .s1 { color: #BA2121 } /* Literal.String.Single */\n",
       ".output_html .ss { color: #19177C } /* Literal.String.Symbol */\n",
       ".output_html .bp { color: #008000 } /* Name.Builtin.Pseudo */\n",
       ".output_html .fm { color: #00F } /* Name.Function.Magic */\n",
       ".output_html .vc { color: #19177C } /* Name.Variable.Class */\n",
       ".output_html .vg { color: #19177C } /* Name.Variable.Global */\n",
       ".output_html .vi { color: #19177C } /* Name.Variable.Instance */\n",
       ".output_html .vm { color: #19177C } /* Name.Variable.Magic */\n",
       ".output_html .il { color: #666 } /* Literal.Number.Integer.Long */</style><div class=\"highlight\"><pre><span></span><span class=\"nt\">&lt;scene</span><span class=\"w\"> </span><span class=\"na\">id=</span><span class=\"s\">&quot;box_scene&quot;</span><span class=\"w\"> </span><span class=\"na\">name=</span><span class=\"s\">&quot;box_scene&quot;</span><span class=\"nt\">&gt;</span>\n",
       "<span class=\"w\">        </span><span class=\"nt\">&lt;part&gt;</span>\n",
       "<span class=\"w\">            </span><span class=\"nt\">&lt;filter</span><span class=\"w\"> </span><span class=\"na\">type=</span><span class=\"s\">&quot;objloader&quot;</span><span class=\"nt\">&gt;</span>\n",
       "<span class=\"w\">                </span><span class=\"nt\">&lt;param</span><span class=\"w\"> </span><span class=\"na\">type=</span><span class=\"s\">&quot;string&quot;</span><span class=\"w\"> </span><span class=\"na\">key=</span><span class=\"s\">&quot;filepath&quot;</span><span class=\"w\"> </span><span class=\"na\">value=</span><span class=\"s\">&quot;data/sceneparts/basic/box/box100.obj&quot;</span><span class=\"w\"> </span><span class=\"nt\">/&gt;</span>\n",
       "<span class=\"w\">            </span><span class=\"nt\">&lt;/filter&gt;</span>\n",
       "<span class=\"w\">        </span><span class=\"nt\">&lt;/part&gt;</span>\n",
       "<span class=\"w\">    </span><span class=\"nt\">&lt;/scene&gt;</span>\n",
       "</pre></div>\n"
      ],
      "text/latex": [
       "\\begin{Verbatim}[commandchars=\\\\\\{\\}]\n",
       "\\PY{n+nt}{\\PYZlt{}scene}\\PY{+w}{ }\\PY{n+na}{id=}\\PY{l+s}{\\PYZdq{}box\\PYZus{}scene\\PYZdq{}}\\PY{+w}{ }\\PY{n+na}{name=}\\PY{l+s}{\\PYZdq{}box\\PYZus{}scene\\PYZdq{}}\\PY{n+nt}{\\PYZgt{}}\n",
       "\\PY{+w}{        }\\PY{n+nt}{\\PYZlt{}part}\\PY{n+nt}{\\PYZgt{}}\n",
       "\\PY{+w}{            }\\PY{n+nt}{\\PYZlt{}filter}\\PY{+w}{ }\\PY{n+na}{type=}\\PY{l+s}{\\PYZdq{}objloader\\PYZdq{}}\\PY{n+nt}{\\PYZgt{}}\n",
       "\\PY{+w}{                }\\PY{n+nt}{\\PYZlt{}param}\\PY{+w}{ }\\PY{n+na}{type=}\\PY{l+s}{\\PYZdq{}string\\PYZdq{}}\\PY{+w}{ }\\PY{n+na}{key=}\\PY{l+s}{\\PYZdq{}filepath\\PYZdq{}}\\PY{+w}{ }\\PY{n+na}{value=}\\PY{l+s}{\\PYZdq{}data/sceneparts/basic/box/box100.obj\\PYZdq{}}\\PY{+w}{ }\\PY{n+nt}{/\\PYZgt{}}\n",
       "\\PY{+w}{            }\\PY{n+nt}{\\PYZlt{}/filter\\PYZgt{}}\n",
       "\\PY{+w}{        }\\PY{n+nt}{\\PYZlt{}/part\\PYZgt{}}\n",
       "\\PY{+w}{    }\\PY{n+nt}{\\PYZlt{}/scene\\PYZgt{}}\n",
       "\\end{Verbatim}\n"
      ],
      "text/plain": [
       "<scene id=\"box_scene\" name=\"box_scene\">\n",
       "        <part>\n",
       "            <filter type=\"objloader\">\n",
       "                <param type=\"string\" key=\"filepath\" value=\"data/sceneparts/basic/box/box100.obj\" />\n",
       "            </filter>\n",
       "        </part>\n",
       "    </scene>"
      ]
     },
     "execution_count": 5,
     "metadata": {},
     "output_type": "execute_result"
    }
   ],
   "source": [
    "Code(display_xml(\"data/scenes/demo/box_scene.xml\", \"box_scene\"))"
   ]
  },
  {
   "cell_type": "markdown",
   "id": "f7a5dc2a-846a-4a75-986e-542c7c880d74",
   "metadata": {},
   "source": [
    "This is a simple scene, sonsisting of a cubix box (`box100.obj`) of 100 x 100 x 100 units, which is centered at the origin O(0,0,0). We typically use this scene for debugging purposes, because no shots get lost when scanning from within the box and the planar surfaces allow to control the scan pattern."
   ]
  },
  {
   "cell_type": "code",
   "execution_count": null,
   "id": "c4f81ecf-4a96-4095-89ed-44b30ac3ac61",
   "metadata": {},
   "outputs": [],
   "source": [
    "## Executing the Simulation\n",
    "\n",
    "Next, we will run the simulation. In Jupyter Notebooks, we can run external commands with the `!command` syntax, but you can also just run it from the command line."
   ]
  },
  {
   "cell_type": "code",
   "execution_count": 7,
   "id": "61262863",
   "metadata": {
    "scrolled": true
   },
   "outputs": [],
   "source": [
    "!helios data/surveys/demo/dji-zenmuse-l2.xml -q\n",
    "output_path = find_playback_dir(\"data/surveys/demo/dji-zenmuse-l2.xml\")"
   ]
  },
  {
   "cell_type": "markdown",
   "id": "6ae79ec5-b1f8-4225-a98c-96c1ace23697",
   "metadata": {},
   "source": [
    "## The results \n",
    "Now we can display the point cloud"
   ]
  },
  {
   "cell_type": "code",
   "execution_count": 37,
   "id": "05be08a7",
   "metadata": {},
   "outputs": [
    {
     "name": "stdout",
     "output_type": "stream",
     "text": [
      "Loading points from /home/thomas/repositories/helios/output/tls_toyblocks_livox/2025-07-03_10-41-40\n"
     ]
    },
    {
     "ename": "FileNotFoundError",
     "evalue": "/home/thomas/repositories/helios/output/tls_toyblocks_livox/2025-07-03_10-41-40/leg002_points.xyz not found.",
     "output_type": "error",
     "traceback": [
      "\u001b[31m---------------------------------------------------------------------------\u001b[39m",
      "\u001b[31mFileNotFoundError\u001b[39m                         Traceback (most recent call last)",
      "\u001b[36mCell\u001b[39m\u001b[36m \u001b[39m\u001b[32mIn[37]\u001b[39m\u001b[32m, line 8\u001b[39m\n\u001b[32m      5\u001b[39m \u001b[38;5;28mprint\u001b[39m(\u001b[33m\"\u001b[39m\u001b[33mLoading points from\u001b[39m\u001b[33m\"\u001b[39m, Path(output_path))\n\u001b[32m      7\u001b[39m sp_1 = np.loadtxt(Path(output_path) / \u001b[33m\"\u001b[39m\u001b[33mleg000_points.xyz\u001b[39m\u001b[33m\"\u001b[39m)\n\u001b[32m----> \u001b[39m\u001b[32m8\u001b[39m sp_2 = \u001b[43mnp\u001b[49m\u001b[43m.\u001b[49m\u001b[43mloadtxt\u001b[49m\u001b[43m(\u001b[49m\u001b[43mPath\u001b[49m\u001b[43m(\u001b[49m\u001b[43moutput_path\u001b[49m\u001b[43m)\u001b[49m\u001b[43m \u001b[49m\u001b[43m/\u001b[49m\u001b[43m \u001b[49m\u001b[33;43m\"\u001b[39;49m\u001b[33;43mleg002_points.xyz\u001b[39;49m\u001b[33;43m\"\u001b[39;49m\u001b[43m)\u001b[49m\n\u001b[32m      9\u001b[39m sp_3 = np.loadtxt(Path(output_path) / \u001b[33m\"\u001b[39m\u001b[33mleg004_points.xyz\u001b[39m\u001b[33m\"\u001b[39m)\n\u001b[32m     10\u001b[39m \u001b[38;5;28mprint\u001b[39m(sp_1.shape)\n",
      "\u001b[36mFile \u001b[39m\u001b[32m~/miniconda3/envs/helios-env/lib/python3.13/site-packages/numpy/lib/_npyio_impl.py:1397\u001b[39m, in \u001b[36mloadtxt\u001b[39m\u001b[34m(fname, dtype, comments, delimiter, converters, skiprows, usecols, unpack, ndmin, encoding, max_rows, quotechar, like)\u001b[39m\n\u001b[32m   1394\u001b[39m \u001b[38;5;28;01mif\u001b[39;00m \u001b[38;5;28misinstance\u001b[39m(delimiter, \u001b[38;5;28mbytes\u001b[39m):\n\u001b[32m   1395\u001b[39m     delimiter = delimiter.decode(\u001b[33m'\u001b[39m\u001b[33mlatin1\u001b[39m\u001b[33m'\u001b[39m)\n\u001b[32m-> \u001b[39m\u001b[32m1397\u001b[39m arr = \u001b[43m_read\u001b[49m\u001b[43m(\u001b[49m\u001b[43mfname\u001b[49m\u001b[43m,\u001b[49m\u001b[43m \u001b[49m\u001b[43mdtype\u001b[49m\u001b[43m=\u001b[49m\u001b[43mdtype\u001b[49m\u001b[43m,\u001b[49m\u001b[43m \u001b[49m\u001b[43mcomment\u001b[49m\u001b[43m=\u001b[49m\u001b[43mcomment\u001b[49m\u001b[43m,\u001b[49m\u001b[43m \u001b[49m\u001b[43mdelimiter\u001b[49m\u001b[43m=\u001b[49m\u001b[43mdelimiter\u001b[49m\u001b[43m,\u001b[49m\n\u001b[32m   1398\u001b[39m \u001b[43m            \u001b[49m\u001b[43mconverters\u001b[49m\u001b[43m=\u001b[49m\u001b[43mconverters\u001b[49m\u001b[43m,\u001b[49m\u001b[43m \u001b[49m\u001b[43mskiplines\u001b[49m\u001b[43m=\u001b[49m\u001b[43mskiprows\u001b[49m\u001b[43m,\u001b[49m\u001b[43m \u001b[49m\u001b[43musecols\u001b[49m\u001b[43m=\u001b[49m\u001b[43musecols\u001b[49m\u001b[43m,\u001b[49m\n\u001b[32m   1399\u001b[39m \u001b[43m            \u001b[49m\u001b[43munpack\u001b[49m\u001b[43m=\u001b[49m\u001b[43munpack\u001b[49m\u001b[43m,\u001b[49m\u001b[43m \u001b[49m\u001b[43mndmin\u001b[49m\u001b[43m=\u001b[49m\u001b[43mndmin\u001b[49m\u001b[43m,\u001b[49m\u001b[43m \u001b[49m\u001b[43mencoding\u001b[49m\u001b[43m=\u001b[49m\u001b[43mencoding\u001b[49m\u001b[43m,\u001b[49m\n\u001b[32m   1400\u001b[39m \u001b[43m            \u001b[49m\u001b[43mmax_rows\u001b[49m\u001b[43m=\u001b[49m\u001b[43mmax_rows\u001b[49m\u001b[43m,\u001b[49m\u001b[43m \u001b[49m\u001b[43mquote\u001b[49m\u001b[43m=\u001b[49m\u001b[43mquotechar\u001b[49m\u001b[43m)\u001b[49m\n\u001b[32m   1402\u001b[39m \u001b[38;5;28;01mreturn\u001b[39;00m arr\n",
      "\u001b[36mFile \u001b[39m\u001b[32m~/miniconda3/envs/helios-env/lib/python3.13/site-packages/numpy/lib/_npyio_impl.py:1024\u001b[39m, in \u001b[36m_read\u001b[39m\u001b[34m(fname, delimiter, comment, quote, imaginary_unit, usecols, skiplines, max_rows, converters, ndmin, unpack, dtype, encoding)\u001b[39m\n\u001b[32m   1022\u001b[39m     fname = os.fspath(fname)\n\u001b[32m   1023\u001b[39m \u001b[38;5;28;01mif\u001b[39;00m \u001b[38;5;28misinstance\u001b[39m(fname, \u001b[38;5;28mstr\u001b[39m):\n\u001b[32m-> \u001b[39m\u001b[32m1024\u001b[39m     fh = \u001b[43mnp\u001b[49m\u001b[43m.\u001b[49m\u001b[43mlib\u001b[49m\u001b[43m.\u001b[49m\u001b[43m_datasource\u001b[49m\u001b[43m.\u001b[49m\u001b[43mopen\u001b[49m\u001b[43m(\u001b[49m\u001b[43mfname\u001b[49m\u001b[43m,\u001b[49m\u001b[43m \u001b[49m\u001b[33;43m'\u001b[39;49m\u001b[33;43mrt\u001b[39;49m\u001b[33;43m'\u001b[39;49m\u001b[43m,\u001b[49m\u001b[43m \u001b[49m\u001b[43mencoding\u001b[49m\u001b[43m=\u001b[49m\u001b[43mencoding\u001b[49m\u001b[43m)\u001b[49m\n\u001b[32m   1025\u001b[39m     \u001b[38;5;28;01mif\u001b[39;00m encoding \u001b[38;5;129;01mis\u001b[39;00m \u001b[38;5;28;01mNone\u001b[39;00m:\n\u001b[32m   1026\u001b[39m         encoding = \u001b[38;5;28mgetattr\u001b[39m(fh, \u001b[33m'\u001b[39m\u001b[33mencoding\u001b[39m\u001b[33m'\u001b[39m, \u001b[33m'\u001b[39m\u001b[33mlatin1\u001b[39m\u001b[33m'\u001b[39m)\n",
      "\u001b[36mFile \u001b[39m\u001b[32m~/miniconda3/envs/helios-env/lib/python3.13/site-packages/numpy/lib/_datasource.py:192\u001b[39m, in \u001b[36mopen\u001b[39m\u001b[34m(path, mode, destpath, encoding, newline)\u001b[39m\n\u001b[32m    155\u001b[39m \u001b[38;5;250m\u001b[39m\u001b[33;03m\"\"\"\u001b[39;00m\n\u001b[32m    156\u001b[39m \u001b[33;03mOpen `path` with `mode` and return the file object.\u001b[39;00m\n\u001b[32m    157\u001b[39m \n\u001b[32m   (...)\u001b[39m\u001b[32m    188\u001b[39m \n\u001b[32m    189\u001b[39m \u001b[33;03m\"\"\"\u001b[39;00m\n\u001b[32m    191\u001b[39m ds = DataSource(destpath)\n\u001b[32m--> \u001b[39m\u001b[32m192\u001b[39m \u001b[38;5;28;01mreturn\u001b[39;00m \u001b[43mds\u001b[49m\u001b[43m.\u001b[49m\u001b[43mopen\u001b[49m\u001b[43m(\u001b[49m\u001b[43mpath\u001b[49m\u001b[43m,\u001b[49m\u001b[43m \u001b[49m\u001b[43mmode\u001b[49m\u001b[43m,\u001b[49m\u001b[43m \u001b[49m\u001b[43mencoding\u001b[49m\u001b[43m=\u001b[49m\u001b[43mencoding\u001b[49m\u001b[43m,\u001b[49m\u001b[43m \u001b[49m\u001b[43mnewline\u001b[49m\u001b[43m=\u001b[49m\u001b[43mnewline\u001b[49m\u001b[43m)\u001b[49m\n",
      "\u001b[36mFile \u001b[39m\u001b[32m~/miniconda3/envs/helios-env/lib/python3.13/site-packages/numpy/lib/_datasource.py:529\u001b[39m, in \u001b[36mDataSource.open\u001b[39m\u001b[34m(self, path, mode, encoding, newline)\u001b[39m\n\u001b[32m    526\u001b[39m     \u001b[38;5;28;01mreturn\u001b[39;00m _file_openers[ext](found, mode=mode,\n\u001b[32m    527\u001b[39m                               encoding=encoding, newline=newline)\n\u001b[32m    528\u001b[39m \u001b[38;5;28;01melse\u001b[39;00m:\n\u001b[32m--> \u001b[39m\u001b[32m529\u001b[39m     \u001b[38;5;28;01mraise\u001b[39;00m \u001b[38;5;167;01mFileNotFoundError\u001b[39;00m(\u001b[33mf\u001b[39m\u001b[33m\"\u001b[39m\u001b[38;5;132;01m{\u001b[39;00mpath\u001b[38;5;132;01m}\u001b[39;00m\u001b[33m not found.\u001b[39m\u001b[33m\"\u001b[39m)\n",
      "\u001b[31mFileNotFoundError\u001b[39m: /home/thomas/repositories/helios/output/tls_toyblocks_livox/2025-07-03_10-41-40/leg002_points.xyz not found."
     ]
    }
   ],
   "source": [
    "import numpy as np\n",
    "import matplotlib.pyplot as plt\n",
    "from pathlib import Path\n",
    "\n",
    "print(\"Loading points from\", Path(output_path))\n",
    "\n",
    "sp_1 = np.loadtxt(Path(output_path) / \"leg000_points.xyz\")\n",
    "sp_2 = np.loadtxt(Path(output_path) / \"leg002_points.xyz\")\n",
    "sp_3 = np.loadtxt(Path(output_path) / \"leg004_points.xyz\")\n",
    "print(sp_1.shape)\n",
    "print(sp_2.shape)\n",
    "print(sp_3.shape)"
   ]
  },
  {
   "cell_type": "code",
   "execution_count": 38,
   "id": "c64c0658-a256-4d15-a467-f0417b7a4721",
   "metadata": {},
   "outputs": [
    {
     "ename": "NameError",
     "evalue": "name 'sp_2' is not defined",
     "output_type": "error",
     "traceback": [
      "\u001b[31m---------------------------------------------------------------------------\u001b[39m",
      "\u001b[31mNameError\u001b[39m                                 Traceback (most recent call last)",
      "\u001b[36mCell\u001b[39m\u001b[36m \u001b[39m\u001b[32mIn[38]\u001b[39m\u001b[32m, line 9\u001b[39m\n\u001b[32m      6\u001b[39m ax1.set_title(\u001b[33m\"\u001b[39m\u001b[33mIntegration time: 0.2 s\u001b[39m\u001b[33m\"\u001b[39m)\n\u001b[32m      7\u001b[39m ax1.set_aspect(\u001b[33m\"\u001b[39m\u001b[33mequal\u001b[39m\u001b[33m\"\u001b[39m, \u001b[33m\"\u001b[39m\u001b[33mbox\u001b[39m\u001b[33m\"\u001b[39m)\n\u001b[32m----> \u001b[39m\u001b[32m9\u001b[39m ax2.scatter(\u001b[43msp_2\u001b[49m[:, \u001b[32m0\u001b[39m], sp_2[:, \u001b[32m2\u001b[39m], s=\u001b[32m0.1\u001b[39m, c=sp_2[:, \u001b[32m10\u001b[39m])\n\u001b[32m     10\u001b[39m ax2.set_xlabel(\u001b[33m\"\u001b[39m\u001b[33mX\u001b[39m\u001b[33m\"\u001b[39m)\n\u001b[32m     11\u001b[39m ax2.set_ylabel(\u001b[33m\"\u001b[39m\u001b[33mZ\u001b[39m\u001b[33m\"\u001b[39m)\n",
      "\u001b[31mNameError\u001b[39m: name 'sp_2' is not defined"
     ]
    },
    {
     "data": {
      "image/png": "[encoded data removed]",
      "text/plain": [
       "<Figure size 1500x800 with 3 Axes>"
      ]
     },
     "metadata": {},
     "output_type": "display_data"
    }
   ],
   "source": [
    "fig, (ax1, ax2, ax3) = plt.subplots(1, 3, figsize=(15, 8))\n",
    "\n",
    "ax1.scatter(sp_1[:, 0], sp_1[:, 2], s=0.1, c=sp_1[:, 10])\n",
    "ax1.set_xlabel(\"X\")\n",
    "ax1.set_ylabel(\"Z\")\n",
    "ax1.set_title(\"Integration time: 0.2 s\")\n",
    "ax1.set_aspect(\"equal\", \"box\")\n",
    "\n",
    "ax2.scatter(sp_2[:, 0], sp_2[:, 2], s=0.1, c=sp_2[:, 10])\n",
    "ax2.set_xlabel(\"X\")\n",
    "ax2.set_ylabel(\"Z\")\n",
    "ax2.set_title(\"Integration time: 1 s\")\n",
    "ax2.set_aspect(\"equal\", \"box\")\n",
    "\n",
    "ax3.scatter(sp_3[:, 0], sp_3[:, 2], s=0.1, c=sp_3[:, 10])\n",
    "ax3.set_xlabel(\"X\")\n",
    "ax3.set_ylabel(\"Z\")\n",
    "ax3.set_title(\"Integration time: 2 s\")\n",
    "ax3.set_aspect(\"equal\", \"box\")\n",
    "\n",
    "plt.show()"
   ]
  },
  {
   "cell_type": "markdown",
   "id": "516d3ee9-3b6a-4bee-b3d1-ff806706cd21",
   "metadata": {},
   "source": [
    "We can see a **nonrepeating** pattern, where with increasing integration time, the point density increases. This is different for other deflector types, such as rotating mirrors, where the scanner itself needs to move or rotate in order to result in a nonrepeating pattern.\n",
    "As stated in [Liu et al. (2022)](https://doi.org/10.1109/TMECH.2021.3058173), the scanning mechanisms results in a **retina-like** scanning pattern, with the highest point density in the centre of the field of view."
   ]
  },
  {
   "cell_type": "code",
   "execution_count": null,
   "id": "293fd35e-84b5-4b4e-a9ec-f094d8c1ba76",
   "metadata": {},
   "outputs": [],
   "source": []
  }
 ],
 "metadata": {
  "kernelspec": {
   "display_name": "Python 3 (ipykernel)",
   "language": "python",
   "name": "python3"
  },
  "language_info": {
   "codemirror_mode": {
    "name": "ipython",
    "version": 3
   },
   "file_extension": ".py",
   "mimetype": "text/x-python",
   "name": "python",
   "nbconvert_exporter": "python",
   "pygments_lexer": "ipython3",
   "version": "3.13.5"
  }
 },
 "nbformat": 4,
 "nbformat_minor": 5
}
