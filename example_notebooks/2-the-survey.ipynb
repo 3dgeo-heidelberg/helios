{
 "cells": [
  {
   "cell_type": "markdown",
   "metadata": {},
   "source": [
    "# The survey\n",
    "***"
   ]
  },
  {
   "cell_type": "markdown",
   "metadata": {},
   "source": [
    "<img align=\"right\" src=\"https://github.com/3dgeo-heidelberg/helios/blob/dev/h++.png?raw=true\" width=\"300\">\n",
    "\n",
    "This page will give an introduction on using `pyhelios` to access and modify surveys.\n",
    "\n",
    "`pyhelios` allows to:\n",
    "\n",
    "- obtain scanning device characteristics\n",
    "- calculate the length of a survey\n",
    "- view and modify the scanner and platform settings at each leg"
   ]
  },
  {
   "cell_type": "code",
   "execution_count": null,
   "metadata": {
    "pycharm": {
     "name": "#%%\n"
    }
   },
   "outputs": [],
   "source": [
    "import sys\n",
    "import os\n",
    "from pathlib import Path\n",
    "import math\n",
    "\n",
    "current_folder = globals()[\"_dh\"][0]\n",
    "helios_path = str(Path(current_folder).parent)\n",
    "sys.path.append(helios_path)  # add helios-plusplus directory to PATH\n",
    "import pyhelios\n",
    "\n",
    "os.chdir(helios_path)"
   ]
  },
  {
   "cell_type": "code",
   "execution_count": null,
   "metadata": {
    "pycharm": {
     "name": "#%%\n"
    }
   },
   "outputs": [],
   "source": [
    "pyhelios.loggingDefault()\n",
    "# build simulation parameters\n",
    "simBuilder = pyhelios.SimulationBuilder(\n",
    "    \"data/surveys/toyblocks/als_toyblocks.xml\", \"assets/\", \"output/\"\n",
    ")\n",
    "simBuilder.setNumThreads(0)\n",
    "simBuilder.setLasOutput(True)\n",
    "simBuilder.setZipOutput(True)\n",
    "\n",
    "# build the survey\n",
    "simB = simBuilder.build()"
   ]
  },
  {
   "cell_type": "markdown",
   "metadata": {
    "pycharm": {
     "name": "#%% md\n"
    }
   },
   "source": [
    "Once we built a survey, we have numerous options to obtain and change the characteristics of all components of our simulation. Note that after the steps above, simB is a SimulationBuild object. To access the Simulation itself, we have to call simB.sim."
   ]
  },
  {
   "cell_type": "code",
   "execution_count": null,
   "metadata": {
    "pycharm": {
     "name": "#%%\n"
    }
   },
   "outputs": [],
   "source": [
    "# obtain survey path and name\n",
    "survey_path = simB.sim.getSurveyPath()\n",
    "survey = simB.sim.getSurvey()\n",
    "survey_name = survey.name\n",
    "print(survey_name)"
   ]
  },
  {
   "cell_type": "markdown",
   "metadata": {
    "pycharm": {
     "name": "#%% md\n"
    }
   },
   "source": [
    "We can also obtain the survey length, i.e. the distance through all waypoints.\n",
    "If the survey has not been running yet, `survey.getLength()` will return 0.0.\n",
    "We can calculate the length of a loaded survey of a simulation which was built but not started with `survey.calculateLength()`.\n"
   ]
  },
  {
   "cell_type": "code",
   "execution_count": null,
   "metadata": {
    "pycharm": {
     "name": "#%%\n"
    }
   },
   "outputs": [],
   "source": [
    "survey.getLength()"
   ]
  },
  {
   "cell_type": "code",
   "execution_count": null,
   "metadata": {
    "pycharm": {
     "name": "#%%\n"
    }
   },
   "outputs": [],
   "source": [
    "survey.calculateLength()\n",
    "print(survey.getLength())"
   ]
  },
  {
   "cell_type": "markdown",
   "metadata": {
    "pycharm": {
     "name": "#%% md\n"
    }
   },
   "source": [
    "## The scanner\n",
    "\n",
    "Let's have a look at the scanner we are using."
   ]
  },
  {
   "cell_type": "code",
   "execution_count": null,
   "metadata": {
    "pycharm": {
     "name": "#%%\n"
    }
   },
   "outputs": [],
   "source": [
    "scanner = simB.sim.getScanner()\n",
    "# print scanner characteristics\n",
    "print(scanner.toString())"
   ]
  },
  {
   "cell_type": "markdown",
   "metadata": {
    "pycharm": {
     "name": "#%% md\n"
    }
   },
   "source": [
    "The scanner characteristics can also be accessed individually:"
   ]
  },
  {
   "cell_type": "code",
   "execution_count": null,
   "metadata": {
    "pycharm": {
     "name": "#%%\n"
    }
   },
   "outputs": [],
   "source": [
    "print(\n",
    "    f\"\"\"\n",
    "Device ID: \\t\\t{scanner.deviceId}\n",
    "Average power: \\t{scanner.averagePower} W\n",
    "Beam divergence: \\t{scanner.beamDivergence} rad\n",
    "Wavelength: \\t{scanner.wavelength*1000000000} nm\n",
    "Scanner visibility \\t{scanner.visibility} m\n",
    "\"\"\"\n",
    ")"
   ]
  },
  {
   "cell_type": "markdown",
   "metadata": {
    "pycharm": {
     "name": "#%% md\n"
    }
   },
   "source": [
    "The scanner has also some more properties:"
   ]
  },
  {
   "cell_type": "code",
   "execution_count": null,
   "metadata": {
    "pycharm": {
     "name": "#%%\n"
    }
   },
   "outputs": [],
   "source": [
    "print(\n",
    "    f\"\"\"\n",
    "Number of subsampling rays: \\t\\t{scanner.numRays}\n",
    "Pulse length: \\t\\t\\t{scanner.pulseLength_ns} ns\n",
    "Supported pulse frequenceis: \\t{list(scanner.getSupportedPulseFrequencies())} Hz\n",
    "\"\"\"\n",
    ")"
   ]
  },
  {
   "cell_type": "markdown",
   "metadata": {
    "pycharm": {
     "name": "#%% md\n"
    }
   },
   "source": [
    "We can also get information about the scanner head, e.g. the maximum rotation speed in case of TLS scanners.\n",
    "Let's load a TLS survey."
   ]
  },
  {
   "cell_type": "code",
   "execution_count": null,
   "metadata": {
    "pycharm": {
     "name": "#%%\n"
    }
   },
   "outputs": [],
   "source": [
    "pyhelios.loggingDefault()\n",
    "# build simulation parameters\n",
    "simBuilder = pyhelios.SimulationBuilder(\n",
    "    \"data/surveys/demo/tls_arbaro_demo.xml\", \"assets/\", \"output/\"\n",
    ")\n",
    "simBuilder.setNumThreads(0)\n",
    "simBuilder.setLasOutput(True)\n",
    "simBuilder.setZipOutput(True)\n",
    "\n",
    "# build the survey\n",
    "simB = simBuilder.build()"
   ]
  },
  {
   "cell_type": "code",
   "execution_count": null,
   "metadata": {
    "pycharm": {
     "name": "#%%\n"
    }
   },
   "outputs": [],
   "source": [
    "scanner = simB.sim.getScanner()\n",
    "print(scanner.toString())"
   ]
  },
  {
   "cell_type": "code",
   "execution_count": null,
   "metadata": {
    "pycharm": {
     "name": "#%%\n"
    }
   },
   "outputs": [],
   "source": [
    "head = scanner.getScannerHead()\n",
    "# get scanner rotation speed and range\n",
    "print(\n",
    "    f\"\"\"\n",
    "Max. rotation speed: {round(head.rotatePerSecMax * 180 / math.pi)} degrees per second\n",
    "\"\"\"\n",
    ")"
   ]
  },
  {
   "cell_type": "markdown",
   "metadata": {
    "pycharm": {
     "name": "#%% md\n"
    }
   },
   "source": [
    "If we want to obtain the scanning mechanism, we have to get the beam deflector."
   ]
  },
  {
   "cell_type": "code",
   "execution_count": null,
   "metadata": {
    "pycharm": {
     "name": "#%%\n"
    }
   },
   "outputs": [],
   "source": [
    "deflector = scanner.getBeamDeflector()\n",
    "print(\n",
    "    f\"\"\"\n",
    "Scan frequency range: {deflector.scanFreqMin} - {deflector.scanFreqMax} Hz\n",
    "Scan angle range: {round(deflector.scanAngleMax * 180 / math.pi)}° FOV\n",
    "\"\"\"\n",
    ")\n",
    "# deflector.optics\n",
    "\n",
    "# not needed:\n",
    "# deflector.verticalAngleMin\n",
    "# deflector.verticalAngleMax"
   ]
  },
  {
   "cell_type": "markdown",
   "metadata": {
    "pycharm": {
     "name": "#%% md\n"
    }
   },
   "source": [
    "From the beam detector, we get information about, e.g., the accuracy of the scanner."
   ]
  },
  {
   "cell_type": "code",
   "execution_count": null,
   "metadata": {
    "pycharm": {
     "name": "#%%\n"
    }
   },
   "outputs": [],
   "source": [
    "detector = scanner.getDetector()\n",
    "print(\n",
    "    f\"\"\"\n",
    "Accuracy: {detector.accuracy} m\n",
    "Minimum range: {detector.rangeMin} m\n",
    "Maximum range: {detector.rangeMax} m\n",
    "\"\"\"\n",
    ")\n",
    "# detector().maxNOR\n",
    "\n",
    "# crashes when executing:\n",
    "# detector.lasScale"
   ]
  },
  {
   "cell_type": "markdown",
   "metadata": {
    "pycharm": {
     "name": "#%% md\n"
    }
   },
   "source": [
    "We can also get the scanner full waveform settings.\n",
    "Like many of the scanner settings, they can be overwritten in the `scannerSettings` of a leg."
   ]
  },
  {
   "cell_type": "code",
   "execution_count": null,
   "metadata": {
    "pycharm": {
     "name": "#%%\n"
    }
   },
   "outputs": [],
   "source": [
    "print(\n",
    "    f\"\"\"Full waveform settings for {scanner.deviceId}\n",
    "Bin size: {scanner.fwfSettings.binSize_ns} ns\n",
    "Window size: {scanner.fwfSettings.winSize_ns} ns\n",
    "Beam sample quality: {scanner.fwfSettings.beamSampleQuality}\n",
    "\"\"\"\n",
    ")"
   ]
  },
  {
   "cell_type": "markdown",
   "metadata": {
    "pycharm": {
     "name": "#%% md\n"
    }
   },
   "source": [
    "## Legs\n",
    "\n",
    "Each leg of a survey has scanner settings and platform settings, (cf. survey XML file),\n",
    "which can be accessed and changed with pyhelios.\n"
   ]
  },
  {
   "cell_type": "code",
   "execution_count": null,
   "metadata": {
    "pycharm": {
     "name": "#%%\n"
    }
   },
   "outputs": [],
   "source": [
    "# get the first leg\n",
    "leg = simB.sim.getLeg(0)\n",
    "\n",
    "# scanner settings\n",
    "print(\n",
    "    f\"\"\"\n",
    "Scanner is active: \\t{leg.getScannerSettings().active}\n",
    "Pulse frequency: \\t{leg.getScannerSettings().pulseFreq} Hz\n",
    "Scan angle: \\t\\t{leg.getScannerSettings().scanAngle * 180 / math.pi}°\n",
    "Minimum vertical angle: {leg.getScannerSettings().verticalAngleMin * 180 / math.pi}°\n",
    "Maximum vertical angle: {round(leg.getScannerSettings().verticalAngleMax * 180 / math.pi)}°\n",
    "Scan frequency: \\t{leg.getScannerSettings().scanFreq} Hz\n",
    "Beam divergence: \\t{leg.getScannerSettings().beamDivAngle * 1000} mrad\n",
    "Trajectory time interval: \\t{leg.getScannerSettings().trajectoryTimeInterval} s\n",
    "Start angle of head rotation: \\t{leg.getScannerSettings().headRotateStart * 180 / math.pi}°\n",
    "Start angle of head rotation: \\t{leg.getScannerSettings().headRotateStop * 180 / math.pi}°\n",
    "Rotation speed: \\t\\t{leg.getScannerSettings().headRotatePerSec * 180 / math.pi}° per s\n",
    "\"\"\"\n",
    ")"
   ]
  },
  {
   "cell_type": "markdown",
   "metadata": {
    "pycharm": {
     "name": "#%% md\n"
    }
   },
   "source": [
    "Scanner Settings and platform settings may be defined through a template.\n",
    "For this, let's first switch back to the ALS toyblocks demo"
   ]
  },
  {
   "cell_type": "code",
   "execution_count": null,
   "metadata": {
    "pycharm": {
     "name": "#%%\n"
    }
   },
   "outputs": [],
   "source": [
    "simBuilder = pyhelios.SimulationBuilder(\n",
    "    \"data/surveys/toyblocks/als_toyblocks.xml\", \"assets/\", \"output/\"\n",
    ")\n",
    "simBuilder.setNumThreads(0)\n",
    "simBuilder.setLasOutput(True)\n",
    "simBuilder.setZipOutput(True)\n",
    "simB = simBuilder.build()"
   ]
  },
  {
   "cell_type": "markdown",
   "metadata": {
    "pycharm": {
     "name": "#%% md\n"
    }
   },
   "source": [
    "The template can be accessed for a given ScannerSettings or PlatformSettings instance:"
   ]
  },
  {
   "cell_type": "code",
   "execution_count": null,
   "metadata": {
    "pycharm": {
     "name": "#%%\n"
    }
   },
   "outputs": [],
   "source": [
    "leg = simB.sim.getLeg(0)\n",
    "\n",
    "ss = leg.getScannerSettings()\n",
    "if ss.hasTemplate():\n",
    "    ss_tmpl = ss.getTemplate()\n",
    "    print(\n",
    "        f\"\"\"\n",
    "    Template name: {ss_tmpl.id}\n",
    "    Pulse frequency: {ss_tmpl.pulseFreq/1000} kHz\n",
    "    \"\"\"\n",
    "    )  # Print the pulse frequency defined in the template"
   ]
  },
  {
   "cell_type": "code",
   "execution_count": null,
   "metadata": {
    "pycharm": {
     "name": "#%%\n"
    }
   },
   "outputs": [],
   "source": [
    "ps = leg.getPlatformSettings()\n",
    "if ps.hasTemplate():\n",
    "    ps_tmpl = ps.getTemplate()\n",
    "    print(\n",
    "        f\"\"\"\n",
    "    Platform template name: {ps_tmpl.id}\n",
    "    Speed: {ps_tmpl.movePerSec} m/s\n",
    "    Altitude: {ps_tmpl.z} m\n",
    "    \"\"\"\n",
    "    )"
   ]
  },
  {
   "cell_type": "markdown",
   "metadata": {
    "pycharm": {
     "name": "#%% md\n"
    }
   },
   "source": [
    "We can also change the template."
   ]
  },
  {
   "cell_type": "code",
   "execution_count": null,
   "metadata": {
    "pycharm": {
     "name": "#%%\n"
    }
   },
   "outputs": [],
   "source": [
    "ps_tmpl.z += 20\n",
    "print(f\"New altitude: {ps_tmpl.z} m\")"
   ]
  },
  {
   "cell_type": "markdown",
   "metadata": {
    "pycharm": {
     "name": "#%% md\n"
    }
   },
   "source": [
    "Some further platform settings:"
   ]
  },
  {
   "cell_type": "code",
   "execution_count": null,
   "metadata": {
    "pycharm": {
     "name": "#%%\n"
    }
   },
   "outputs": [],
   "source": [
    "print(\n",
    "    f\"\"\"\n",
    "On ground? {leg.getPlatformSettings().onGround}\n",
    "Position: ({leg.getPlatformSettings().x}, {leg.getPlatformSettings().y}, {leg.getPlatformSettings().z})\n",
    "\"\"\"\n",
    ")"
   ]
  },
  {
   "cell_type": "markdown",
   "metadata": {
    "pycharm": {
     "name": "#%% md\n"
    }
   },
   "source": [
    "If we compare the position here to the position in the XML survey file, we notice that they do not match.\n",
    "The difference is 50 in x direction and 70 in y direction.\n",
    "\n",
    "When loading a survey, **a shift is applied to the scene and to each leg**. We can obtain this shift:"
   ]
  },
  {
   "cell_type": "code",
   "execution_count": null,
   "metadata": {
    "pycharm": {
     "name": "#%%\n"
    }
   },
   "outputs": [],
   "source": [
    "scene = simB.sim.getScene()\n",
    "shift = scene.getShift()\n",
    "print(f\"Shift = ({shift.x},{shift.y},{shift.z})\")"
   ]
  },
  {
   "cell_type": "markdown",
   "metadata": {
    "pycharm": {
     "name": "#%% md\n"
    }
   },
   "source": [
    "Using a for-loop, we can get all leg positions.\n",
    "Note that we add the shift to obtain the true coordinates as specified in the XML-file:\n"
   ]
  },
  {
   "cell_type": "code",
   "execution_count": null,
   "metadata": {
    "pycharm": {
     "name": "#%%\n"
    }
   },
   "outputs": [],
   "source": [
    "for i in range(simB.sim.getNumLegs()):\n",
    "    leg = simB.sim.getLeg(i)\n",
    "    print(\n",
    "        f\"Leg {i}\\tposition = \"\n",
    "        f\"{leg.getPlatformSettings().x+shift.x},\"\n",
    "        f\"{leg.getPlatformSettings().y+shift.y},\"\n",
    "        f\"{leg.getPlatformSettings().z+shift.z}\\t\"\n",
    "        f\"active = {leg.getScannerSettings().active}\"\n",
    "    )"
   ]
  },
  {
   "cell_type": "markdown",
   "metadata": {
    "pycharm": {
     "name": "#%% md\n"
    }
   },
   "source": [
    "We can also use a for-loop to create new legs.\n",
    "Here an example, where we initiate a simulation with a survey with no legs (`data/surveys/default_survey.xml`) and\n",
    "then create the legs with Python."
   ]
  },
  {
   "cell_type": "code",
   "execution_count": null,
   "metadata": {
    "pycharm": {
     "name": "#%%\n"
    }
   },
   "outputs": [],
   "source": [
    "pyhelios.loggingDefault()\n",
    "default_survey_path = \"data/surveys/default_survey.xml\"\n",
    "\n",
    "# default survey with the toyblocks scene (missing platform and scanner definition and not containing any legs)\n",
    "survey = \"\"\"\n",
    "<?xml version=\"1.0\" encoding=\"UTF-8\"?>\n",
    "<document>\n",
    "    <survey name=\"some_survey\" scene=\"data/scenes/toyblocks/toyblocks_scene.xml#toyblocks_scene\" platform=\"data/platforms.xml#copter_linearpath\" scanner=\"data/scanners_als.xml#riegl_vux-1uav\">\n",
    "    </survey>\n",
    "</document>\n",
    "\"\"\"\n",
    "\n",
    "with open(default_survey_path, \"w\") as f:\n",
    "    f.write(survey)\n",
    "\n",
    "simBuilder = pyhelios.SimulationBuilder(default_survey_path, \"assets/\", \"output/\")\n",
    "simBuilder.setCallbackFrequency(10)\n",
    "simBuilder.setLasOutput(True)\n",
    "simBuilder.setZipOutput(True)\n",
    "simBuilder.setRebuildScene(True)\n",
    "\n",
    "simB = simBuilder.build()\n",
    "\n",
    "waypoints = [\n",
    "    [100.0, -100.0],\n",
    "    [-100.0, -100.0],\n",
    "    [-100.0, -50.0],\n",
    "    [100.0, -50.0],\n",
    "    [100.0, 0.0],\n",
    "    [-100.0, 0.0],\n",
    "    [-100.0, 50.0],\n",
    "    [100.0, 50.0],\n",
    "    [100.0, 100.0],\n",
    "    [-100.0, 100.0],\n",
    "]\n",
    "altitude = 100\n",
    "speed = 150\n",
    "pulse_freq = 300_000\n",
    "scan_freq = 200\n",
    "scan_angle = 37.5 / 180 * math.pi  # convert to rad\n",
    "shift = simB.sim.getScene().getShift()\n",
    "for j, wp in enumerate(waypoints):\n",
    "    leg = simB.sim.newLeg(j)\n",
    "    leg.serialId = j  # assigning a serialId is important!\n",
    "    leg.getPlatformSettings().x = wp[0] - shift.x  # don't forget to apply the shift!\n",
    "    leg.getPlatformSettings().y = wp[1] - shift.y\n",
    "    leg.getPlatformSettings().z = altitude - shift.z\n",
    "    leg.getPlatformSettings().movePerSec = speed\n",
    "    leg.getScannerSettings().pulseFreq = pulse_freq\n",
    "    leg.getScannerSettings().scanFreq = scan_freq\n",
    "    leg.getScannerSettings().scanAngle = scan_angle\n",
    "    leg.getScannerSettings().trajectoryTimeInterval = (\n",
    "        0.05  # important to get a trajectory output\n",
    "    )\n",
    "    if j % 2 != 0:\n",
    "        leg.getScannerSettings().active = False"
   ]
  },
  {
   "cell_type": "markdown",
   "metadata": {
    "pycharm": {
     "name": "#%% md\n"
    }
   },
   "source": [
    "Let's execute this survey!"
   ]
  },
  {
   "cell_type": "code",
   "execution_count": null,
   "metadata": {
    "pycharm": {
     "name": "#%%\n"
    }
   },
   "outputs": [],
   "source": [
    "import time\n",
    "\n",
    "start_time = time.time()\n",
    "simB.start()\n",
    "\n",
    "if simB.isStarted():\n",
    "    print(\"Simulation is started!\")\n",
    "\n",
    "while simB.isRunning():\n",
    "    duration = time.time() - start_time\n",
    "    mins = duration // 60\n",
    "    secs = duration % 60\n",
    "    print(\n",
    "        \"\\r\"\n",
    "        + \"Simulation is running since {} min and {} sec. Please wait.\".format(\n",
    "            int(mins), int(secs)\n",
    "        ),\n",
    "        end=\"\",\n",
    "    )\n",
    "    time.sleep(1)\n",
    "\n",
    "output = simB.join()\n",
    "print(\"\\nSimulation has finished.\")"
   ]
  },
  {
   "cell_type": "markdown",
   "metadata": {},
   "source": [
    "Now let us also quickly visualize the output. We load the points into numpy arrays using the function `outputToNumpy` and then visualize the point cloud with matplotlib as a simple top view with points coloured by the `hitObjectId`."
   ]
  },
  {
   "cell_type": "code",
   "execution_count": null,
   "metadata": {
    "pycharm": {
     "name": "#%%\n"
    }
   },
   "outputs": [],
   "source": [
    "import matplotlib.pyplot as plt\n",
    "\n",
    "pc, trajectory = pyhelios.outputToNumpy(output)\n",
    "\n",
    "# Matplotlib figure.\n",
    "fig = plt.figure(figsize=(5, 5))\n",
    "# Axes3d axis onto mpl figure.\n",
    "ax = fig.add_subplot()\n",
    "\n",
    "# Scatter plot of original and simulated points in different colors\n",
    "ax.scatter(pc[:, 0], pc[:, 1], c=pc[:, 14], s=0.01)\n",
    "\n",
    "# Add axis labels.\n",
    "ax.set_xlabel(\"$X$\")\n",
    "ax.set_ylabel(\"$Y$\")\n",
    "ax.axis(\"equal\")\n",
    "\n",
    "# Set title.\n",
    "from textwrap import wrap\n",
    "\n",
    "title = ax.set_title(\n",
    "    \"\\n\".join(\n",
    "        wrap(\n",
    "            \"Top view of the simulated point cloud, coloured by \" + r\"$hitObjectId$\", 40\n",
    "        )\n",
    "    )\n",
    ")\n",
    "\n",
    "plt.show()"
   ]
  },
  {
   "cell_type": "code",
   "execution_count": null,
   "metadata": {
    "pycharm": {
     "name": "#%%\n"
    }
   },
   "outputs": [],
   "source": []
  }
 ],
 "metadata": {
  "kernelspec": {
   "display_name": "Python 3 (ipykernel)",
   "language": "python",
   "name": "python3"
  },
  "language_info": {
   "codemirror_mode": {
    "name": "ipython",
    "version": 3
   },
   "file_extension": ".py",
   "mimetype": "text/x-python",
   "name": "python",
   "nbconvert_exporter": "python",
   "pygments_lexer": "ipython3",
   "version": "3.8.10"
  }
 },
 "nbformat": 4,
 "nbformat_minor": 1
}
