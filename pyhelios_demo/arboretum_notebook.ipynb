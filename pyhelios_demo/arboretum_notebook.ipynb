{
 "cells": [
  {
   "cell_type": "markdown",
   "id": "0c5d0fba",
   "metadata": {},
   "source": [
    "Hannah Weiser, 3DGeo Group, Heidelberg University\n",
    "\n",
    "October 2021\n",
    "\n",
    "***"
   ]
  },
  {
   "cell_type": "markdown",
   "id": "e9b87578",
   "metadata": {},
   "source": [
    "# Laser scanning simulation Arboretum Heidelberg"
   ]
  },
  {
   "cell_type": "markdown",
   "id": "d6951fa1",
   "metadata": {},
   "source": [
    "In June 2021, the 3DGeo group and students of Heidelberg university acquired TLS point clouds of the trees in the Arboretum in Heidelberg, which includes several Sequoias. Using this data, let’s create a ULS simulation! We can compare this simulated point cloud with a real ULS point cloud acquired over the same area in August 2021."
   ]
  },
  {
   "cell_type": "markdown",
   "id": "59b043a9",
   "metadata": {},
   "source": [
    "## Setup"
   ]
  },
  {
   "cell_type": "markdown",
   "id": "ac242595",
   "metadata": {},
   "source": [
    "We first have to make sure we have all requirements installed. Using Anaconda, please create the environment provided with the .yml file `pdal_pyhelios_env.yml` which you find in the helios root directory by typing: "
   ]
  },
  {
   "cell_type": "markdown",
   "id": "9040a418",
   "metadata": {},
   "source": [
    "```\n",
    "conda env create -f pdal_pyhelios_env.yml\n",
    "```"
   ]
  },
  {
   "cell_type": "markdown",
   "id": "b793e01a",
   "metadata": {},
   "source": [
    "## Imports"
   ]
  },
  {
   "cell_type": "code",
   "execution_count": 8,
   "id": "02d2ffee",
   "metadata": {},
   "outputs": [],
   "source": [
    "import pdal\n",
    "from IPython.display import display, clear_output\n",
    "import numpy as np\n",
    "import matplotlib.pyplot as plt\n",
    "from mpl_toolkits.mplot3d import Axes3D\n",
    "from pathlib import Path, PurePath\n",
    "import shutil\n",
    "import time\n",
    "import math\n",
    "import laspy\n",
    "import urllib.request\n",
    "import sys\n",
    "helios_path = str(Path.cwd().parent)\n",
    "helios_run_path = str(PurePath(helios_path,'run/'))\n",
    "sys.path.append(helios_path)\n",
    "sys.path.append(helios_run_path)\n",
    "from run import pyhelios\n",
    "from pyheliostools import outputToNumpy\n",
    "from extra.flight_planner import *"
   ]
  },
  {
   "cell_type": "code",
   "execution_count": 5,
   "id": "6b739ca8",
   "metadata": {},
   "outputs": [],
   "source": [
    "# Magic command to enable interactive plot.\n",
    "%matplotlib widget"
   ]
  },
  {
   "cell_type": "markdown",
   "id": "2ba2ac10",
   "metadata": {},
   "source": [
    "## Input data\n",
    "`arboretum_data/2021-06-18_TLS_Arboretum_VZ-2000i_preprocessed.laz`\n",
    "\n",
    "This is a preprocessed point cloud of the scene. We did a simple subsampling in [CloudCompare](www.cloudcompare.org) using the \"space\" option and a value of 10 cm. We then extracted a rectangular subsection of the entire point cloud (bounding box: 478845.830, 5471966.184, 478983.243, 5472121.949). We filtered this point cloud by deviation, keeping only points with values below 25. Lastly, we applied a statistical outlier removal (SOR) filter with the standard deviation quantified on 6 points and a threshold *nSigma* of 1.5."
   ]
  },
  {
   "cell_type": "markdown",
   "id": "d29c007a",
   "metadata": {},
   "source": [
    "Let's check if the file is already existing, other wise we will download it."
   ]
  },
  {
   "cell_type": "code",
   "execution_count": 6,
   "id": "6d845f63",
   "metadata": {},
   "outputs": [
    {
     "name": "stdout",
     "output_type": "stream",
     "text": [
      "File already exists. Great!\n",
      "File already exists. Great!\n"
     ]
    }
   ],
   "source": [
    "def reporthook(count, block_size, total_size):\n",
    "    percent = min(int(count * block_size * 100 / total_size), 100)\n",
    "    print(\"\\r...{}%\".format(percent), end=\"\")\n",
    "        \n",
    "def download_data(filename, url):\n",
    "    if not Path(filename).exists():\n",
    "        print(\"Downloading data from '{}' to '{}'. Please wait ...\".format(url, filename))\n",
    "        if not Path(filename).parent.exists():\n",
    "            Path(filename).parent.mkdir()\n",
    "        urllib.request.urlretrieve(url, filename, reporthook=reporthook)\n",
    "        print(\"\\nDownload finished\")\n",
    "    else:\n",
    "        print(\"File already exists. Great!\")\n",
    "\n",
    "data_tls = \"../arboretum_data/2021-06-18_TLS_Arboretum_VZ-2000i_preprocessed.laz\"\n",
    "data_uls = \"../arboretum_data/2021-08-17_ULS_Arboretum_AOI.laz\"\n",
    "url_tls = \"https://3dweb.geog.uni-heidelberg.de/helios_example_arboretum/2021-06-18_TLS_Arboretum_VZ-2000i_preprocessed.laz\"\n",
    "url_uls = \"https://3dweb.geog.uni-heidelberg.de//helios_example_arboretum/2021-08-17_ULS_Arboretum_AOI.laz\"\n",
    "\n",
    "download_data(data_tls, url_tls)\n",
    "download_data(data_uls, url_uls)"
   ]
  },
  {
   "cell_type": "markdown",
   "id": "09384e03",
   "metadata": {},
   "source": [
    "## Point cloud classification and DTM computation"
   ]
  },
  {
   "cell_type": "markdown",
   "id": "4cf02b3d",
   "metadata": {},
   "source": [
    "Next, we compute a digital terrain model (DTM), which we will model in HELIOS++ separately from the trees. We use the [python extension](https://github.com/PDAL/python) of the open source library [PDAL](https://pdal.io/) (Point Data Abstraction Library) to create the DTM."
   ]
  },
  {
   "cell_type": "markdown",
   "id": "3640a68f",
   "metadata": {},
   "source": [
    "First, we define our output filenames."
   ]
  },
  {
   "cell_type": "code",
   "execution_count": null,
   "id": "3006368a",
   "metadata": {},
   "outputs": [],
   "source": [
    "data_classified = data_tls.replace(\"preprocessed\", \"classified\")\n",
    "dtm_output = data_tls.replace(\"preprocessed.laz\", \"dtm_50cm.tif\")\n",
    "vegetation_output = data_tls.replace(\"preprocessed.laz\", \"vegetation.xyz\")"
   ]
  },
  {
   "cell_type": "markdown",
   "id": "c23f959e",
   "metadata": {},
   "source": [
    "We start by classifying the point cloud into ground and non-ground points using the Simple Morphological Filter (SMRF) (see also [Pingel et al. 2013](https://doi.org/10.1016/j.isprsjprs.2012.12.002))."
   ]
  },
  {
   "cell_type": "code",
   "execution_count": null,
   "id": "57af99c9",
   "metadata": {},
   "outputs": [],
   "source": [
    "json_classification = \"\"\"[\n",
    "    \"%s\",\n",
    "    {\n",
    "        \"type\":\"filters.smrf\",\n",
    "        \"ignore\":\"Classification[7:7]\",\n",
    "        \"window\":33,\n",
    "        \"slope\":0.2,\n",
    "        \"threshold\":0.5,\n",
    "        \"cell\":1.0\n",
    "    },\n",
    "    {\n",
    "        \"type\":\"filters.outlier\",\n",
    "        \"method\":\"statistical\",\n",
    "        \"mean_k\":8,\n",
    "        \"multiplier\":3.0\n",
    "    },\n",
    "    {\n",
    "        \"type\":\"writers.las\",\n",
    "        \"filename\": \"%s\",\n",
    "        \"compression\":\"true\"\n",
    "    }\n",
    "]\"\"\""
   ]
  },
  {
   "cell_type": "code",
   "execution_count": null,
   "id": "62aecdb9",
   "metadata": {},
   "outputs": [],
   "source": [
    "pipeline = pdal.Pipeline(json_classification % (data_tls, data_classified))\n",
    "count = pipeline.execute()"
   ]
  },
  {
   "cell_type": "markdown",
   "id": "bcef7b26",
   "metadata": {},
   "source": [
    "Then, we use only the ground points (class 2, according to the ASPRS Standard point classes of the [LAS format specification](http://www.asprs.org/wp-content/uploads/2019/07/LAS_1_4_r15.pdf), p. 19, Table 9) to create a DTM of 1 m resolution."
   ]
  },
  {
   "cell_type": "code",
   "execution_count": null,
   "id": "b15b8418",
   "metadata": {},
   "outputs": [],
   "source": [
    "json_dtm = \"\"\"[\n",
    "    \"%s\",\n",
    "    {\n",
    "        \"type\":\"filters.range\",\n",
    "        \"limits\":\"Classification[2:2]\"\n",
    "    },\n",
    "    {\n",
    "        \"type\":\"writers.gdal\",\n",
    "        \"filename\": \"%s\",\n",
    "        \"output_type\":\"min\",\n",
    "        \"gdaldriver\":\"GTiff\",\n",
    "        \"resolution\":1.0,\n",
    "        \"window_size\":8\n",
    "    }\n",
    "]\"\"\""
   ]
  },
  {
   "cell_type": "code",
   "execution_count": null,
   "id": "14dda156",
   "metadata": {},
   "outputs": [],
   "source": [
    "pipeline = pdal.Pipeline(json_dtm % (data_classified, dtm_output))\n",
    "count = pipeline.execute()"
   ]
  },
  {
   "cell_type": "markdown",
   "id": "e525e9b3",
   "metadata": {},
   "source": [
    "We also want to export the non-ground points (= vegetation points) to an ASCII format. "
   ]
  },
  {
   "cell_type": "code",
   "execution_count": null,
   "id": "651ac476",
   "metadata": {},
   "outputs": [],
   "source": [
    "json_vegetation = \"\"\"[\n",
    "    \"%s\",\n",
    "    {\n",
    "        \"type\":\"filters.range\",\n",
    "        \"limits\":\"Classification[0:1]\"\n",
    "    },\n",
    "    {\n",
    "        \"type\":\"writers.text\",\n",
    "        \"filename\": \"%s\",\n",
    "        \"order\":\"X,Y,Z\",\n",
    "        \"precision\":6,\n",
    "        \"keep_unspecified\":\"false\",\n",
    "        \"write_header\":\"false\"\n",
    "    }\n",
    "]\"\"\""
   ]
  },
  {
   "cell_type": "code",
   "execution_count": null,
   "id": "f7704a5e",
   "metadata": {},
   "outputs": [],
   "source": [
    "pipeline = pdal.Pipeline(json_vegetation % (data_classified, vegetation_output))\n",
    "count = pipeline.execute()"
   ]
  },
  {
   "cell_type": "markdown",
   "id": "84a63a67",
   "metadata": {},
   "source": [
    "Now we have all the **scenepart** files needed to build a survey: The DTM and the vegetation point cloud."
   ]
  },
  {
   "cell_type": "markdown",
   "id": "f66bfe36",
   "metadata": {},
   "source": [
    "## Writing the scene\n",
    "\n",
    "To perform the scene generation and flight planning, we will use the extra tool `flight_planner.py` which comes with HELIOS++. You can find it in the folder `extra` and import it with `from extra.flight_planner import *`. "
   ]
  },
  {
   "cell_type": "markdown",
   "id": "c6cedab4",
   "metadata": {},
   "source": [
    "Let's first move our **scenepart** files into a folder \"arboretum_hd\" in \"helios\\data\\sceneparts\":"
   ]
  },
  {
   "cell_type": "code",
   "execution_count": null,
   "id": "82344f0b",
   "metadata": {},
   "outputs": [],
   "source": [
    "scenepart_folder = Path(\"../data/sceneparts/arboretum_hd\")\n",
    "if not scenepart_folder.exists():\n",
    "    Path.mkdir(scenepart_folder)"
   ]
  },
  {
   "cell_type": "code",
   "execution_count": null,
   "id": "4d938e22",
   "metadata": {
    "scrolled": true
   },
   "outputs": [],
   "source": [
    "dtm_file = PurePath(scenepart_folder, PurePath(dtm_output).name)\n",
    "shutil.copy(dtm_output, dtm_file)"
   ]
  },
  {
   "cell_type": "code",
   "execution_count": null,
   "id": "409f3999",
   "metadata": {},
   "outputs": [],
   "source": [
    "vegetation_file = PurePath(scenepart_folder, PurePath(vegetation_output).name)\n",
    "shutil.copy(vegetation_output, vegetation_file)"
   ]
  },
  {
   "cell_type": "markdown",
   "id": "024aaf80",
   "metadata": {},
   "source": [
    "Next, we will assemble the **scene**. In the scene-folder (`helios\\data\\scenes`), let’s create a new folder which we will also call `arboretum_hd`. Here, we will create a new xml-file called `arboretum_VZ-2000i.xml`. "
   ]
  },
  {
   "cell_type": "code",
   "execution_count": null,
   "id": "9568cb82",
   "metadata": {},
   "outputs": [],
   "source": [
    "scene_folder = Path(\"../data/scenes/arboretum_hd\")\n",
    "if not scene_folder.exists():\n",
    "    Path.mkdir(scene_folder)"
   ]
  },
  {
   "cell_type": "code",
   "execution_count": null,
   "id": "a8f87b53",
   "metadata": {},
   "outputs": [],
   "source": [
    "dtm_part = create_scenepart_tiff(dtm_file)\n",
    "vegetation_part = create_scenepart_xyz(vegetation_file, sep=\",\", voxel_size=0.1)\n",
    "scene_id = \"arboretum\"\n",
    "scene_content = build_scene(id=scene_id, name=\"Arboretum\", sceneparts=[dtm_part, vegetation_part])"
   ]
  },
  {
   "cell_type": "code",
   "execution_count": null,
   "id": "d2ac451a",
   "metadata": {},
   "outputs": [],
   "source": [
    "print(scene_content)"
   ]
  },
  {
   "cell_type": "markdown",
   "id": "313937f8",
   "metadata": {},
   "source": [
    "The first `<part>` is the DTM, which is loaded with the `geotiffloader`.\n",
    "\n",
    "The second `<part>` is the vegetation, for which we voxelize the vegetation point cloud with a voxel size of 0.2 m using the `xyzloader`."
   ]
  },
  {
   "cell_type": "code",
   "execution_count": null,
   "id": "69bd0911",
   "metadata": {},
   "outputs": [],
   "source": [
    "scene_file = scene_folder / \"arboretum_VZ-2000i.xml\""
   ]
  },
  {
   "cell_type": "code",
   "execution_count": null,
   "id": "c36b5d8c",
   "metadata": {},
   "outputs": [],
   "source": [
    "with open(scene_file, \"w\") as f:\n",
    "    f.write(scene_content)"
   ]
  },
  {
   "cell_type": "markdown",
   "id": "20fb001d",
   "metadata": {},
   "source": [
    "## Configuring the survey"
   ]
  },
  {
   "cell_type": "markdown",
   "id": "1622d099",
   "metadata": {},
   "source": [
    "Now we have to configure the survey. We create another XML fille in the `surveys` folder (`helios/data/surveys`), which we may call `arboretum_uls.xml`."
   ]
  },
  {
   "cell_type": "code",
   "execution_count": null,
   "id": "7ef90f6b",
   "metadata": {},
   "outputs": [],
   "source": [
    "survey_file = \"../data/surveys/arboretum_uls.xml\""
   ]
  },
  {
   "cell_type": "markdown",
   "id": "311b446b",
   "metadata": {},
   "source": [
    "To perform the flight planning, we will also use `flight_planner.py`."
   ]
  },
  {
   "cell_type": "markdown",
   "id": "567e11f4",
   "metadata": {},
   "source": [
    "We first define the bounding box of our area of interest."
   ]
  },
  {
   "cell_type": "code",
   "execution_count": null,
   "id": "62a4b214",
   "metadata": {},
   "outputs": [],
   "source": [
    "bbox = [478845.830, 5471966.184, 478983.243, 5472121.949]"
   ]
  },
  {
   "cell_type": "markdown",
   "id": "1e43d318",
   "metadata": {},
   "source": [
    "Next, we create a flight plan for this bounding box for a given strip spacing, and flight pattern. We furthermore rotate this pattern by 45 degrees."
   ]
  },
  {
   "cell_type": "code",
   "execution_count": null,
   "id": "47711eef",
   "metadata": {},
   "outputs": [],
   "source": [
    "wp, c, dist = compute_flight_lines(bbox, spacing=30, rotate_deg=45, flight_pattern=\"criss-cross\")"
   ]
  },
  {
   "cell_type": "markdown",
   "id": "13ad4490",
   "metadata": {},
   "source": [
    "Let's visualize our flight plan and validate that it looks as expected."
   ]
  },
  {
   "cell_type": "code",
   "execution_count": null,
   "id": "68eee9bb",
   "metadata": {},
   "outputs": [],
   "source": [
    "plot = plot_flight_plan(wp)"
   ]
  },
  {
   "cell_type": "markdown",
   "id": "1e560aed",
   "metadata": {},
   "source": [
    "Now, we'll set the flying speed and the altitude."
   ]
  },
  {
   "cell_type": "code",
   "execution_count": null,
   "id": "6eceeeea",
   "metadata": {},
   "outputs": [],
   "source": [
    "speed = 5.0\n",
    "altitude = 465  # important: Absolute height, not height above ground!"
   ]
  },
  {
   "cell_type": "markdown",
   "id": "66e8131c",
   "metadata": {},
   "source": [
    "And export the legs for the survey XML-file."
   ]
  },
  {
   "cell_type": "code",
   "execution_count": null,
   "id": "f80b9c52",
   "metadata": {},
   "outputs": [],
   "source": [
    "legs = export_for_xml(wp, altitude=altitude, template_id=\"uls_template\", speed=speed)"
   ]
  },
  {
   "cell_type": "markdown",
   "id": "c9d1bbf4",
   "metadata": {},
   "source": [
    "We can now write our survey file:"
   ]
  },
  {
   "cell_type": "code",
   "execution_count": null,
   "id": "0ef72256",
   "metadata": {},
   "outputs": [],
   "source": [
    "survey_content = \"\"\"<?xml version=\"1.0\" encoding=\"UTF-8\"?>\n",
    "<document>\n",
    "\t<scannerSettings id=\"uls_template\" active=\"true\" scanAngle_deg=\"90\" pulseFreq_hz=\"100000\" scanFreq_hz=\"50\" />\n",
    "\t<survey name=\"Arboretum\" platform=\"data/platforms.xml#copter_linearpath\" scanner=\"data/scanners_als.xml#riegl_vux-1uav\" scene=\"{}#arboretum\">\n",
    "    {}\n",
    "\t</survey>\n",
    "</document>\n",
    "\n",
    "\"\"\".format(scene_file, legs)"
   ]
  },
  {
   "cell_type": "markdown",
   "id": "81018651",
   "metadata": {},
   "source": [
    "We define the default scanner settings in the first tag (`<scannerSettings ...>`). In the `<survey ...>` tag, we provide the scanner, platform, and scene that the survey should use. Then we need to write the individual legs between the opening and the closing survey tags to define the scanner location, movement and speed. \n",
    "\n",
    "We can now write our survey to the file:"
   ]
  },
  {
   "cell_type": "code",
   "execution_count": null,
   "id": "2feb43bd",
   "metadata": {},
   "outputs": [],
   "source": [
    "with open(survey_file, \"w\") as f:\n",
    "    f.write(survey_content)"
   ]
  },
  {
   "cell_type": "markdown",
   "id": "ee323b3a",
   "metadata": {},
   "source": [
    "Now we are ready to go. We can execute the survey from this notebook using the helios python bindings that we imported in the beginning of the notebook."
   ]
  },
  {
   "cell_type": "markdown",
   "id": "87084ece",
   "metadata": {},
   "source": [
    "Configure simulation context and build a simulation:"
   ]
  },
  {
   "cell_type": "code",
   "execution_count": null,
   "id": "214fe158",
   "metadata": {},
   "outputs": [],
   "source": [
    "# Sim context.\n",
    "# Set logging.\n",
    "pyhelios.loggingQuiet()\n",
    "# Set seed for random number generator.\n",
    "pyhelios.setDefaultRandomnessGeneratorSeed(\"123\")"
   ]
  },
  {
   "cell_type": "code",
   "execution_count": null,
   "id": "30a1d2f1",
   "metadata": {},
   "outputs": [],
   "source": [
    "# Build simulation parameters: (surveyPath, assetsPath, outputPath, ...).\n",
    "sim = pyhelios.Simulation(\n",
    "    str(survey_file),\n",
    "    'assets/',\n",
    "    'output/',\n",
    "    0,          # Num Threads\n",
    "    True,      # LAS output\n",
    "    False,     # LAS1.0 output\n",
    "    True,      # ZIP output\n",
    "    )\n",
    "\n",
    "# Enable final output.\n",
    "sim.finalOutput = True\n",
    "\n",
    "# Set sim frequency.\n",
    "sim.simFrequency = 10000"
   ]
  },
  {
   "cell_type": "markdown",
   "id": "a02097ea",
   "metadata": {},
   "source": [
    "Load survey file:"
   ]
  },
  {
   "cell_type": "code",
   "execution_count": null,
   "id": "68024f49",
   "metadata": {},
   "outputs": [],
   "source": [
    "# Load survey file. Further configuration of survey possible.\n",
    "sim.loadSurvey(\n",
    "        True,       # Leg Noise Disabled FLAG\n",
    "        False,      # Rebuild Scene FLAG\n",
    "        False,      # Write Waveform FLAG\n",
    "        False,      # Calc Echowidth FLAG\n",
    "        False,      # Full Wave Noise FLAG\n",
    "        True        # Platform Noise Disabled FLAG\n",
    "            )"
   ]
  },
  {
   "cell_type": "code",
   "execution_count": null,
   "id": "f8629433",
   "metadata": {},
   "outputs": [],
   "source": [
    "# Start the simulation.\n",
    "start_time = time.time()\n",
    "sim.start()\n",
    "\n",
    "if sim.isStarted():\n",
    "    print('Simulation has started!\\nSurvey Name: {survey_name}\\n{scanner_info}'.format(\n",
    "        survey_name = sim.getSurvey().name,\n",
    "        scanner_info = sim.getScanner().toString()))"
   ]
  },
  {
   "cell_type": "code",
   "execution_count": null,
   "id": "2ba453e2",
   "metadata": {},
   "outputs": [],
   "source": [
    "while sim.isRunning():\n",
    "    duration = time.time()-start_time\n",
    "    mins = duration // 60\n",
    "    secs = duration % 60\n",
    "    print(\"\\r\"+\"Simulation is running since {:d} min and {:d} sec. Please wait.\".format(mins, secs), end=\"\")\n",
    "    time.sleep(10)\n",
    "\n",
    "if sim.isFinished():\n",
    "    print(\"\\n\"+\"Simulation has finished!\")"
   ]
  },
  {
   "cell_type": "markdown",
   "id": "105c7073",
   "metadata": {},
   "source": [
    "Once the simulation is finished, we can process the outputs."
   ]
  },
  {
   "cell_type": "code",
   "execution_count": null,
   "id": "25ebbae9",
   "metadata": {},
   "outputs": [],
   "source": [
    "# Create instance of PyHeliosOutputWrapper class using sim.join(). \n",
    "# Contains attributes 'measurements' and 'trajectories' which are Python wrappers of classes that contain the output vectors.\n",
    "output = sim.join()\n",
    "\n",
    "# Create instances of vector classes by accessing 'measurements' and 'trajectories' attributes of output wrapper.\n",
    "measurements = output.measurements\n",
    "trajectories = output.trajectories\n",
    "\n",
    "# Get amount of points in trajectory and amount of measurements by accessing length of measurement and trajectory vectors.\n",
    "print('Number of measurements : {n}'.format(n=len(measurements)))\n",
    "print('Number of points in trajectory : {n}'.format(n=len(trajectories)))"
   ]
  },
  {
   "cell_type": "markdown",
   "id": "28169caf",
   "metadata": {},
   "source": [
    "The simulation outputs can be found in `helios\\output\\Survey Playback\\Arboretum\\YYYY-MM-DD_HH-MM-SS\\points`. For each run a folder will be created in the \"Arboretum\"-folder named by the timestamp of execution. There is one point cloud and trajecotry file for each flight strip."
   ]
  },
  {
   "cell_type": "markdown",
   "id": "e116a7c6",
   "metadata": {},
   "source": [
    "## Plot the point cloud and trajectory\n",
    "\n",
    "To visualize the output, we can make use of **pyheliostools**, a library of functions associated with pyhelios. It should be included in your helios package. Specifically, we will use the function **outputToNumpy**, which saves both measurement and trajectory data as numpy Arrays We already imported it in the beginning of the notebook."
   ]
  },
  {
   "cell_type": "code",
   "execution_count": null,
   "id": "2cb92b12",
   "metadata": {},
   "outputs": [],
   "source": [
    "# Output is two np.arrays. One for measurements and one for trajectory points.\n",
    "measurement_points, trajectory_points = outputToNumpy(output)"
   ]
  },
  {
   "cell_type": "markdown",
   "id": "19bbe3b6",
   "metadata": {},
   "source": [
    "We saw earlier, that we simulated more than 9 million points. Let's subsample them for plotting and show only every 50th point. "
   ]
  },
  {
   "cell_type": "code",
   "execution_count": null,
   "id": "1dd17bea",
   "metadata": {},
   "outputs": [],
   "source": [
    "# Points to be plotted:\n",
    "# First three cols are x, y and z vals\n",
    "traj_points=trajectory_points[:,:3]\n",
    "points = measurement_points[::50,:3]"
   ]
  },
  {
   "cell_type": "code",
   "execution_count": null,
   "id": "1ff7f6c2",
   "metadata": {},
   "outputs": [],
   "source": [
    "def set_axes_equal(ax):\n",
    "    '''Make axes of 3D plot have equal scale so that spheres appear as spheres,\n",
    "    cubes as cubes, etc..  This is one possible solution to Matplotlib's\n",
    "    ax.set_aspect('equal') and ax.axis('equal') not working for 3D.\n",
    "\n",
    "    Input\n",
    "      ax: a matplotlib axis, e.g., as output from plt.gca().\n",
    "    '''\n",
    "\n",
    "    x_limits = ax.get_xlim3d()\n",
    "    y_limits = ax.get_ylim3d()\n",
    "    z_limits = ax.get_zlim3d()\n",
    "\n",
    "    x_range = abs(x_limits[1] - x_limits[0])\n",
    "    x_middle = np.mean(x_limits)\n",
    "    y_range = abs(y_limits[1] - y_limits[0])\n",
    "    y_middle = np.mean(y_limits)\n",
    "    z_range = abs(z_limits[1] - z_limits[0])\n",
    "    z_middle = np.mean(z_limits)\n",
    "\n",
    "    # The plot bounding box is a sphere in the sense of the infinity\n",
    "    # norm, hence I call half the max range the plot radius.\n",
    "    plot_radius = 0.5*max([x_range, y_range, z_range])\n",
    "\n",
    "    ax.set_xlim3d([x_middle - plot_radius, x_middle + plot_radius])\n",
    "    ax.set_ylim3d([y_middle - plot_radius, y_middle + plot_radius])\n",
    "    ax.set_zlim3d([z_middle - plot_radius, z_middle + plot_radius])"
   ]
  },
  {
   "cell_type": "code",
   "execution_count": null,
   "id": "3dcebb50",
   "metadata": {},
   "outputs": [],
   "source": [
    "# Matplotlib figure.\n",
    "fig = plt.figure()\n",
    "# Axes3d axis onto mpl figure.\n",
    "ax = fig.add_subplot(projection='3d')\n",
    "\n",
    "# Scatter plot of points (coloured by height).\n",
    "ax.scatter(points[:, 0], points[:, 1], points[:, 2], c=points[:, 2], cmap=\"rainbow\", s=0.02, label='scene')\n",
    "# Plot of trajectory.\n",
    "ax.plot(traj_points[:,0], traj_points[:,1], traj_points[:,2], c = 'black', label = 'scanner trajectory')\n",
    "\n",
    "# Add axis labels.\n",
    "ax.set_xlabel('$X$')\n",
    "ax.set_ylabel('$Y$')\n",
    "ax.set_zlabel('$Z$')\n",
    "\n",
    "set_axes_equal(ax)\n",
    "\n",
    "# Set title.\n",
    "ax.set_title(label='Point cloud and trajectory from pyhelios simulation in Heidelberg')\n",
    "# Set subtitle.\n",
    "ax.text2D(0.1, 0.97, \"survey: {s}\".format(s=sim.getSurvey().name, n=len(trajectories)),\n",
    "                                                                              fontsize='8', transform=ax.transAxes)\n",
    "ax.view_init(elev=10, azim=145)\n",
    "\n",
    "# Display results\n",
    "plt.show()"
   ]
  },
  {
   "cell_type": "markdown",
   "id": "a988e677",
   "metadata": {},
   "source": [
    "Let's extract a section of the original and the simulated point cloud..."
   ]
  },
  {
   "cell_type": "code",
   "execution_count": null,
   "id": "e30a4eb4",
   "metadata": {},
   "outputs": [],
   "source": [
    "xmin, ymin, xmax, ymax = [478894.3, 5472000.0, 478899.3, 5472100.0]\n",
    "\n",
    "section_sim = measurement_points[(measurement_points[:, 0] > xmin) & \n",
    "                                 (measurement_points[:, 0] < xmax) & \n",
    "                                 (measurement_points[:, 1] > ymin) & \n",
    "                                 (measurement_points[:, 1] < ymax)]\n",
    "import laspy\n",
    "with laspy.open(data_uls) as f:\n",
    "    las = f.read()\n",
    "\n",
    "    arr = np.vstack((las.x, las.y, las.z)).transpose()\n",
    "    section_or = arr[(arr[:, 0] > xmin) & \n",
    "                     (arr[:, 0] < xmax) & \n",
    "                     (arr[:, 1] > ymin) & \n",
    "                     (arr[:, 1] < ymax)]"
   ]
  },
  {
   "cell_type": "markdown",
   "id": "90bc332f",
   "metadata": {},
   "source": [
    "... and plot this:"
   ]
  },
  {
   "cell_type": "code",
   "execution_count": null,
   "id": "7bad70ea",
   "metadata": {
    "scrolled": true
   },
   "outputs": [],
   "source": [
    "# Matplotlib figure.\n",
    "fig = plt.figure(figsize=(9,5))\n",
    "# Axes3d axis onto mpl figure.\n",
    "ax = fig.add_subplot()\n",
    "\n",
    "# Scatter plot of original and simulated points in different colors\n",
    "ax.scatter(section_or[:, 1], section_or[:, 2], c=\"orange\", s=0.01)\n",
    "ax.scatter(section_sim[:, 1], section_sim[:, 2], c=\"cornflowerblue\", s=0.01)\n",
    "\n",
    "# Add axis labels.\n",
    "ax.set_xlabel('$X$')\n",
    "ax.set_ylabel('$Y$')\n",
    "ax.axis('equal')\n",
    "\n",
    "# Set title.\n",
    "from textwrap import wrap\n",
    "title = ax.set_title(\"\\n\".join(wrap(\"Point cloud of a section through the original and simulated ULS point clouds.\", 50)))\n",
    "\n",
    "plt.show()"
   ]
  },
  {
   "cell_type": "markdown",
   "id": "4cf1ce24",
   "metadata": {},
   "source": [
    "Let's create another plot where we can see the point clouds side by side."
   ]
  },
  {
   "cell_type": "code",
   "execution_count": null,
   "id": "8593b188",
   "metadata": {},
   "outputs": [],
   "source": [
    "fig, axs = plt.subplots(2, 1, figsize=(8,12))\n",
    "axs[0].scatter(section_or[:, 1], section_or[:, 2], color=\"orange\", s=0.01)\n",
    "axs[0].set_title(\"Original point cloud\")\n",
    "axs[0].axis(\"equal\")\n",
    "#plt.subplot(212)\n",
    "axs[1].scatter(section_sim[:, 1], section_sim[:, 2], color=\"cornflowerblue\", s=0.01)\n",
    "axs[1].set_title(\"Simulated point cloud\")\n",
    "axs[1].axis(\"equal\")\n",
    "fig.subplots_adjust(hspace=0.2)\n",
    "plt.show()"
   ]
  },
  {
   "cell_type": "markdown",
   "id": "65100068",
   "metadata": {},
   "source": [
    "We can see some differences in the simulated point clouds, especially the upper canopy. In the input TLS point clouds, there are occluded areas and areas with low point density in the upper canopy. This will result in an \"incomplete\" or sparse voxel model of some tree crowns, which of course propagates into the simulated point cloud."
   ]
  }
 ],
 "metadata": {
  "kernelspec": {
   "display_name": "Python 3 (ipykernel)",
   "language": "python",
   "name": "python3"
  },
  "language_info": {
   "codemirror_mode": {
    "name": "ipython",
    "version": 3
   },
   "file_extension": ".py",
   "mimetype": "text/x-python",
   "name": "python",
   "nbconvert_exporter": "python",
   "pygments_lexer": "ipython3",
   "version": "3.8.12"
  }
 },
 "nbformat": 4,
 "nbformat_minor": 5
}
