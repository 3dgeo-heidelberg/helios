{
 "cells": [
  {
   "cell_type": "markdown",
   "id": "0",
   "metadata": {},
   "source": [
    "# New Helios++ Python API"
   ]
  },
  {
   "cell_type": "markdown",
   "id": "1",
   "metadata": {},
   "source": [
    "This is the SSC write-up of the current state of the new Python API. It is not intended as a final, user-facing documentation. Instead, it is a response to the API mockup produced by the Helios developers in spring 2024. We have not implemented your write-up 1:1 but used it guide our design. Reasons to deviate are either technical or because we see an even better alternative."
   ]
  },
  {
   "cell_type": "markdown",
   "id": "2",
   "metadata": {},
   "source": [
    "## Loading and running surveys from XML (Use Case 1)"
   ]
  },
  {
   "cell_type": "markdown",
   "id": "3",
   "metadata": {},
   "source": [
    "Most user-facing objects can be import directly from the `helios` package:"
   ]
  },
  {
   "cell_type": "code",
   "execution_count": null,
   "id": "4",
   "metadata": {},
   "outputs": [],
   "source": [
    "import helios\n",
    "import numpy as np"
   ]
  },
  {
   "cell_type": "markdown",
   "id": "5",
   "metadata": {},
   "source": [
    "Construction of objects is done via `classmethod`s - allowing multiple such methods:"
   ]
  },
  {
   "cell_type": "code",
   "execution_count": null,
   "id": "6",
   "metadata": {},
   "outputs": [],
   "source": [
    "survey = helios.Survey.from_xml(\"./data/surveys/toyblocks/tls_toyblocks.xml\")"
   ]
  },
  {
   "cell_type": "markdown",
   "id": "7",
   "metadata": {},
   "source": [
    "The survey object exposes many interesting linked things as properties (like `scanner`, `scene`, `platform`, `legs` etc.). In the use case of loading from XML this is not super interesting yet:"
   ]
  },
  {
   "cell_type": "code",
   "execution_count": null,
   "id": "8",
   "metadata": {},
   "outputs": [],
   "source": [
    "survey.scanner"
   ]
  },
  {
   "cell_type": "markdown",
   "id": "9",
   "metadata": {},
   "source": [
    "We can run the survey by using the `run()` method. It accepts both `execution_settings` and `output_settings` as parameters. The execution setting combine everything related to the *execution* of the survey, so these parameters do not modify the results of the computation. Instead they modify how exactly that results is calculated. Examples of execution settings are e.g. number of threads, parallelization strategtes, logging or KDTree options. You can instantiate these execution settings as objects, if you want to pass them around. The `ExecutionSettings` class, like all other classes in the API, has `dataclass`-like behaviour. So you can pass parameters to `__init__` or set them as properties later:"
   ]
  },
  {
   "cell_type": "code",
   "execution_count": null,
   "id": "10",
   "metadata": {},
   "outputs": [],
   "source": [
    "exec_settings = helios.ExecutionSettings(num_threads=1)"
   ]
  },
  {
   "cell_type": "code",
   "execution_count": null,
   "id": "11",
   "metadata": {},
   "outputs": [],
   "source": [
    "exec_settings.num_threads = 2"
   ]
  },
  {
   "cell_type": "markdown",
   "id": "12",
   "metadata": {},
   "source": [
    "Also, we enforce `pydantic`-based validation on all properties of all objects in the new API. This leads to early errors for malformed input:"
   ]
  },
  {
   "cell_type": "code",
   "execution_count": null,
   "id": "13",
   "metadata": {},
   "outputs": [],
   "source": [
    "exec_settings.num_threads = 0"
   ]
  },
  {
   "cell_type": "code",
   "execution_count": null,
   "id": "14",
   "metadata": {},
   "outputs": [],
   "source": [
    "exec_settings = None"
   ]
  },
  {
   "cell_type": "markdown",
   "id": "15",
   "metadata": {},
   "source": [
    "Similar to `ExecutionSettings`, the `OutputSettings` class controls how the generated point cloud is stored and/or returned to the user. Its most important parameter is `format` whose values are a string enum `OutputFormat`. Possible values are `OutputFormat.LAS`, `OutputFormat.LAZ`, `OutputFormat.XYZ`, `OutputFormat.NPY` and `OutputFormat.LASPY`."
   ]
  },
  {
   "cell_type": "code",
   "execution_count": null,
   "id": "16",
   "metadata": {},
   "outputs": [],
   "source": [
    "output_settings = helios.OutputSettings(format=helios.OutputFormat.NPY)"
   ]
  },
  {
   "cell_type": "markdown",
   "id": "17",
   "metadata": {},
   "source": [
    "Our instances of `execution_settings` and `output_settings` can now be passed to `survey.run`:"
   ]
  },
  {
   "cell_type": "code",
   "execution_count": null,
   "id": "18",
   "metadata": {},
   "outputs": [],
   "source": [
    "points, trajectory = survey.run(\n",
    "    execution_settings=exec_settings, output_settings=output_settings\n",
    ")"
   ]
  },
  {
   "cell_type": "markdown",
   "id": "19",
   "metadata": {},
   "source": [
    "For convenience, you can also pass individual settings directly into `survey.run`. This makes changing one or two parameters much more readable, but also allows you to organize settings into reusable objects:"
   ]
  },
  {
   "cell_type": "code",
   "execution_count": null,
   "id": "20",
   "metadata": {},
   "outputs": [],
   "source": [
    "points, trajectory = survey.run(format=helios.OutputFormat.NPY)"
   ]
  },
  {
   "cell_type": "markdown",
   "id": "21",
   "metadata": {},
   "source": [
    "With the output format being `OutputFormat.NPY`, we receive a `numpy` array of structured dtype containing all the columns that we have available on the C++ side:"
   ]
  },
  {
   "cell_type": "code",
   "execution_count": null,
   "id": "22",
   "metadata": {},
   "outputs": [],
   "source": [
    "points"
   ]
  },
  {
   "cell_type": "markdown",
   "id": "23",
   "metadata": {},
   "source": [
    "This allows us to use square bracket indexing to extract a column like this:"
   ]
  },
  {
   "cell_type": "code",
   "execution_count": null,
   "id": "24",
   "metadata": {},
   "outputs": [],
   "source": [
    "points[\"position\"]"
   ]
  },
  {
   "cell_type": "code",
   "execution_count": null,
   "id": "25",
   "metadata": {},
   "outputs": [],
   "source": [
    "points[\"intensity\"]"
   ]
  },
  {
   "cell_type": "markdown",
   "id": "26",
   "metadata": {},
   "source": [
    "The `trajectories` bit of the return gives trajectory information for ALS, but returns `None` for TLS. For `OutputFormat.NPY` and `OutputFormat.LASPY`, we receive an in-memory representation of the point cloud. For the file-based output formats, we instead receive the directory, where the data has been written:"
   ]
  },
  {
   "cell_type": "code",
   "execution_count": null,
   "id": "27",
   "metadata": {},
   "outputs": [],
   "source": [
    "output = survey.run(format=helios.OutputFormat.XYZ, output_dir=\"demo-output\")"
   ]
  },
  {
   "cell_type": "code",
   "execution_count": null,
   "id": "28",
   "metadata": {},
   "outputs": [],
   "source": [
    "output"
   ]
  },
  {
   "cell_type": "markdown",
   "id": "29",
   "metadata": {},
   "source": [
    "If we look at an ALS survey, we can see that also the trajectory data is returned as a structured dtype array:"
   ]
  },
  {
   "cell_type": "code",
   "execution_count": null,
   "id": "30",
   "metadata": {},
   "outputs": [],
   "source": [
    "survey = helios.Survey.from_xml(\"./data/surveys/toyblocks/als_toyblocks.xml\")"
   ]
  },
  {
   "cell_type": "code",
   "execution_count": null,
   "id": "31",
   "metadata": {},
   "outputs": [],
   "source": [
    "points, trajectory = survey.run(format=helios.OutputFormat.NPY)"
   ]
  },
  {
   "cell_type": "code",
   "execution_count": null,
   "id": "32",
   "metadata": {},
   "outputs": [],
   "source": [
    "trajectory"
   ]
  },
  {
   "cell_type": "markdown",
   "id": "33",
   "metadata": {},
   "source": [
    "Again, we can extract columns from that using square brackets:"
   ]
  },
  {
   "cell_type": "code",
   "execution_count": null,
   "id": "34",
   "metadata": {},
   "outputs": [],
   "source": [
    "trajectory[\"gps_time\"]"
   ]
  },
  {
   "cell_type": "markdown",
   "id": "35",
   "metadata": {},
   "source": [
    "**TODOs aus Use Case 1**:\n",
    "* FullWaveForm settings\n",
    "* Ensure that all output and execution settings are actually functional"
   ]
  },
  {
   "cell_type": "markdown",
   "id": "36",
   "metadata": {},
   "source": [
    "## Compose survey in Python with XML-loaded components (Use Case 2)"
   ]
  },
  {
   "cell_type": "markdown",
   "id": "37",
   "metadata": {},
   "source": [
    "All relevant objects behave similar to `Survey` in the sense that they can be loaded with `from_xml` and have their properties modified (and have them validated). For scanners and platforms, whose XML definitions are packaged with Helios++, we also provide functions in the `helios.scanner` and `helios.platforms` modules that directly instantiate the relevant scanners:"
   ]
  },
  {
   "cell_type": "code",
   "execution_count": null,
   "id": "38",
   "metadata": {},
   "outputs": [],
   "source": [
    "scene = helios.StaticScene.from_xml(\"data/scenes/demo/box_scene.xml\")"
   ]
  },
  {
   "cell_type": "code",
   "execution_count": null,
   "id": "39",
   "metadata": {},
   "outputs": [],
   "source": [
    "from helios.scanner import riegl_vz_400\n",
    "from helios.platforms import tripod"
   ]
  },
  {
   "cell_type": "code",
   "execution_count": null,
   "id": "40",
   "metadata": {},
   "outputs": [],
   "source": [
    "scanner = riegl_vz_400()\n",
    "platform = tripod()"
   ]
  },
  {
   "cell_type": "markdown",
   "id": "41",
   "metadata": {},
   "source": [
    "With these objects, we can go ahead and define the survey object:"
   ]
  },
  {
   "cell_type": "code",
   "execution_count": null,
   "id": "42",
   "metadata": {},
   "outputs": [],
   "source": [
    "survey = helios.Survey(scanner=scanner, platform=platform, scene=scene)"
   ]
  },
  {
   "cell_type": "markdown",
   "id": "43",
   "metadata": {},
   "source": [
    "We could have also added legs directly here via the property `legs`, but there is a convenience method `add_leg` on the survey for that. It takes either a pre-instantiated `helios.Leg` object or `scanner_settings` and `platform_settings`. These settings work very similar to `Survey.run`'s settings in the sense that you can either pass them as an object or individually - what ever produces more readable code for you:"
   ]
  },
  {
   "cell_type": "code",
   "execution_count": null,
   "id": "44",
   "metadata": {},
   "outputs": [],
   "source": [
    "scanner_settings = helios.ScannerSettings(pulse_frequency=2000, scan_frequency=200)"
   ]
  },
  {
   "cell_type": "markdown",
   "id": "45",
   "metadata": {},
   "source": [
    "To solve any incompatibilities from properties with units, we implemented inputs with attached units based on the Python package `pint`. Units are however, resolved and converted on the input validation layer. Pint unit expressions can either be expressed as strings or by multiplying with units from the `helios.units` object. So for example you could use the following:"
   ]
  },
  {
   "cell_type": "code",
   "execution_count": null,
   "id": "46",
   "metadata": {},
   "outputs": [],
   "source": [
    "scanner_settings.rotation_start_angle = \"0 deg\"\n",
    "scanner_settings.rotation_stop_angle = 10 * helios.units.deg\n",
    "scanner_settings.head_rotation = \"10 deg/s\""
   ]
  },
  {
   "cell_type": "markdown",
   "id": "47",
   "metadata": {},
   "source": [
    "We could also define `PlatformSettings` as an object, but here we feed the relevant bits directly into `survey.add_leg`:"
   ]
  },
  {
   "cell_type": "code",
   "execution_count": null,
   "id": "48",
   "metadata": {},
   "outputs": [],
   "source": [
    "survey.add_leg(scanner_settings=scanner_settings, x=0, y=0, z=0)"
   ]
  },
  {
   "cell_type": "code",
   "execution_count": null,
   "id": "49",
   "metadata": {},
   "outputs": [],
   "source": [
    "points, trajectories = survey.run()"
   ]
  },
  {
   "cell_type": "markdown",
   "id": "50",
   "metadata": {},
   "source": [
    "As the definition of legs often requires varying only a few parameters, while keeping many others, the original Helios API discussion contained also ideas of adding interfaces to add multiple legs with caried parameters. We propose a simpler interface that leverages the availability of a high level programming language to resolve the parameter variability and then just use the `add_leg` call in a loop. The utility function `helios.combine_parameters` implements the expansion of parameters:"
   ]
  },
  {
   "cell_type": "code",
   "execution_count": null,
   "id": "51",
   "metadata": {},
   "outputs": [],
   "source": [
    "for params in helios.combine_parameters(x=[0, 1]):\n",
    "    print(params)"
   ]
  },
  {
   "cell_type": "markdown",
   "id": "52",
   "metadata": {},
   "source": [
    "If you give multiple parameters, by default you build the product space:"
   ]
  },
  {
   "cell_type": "code",
   "execution_count": null,
   "id": "53",
   "metadata": {},
   "outputs": [],
   "source": [
    "for params in helios.combine_parameters(x=[0, 1], y=[0, 1]):\n",
    "    print(params)"
   ]
  },
  {
   "cell_type": "markdown",
   "id": "54",
   "metadata": {},
   "source": [
    "However, you can control via the `groups` parameter which parameter ranges should be zipped together, instead of building a product:"
   ]
  },
  {
   "cell_type": "code",
   "execution_count": null,
   "id": "55",
   "metadata": {},
   "outputs": [],
   "source": [
    "for params in helios.combine_parameters(\n",
    "    x=[0, 1], y=[0, 1], z=[10, 20], groups=[[\"x\", \"y\"], [\"z\"]]\n",
    "):\n",
    "    print(params)"
   ]
  },
  {
   "cell_type": "markdown",
   "id": "56",
   "metadata": {},
   "source": [
    "In fact the function even allows us to define string parameters that use Python format string expressions. They will be formatted against the expanded parameters:"
   ]
  },
  {
   "cell_type": "code",
   "execution_count": null,
   "id": "57",
   "metadata": {},
   "outputs": [],
   "source": [
    "for params in helios.combine_parameters(x=[0, 1], coordinate=\"x={x}\"):\n",
    "    print(params)"
   ]
  },
  {
   "cell_type": "markdown",
   "id": "58",
   "metadata": {},
   "source": [
    "We hope that this utility function will be useful in a lot of contexts that involve variability of parameters and allows us to keep parameter variability out of the actual interfaces."
   ]
  },
  {
   "cell_type": "markdown",
   "id": "59",
   "metadata": {},
   "source": [
    "**TODOs aus Use Case 2**:\n",
    "* Trajectory Input for ALS (currently implemented)"
   ]
  },
  {
   "cell_type": "markdown",
   "id": "60",
   "metadata": {},
   "source": [
    "## Run survey multiple times with varied settings (Use Case 3)"
   ]
  },
  {
   "cell_type": "markdown",
   "id": "61",
   "metadata": {},
   "source": [
    "This will mostly be done via the above `combine_parameters` function and the power of the Python programming language."
   ]
  },
  {
   "cell_type": "markdown",
   "id": "62",
   "metadata": {},
   "source": [
    "## Construct scenes in Python (Use Case 4)"
   ]
  },
  {
   "cell_type": "markdown",
   "id": "63",
   "metadata": {},
   "source": [
    "The `ScenePart` object behaves like the other objects we have seen before. However, we do not only have a construction method `from_xml`, but also `from_obj`:"
   ]
  },
  {
   "cell_type": "code",
   "execution_count": null,
   "id": "64",
   "metadata": {},
   "outputs": [],
   "source": [
    "part = helios.ScenePart.from_obj(\"data/sceneparts/basic/box/box.obj\")"
   ]
  },
  {
   "cell_type": "markdown",
   "id": "65",
   "metadata": {},
   "source": [
    "Parts can then be composed into scenes:"
   ]
  },
  {
   "cell_type": "code",
   "execution_count": null,
   "id": "66",
   "metadata": {},
   "outputs": [],
   "source": [
    "scene = helios.StaticScene(scene_parts=[part])"
   ]
  },
  {
   "cell_type": "markdown",
   "id": "67",
   "metadata": {},
   "source": [
    "If you want to apply transformations to a scene part you can chain them together and they will be performed in exactly the given order (this is called *fluent programming*):"
   ]
  },
  {
   "cell_type": "code",
   "execution_count": null,
   "id": "68",
   "metadata": {},
   "outputs": [],
   "source": [
    "part = (\n",
    "    helios.ScenePart.from_obj(\"data/sceneparts/basic/box/box.obj\")\n",
    "    .scale(2.0)\n",
    "    .translate(np.array([1.0, 0.0, 0.0]))\n",
    "    .rotate(origin=np.array([1.0, 0.0, 0.0]), image=np.array([0.0, 1.0, 0.0]))\n",
    ")"
   ]
  },
  {
   "cell_type": "markdown",
   "id": "69",
   "metadata": {},
   "source": [
    "Note that rotations can be defined in 3 different ways: Quaternions, Axis + Angle, Origin + Image vector."
   ]
  },
  {
   "cell_type": "markdown",
   "id": "70",
   "metadata": {},
   "source": [
    "**TODOs aus Use Case 4**:\n",
    "* Add `from_tiff`\n",
    "* Add `from_xyz`\n",
    "* Add `from_o3d`"
   ]
  },
  {
   "cell_type": "markdown",
   "id": "71",
   "metadata": {},
   "source": [
    "## Change scenes between survey runs (Use Case 5)"
   ]
  },
  {
   "cell_type": "markdown",
   "id": "72",
   "metadata": {},
   "source": [
    "We have not experimented with this yet. I expect this to be more a problem of defining precise semantics and asserting them than anything else. In general, we would try to offload as much as possible to the power of the Python programming language. E.g. what is currently done with the *swap on repeat* feature, I can imagine is much easier implemented by programmatically enabling/disabling/transforming scene parts."
   ]
  },
  {
   "cell_type": "markdown",
   "id": "73",
   "metadata": {},
   "source": [
    "## Custom Scanners (Use Case 6)"
   ]
  },
  {
   "cell_type": "markdown",
   "id": "74",
   "metadata": {},
   "source": [
    "We have not currently done this due to a lack of priority. I think if we only talk about exposing the configuration for scanners, then this should be absolutely possible with reasonable effort. In contrast, allowing new optics types to be added would be **much** more difficult and also destroy performance - so I would opt out of implementing this."
   ]
  },
  {
   "cell_type": "markdown",
   "id": "75",
   "metadata": {},
   "source": [
    "## Helios Live (Use Case 7)"
   ]
  },
  {
   "cell_type": "markdown",
   "id": "76",
   "metadata": {},
   "source": [
    "We did not implement this yet, but the bigger feature support this would be custom callbacks that can be passed to `Survey.run`."
   ]
  },
  {
   "cell_type": "markdown",
   "id": "77",
   "metadata": {},
   "source": [
    "## Dynamic Scenes (Use Case 8)"
   ]
  },
  {
   "cell_type": "markdown",
   "id": "78",
   "metadata": {},
   "source": [
    "We have not thought about these yet. My guess is that similar to how `SceneParts` are transformed with fluent programming, their motion should also be recorded in such a way. It is quite likely that this interface will very new."
   ]
  },
  {
   "cell_type": "markdown",
   "id": "79",
   "metadata": {},
   "source": [
    "## Things that were not mentioned in Use Cases"
   ]
  },
  {
   "cell_type": "markdown",
   "id": "80",
   "metadata": {},
   "source": [
    "We will look into *serialization* soon - allowing data to be dumped into new file formats. The general idea would be that classes receive methods `to_dict`, `to_yaml`, `to_json` etc. and their `from_*` counterparts. This will hopefully allow us a controlled move from XML to newer filer formats. We would start versioning these new file formats from day 1. XML would stick around as an input source for a while, but would not receive updates when the new format advances."
   ]
  },
  {
   "cell_type": "code",
   "execution_count": null,
   "id": "81",
   "metadata": {},
   "outputs": [],
   "source": []
  }
 ],
 "metadata": {
  "kernelspec": {
   "display_name": "Python 3 (ipykernel)",
   "language": "python",
   "name": "python3"
  },
  "language_info": {
   "codemirror_mode": {
    "name": "ipython",
    "version": 3
   },
   "file_extension": ".py",
   "mimetype": "text/x-python",
   "name": "python",
   "nbconvert_exporter": "python",
   "pygments_lexer": "ipython3",
   "version": "3.13.1"
  }
 },
 "nbformat": 4,
 "nbformat_minor": 5
}
